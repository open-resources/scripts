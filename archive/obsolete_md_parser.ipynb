{
 "cells": [
  {
   "cell_type": "markdown",
   "metadata": {},
   "source": [
    "# Convert from md format to instructor version and public version"
   ]
  },
  {
   "cell_type": "code",
   "execution_count": 1,
   "metadata": {},
   "outputs": [],
   "source": [
    "import yaml\n",
    "from pathlib import Path\n",
    "import sys\n",
    "import numpy as np"
   ]
  },
  {
   "cell_type": "code",
   "execution_count": 2,
   "metadata": {},
   "outputs": [],
   "source": [
    "# deal with multi-line strings in YAML Dump\n",
    "## Code copied from here: https://stackoverflow.com/a/33300001/2217577\n",
    "\n",
    "def str_presenter(dumper, data):\n",
    "    if len(data.splitlines()) > 1:  # check for multiline string\n",
    "        return dumper.represent_scalar('tag:yaml.org,2002:str', data, style='|')\n",
    "    return dumper.represent_scalar('tag:yaml.org,2002:str', data)\n",
    "\n",
    "yaml.add_representer(str, str_presenter)"
   ]
  },
  {
   "cell_type": "markdown",
   "metadata": {},
   "source": [
    "## Declare functions"
   ]
  },
  {
   "cell_type": "code",
   "execution_count": 3,
   "metadata": {},
   "outputs": [],
   "source": [
    "def rounded(num, digits_after_decimal = 2):\n",
    "    \n",
    "    \"\"\"\n",
    "    Rounding as expected by normal sensible people.\n",
    "    \n",
    "    This needs to be heavily tested!!\n",
    "    \n",
    "    WARNING: This does not do sig figs yet!\n",
    "    \n",
    "    \"\"\"\n",
    "\n",
    "    # Solution copied from: https://stackoverflow.com/a/53329223\n",
    "\n",
    "    from decimal import Decimal, getcontext, ROUND_HALF_UP\n",
    "\n",
    "    round_context = getcontext()\n",
    "    round_context.rounding = ROUND_HALF_UP\n",
    "        \n",
    "    tmp = Decimal(num).quantize(Decimal('1.'+'0'*digits_after_decimal))\n",
    "    \n",
    "    return str(tmp)"
   ]
  },
  {
   "cell_type": "markdown",
   "metadata": {},
   "source": [
    "## Turn the interactive code (at the bottom of this notebook) into a function"
   ]
  },
  {
   "cell_type": "code",
   "execution_count": 4,
   "metadata": {},
   "outputs": [],
   "source": [
    "import yaml\n",
    "from pathlib import Path\n",
    "import sys\n",
    "import numpy as np\n",
    "\n",
    "def process_source_files(source_file, instructor=True, prairielearn=False, public=True, qti=False, webwork=False):\n",
    "    \"\"\"\n",
    "    Inputs:\n",
    "    \n",
    "    - path to source file\n",
    "    - output types\n",
    "    \n",
    "    Outputs:\n",
    "    \n",
    "    - processed files to each of the output types\n",
    "    \"\"\"\n",
    "    \n",
    "    header = yaml.safe_load(Path(source_file).read_text().split(\"---\\n# {{\")[0]) # This code only takes the YAML header portion\n",
    "    \n",
    "    # populate the data dictionary after running generate function\n",
    "    data={'params':{},\n",
    "          'vars': {}}\n",
    "\n",
    "    ## TODO: Is there a better way to do this?\n",
    "    exec(header['server'])\n",
    "\n",
    "    # This is a Completely incomrephensible dictionary comprehension\n",
    "    # All this does is take every number in the data['params'] dictionary, and turns it into a sensibly rounded number, \n",
    "    # It also leaves strings as-is (like correct-answer)\n",
    "\n",
    "    data['params'] = {key : rounded(data['params'][key], digits_after_decimal=data[\"vars\"][\"digits_after_decimal\"]) if type(data['params'][key]) != str else data['params'][key] for key in data['params']}\n",
    "\n",
    "    # Prepare file for export\n",
    "    part1 = '---\\n'\n",
    "    part3 = '---'\n",
    "    part4 = Path(source_file).read_text().split(\"---\")[2]\n",
    "    \n",
    "    if instructor:\n",
    "        \n",
    "        # Load the header of the file again\n",
    "        instructor_header = yaml.safe_load(Path(source_file).read_text().split(\"---\\n# {{\")[0]) # This code only takes the YAML header portion\n",
    "        \n",
    "        # Update the YAML header to add substitutions \n",
    "        instructor_header.update({'substitutions':data})\n",
    "        \n",
    "        # Update the YAML header to add substitutions, unsort it, and process for file\n",
    "        instructor_header = yaml.dump(instructor_header,sort_keys=False,default_flow_style=False)\n",
    "\n",
    "        part2 = instructor_header\n",
    "\n",
    "        # Write the YAML to a file\n",
    "        path = Path(source_file.replace('source','output/instructor'))\n",
    "        path.parent.mkdir(parents=True, exist_ok=True)\n",
    "        path.write_text(part1 + part2 + part3 + part4)\n",
    "        \n",
    "    if public:\n",
    "        \n",
    "        sanitized_header = yaml.safe_load(Path(source_file).read_text().split(\"---\\n# {{\")[0]) # This code only takes the YAML header portion\n",
    "\n",
    "        # Remove python solution from the public view\n",
    "        sanitized_header.pop('server',None)\n",
    "\n",
    "        # Remove the correct answer from the dictionary\n",
    "        data[\"params\"][\"correct_answer\"] = 'nan'\n",
    "\n",
    "        # Update the YAML header to add substitutions \n",
    "        sanitized_header.update({'substitutions':data})\n",
    "\n",
    "        # Update the YAML header to add substitutions, unsort it, and process for file\n",
    "        sanitized_header = yaml.dump(sanitized_header,sort_keys=False,default_flow_style=False)\n",
    "\n",
    "        part2 = sanitized_header\n",
    "\n",
    "        # Write the YAML to a file\n",
    "        path = Path(source_file.replace('source','output/public'))\n",
    "        path.parent.mkdir(parents=True, exist_ok=True)\n",
    "        path.write_text(part1 + part2 + part3 + part4)\n",
    "    if webwork:\n",
    "        raise NotImplementedError\n",
    "        \n",
    "    if prairielearn:\n",
    "        raise NotImplementedError\n",
    "    "
   ]
  },
  {
   "cell_type": "code",
   "execution_count": 5,
   "metadata": {},
   "outputs": [
    {
     "ename": "ComposerError",
     "evalue": "expected a single document in the stream\n  in \"<unicode string>\", line 2, column 1:\n    title: Distance travelled\n    ^\nbut found another document\n  in \"<unicode string>\", line 60, column 1:\n    ---\n    ^",
     "output_type": "error",
     "traceback": [
      "\u001b[0;31m---------------------------------------------------------------------------\u001b[0m",
      "\u001b[0;31mComposerError\u001b[0m                             Traceback (most recent call last)",
      "\u001b[0;32m<ipython-input-5-4aabdd9d6a0e>\u001b[0m in \u001b[0;36m<module>\u001b[0;34m\u001b[0m\n\u001b[0;32m----> 1\u001b[0;31m \u001b[0mprocess_source_files\u001b[0m\u001b[0;34m(\u001b[0m\u001b[0msource_file\u001b[0m \u001b[0;34m=\u001b[0m \u001b[0;34m'source/q1_multiple-choice/q1_multiple-choice.md'\u001b[0m\u001b[0;34m)\u001b[0m\u001b[0;34m\u001b[0m\u001b[0;34m\u001b[0m\u001b[0m\n\u001b[0m\u001b[1;32m      2\u001b[0m \u001b[0mprocess_source_files\u001b[0m\u001b[0;34m(\u001b[0m\u001b[0msource_file\u001b[0m \u001b[0;34m=\u001b[0m \u001b[0;34m'source/q2_number-input/q2_number-input.md'\u001b[0m\u001b[0;34m)\u001b[0m\u001b[0;34m\u001b[0m\u001b[0;34m\u001b[0m\u001b[0m\n",
      "\u001b[0;32m<ipython-input-4-b4543aa102df>\u001b[0m in \u001b[0;36mprocess_source_files\u001b[0;34m(source_file, instructor, prairielearn, public, qti, webwork)\u001b[0m\n\u001b[1;32m     16\u001b[0m     \"\"\"\n\u001b[1;32m     17\u001b[0m \u001b[0;34m\u001b[0m\u001b[0m\n\u001b[0;32m---> 18\u001b[0;31m     \u001b[0mheader\u001b[0m \u001b[0;34m=\u001b[0m \u001b[0myaml\u001b[0m\u001b[0;34m.\u001b[0m\u001b[0msafe_load\u001b[0m\u001b[0;34m(\u001b[0m\u001b[0mPath\u001b[0m\u001b[0;34m(\u001b[0m\u001b[0msource_file\u001b[0m\u001b[0;34m)\u001b[0m\u001b[0;34m.\u001b[0m\u001b[0mread_text\u001b[0m\u001b[0;34m(\u001b[0m\u001b[0;34m)\u001b[0m\u001b[0;34m.\u001b[0m\u001b[0msplit\u001b[0m\u001b[0;34m(\u001b[0m\u001b[0;34m\"---\\n# {{\"\u001b[0m\u001b[0;34m)\u001b[0m\u001b[0;34m[\u001b[0m\u001b[0;36m0\u001b[0m\u001b[0;34m]\u001b[0m\u001b[0;34m)\u001b[0m \u001b[0;31m# This code only takes the YAML header portion\u001b[0m\u001b[0;34m\u001b[0m\u001b[0;34m\u001b[0m\u001b[0m\n\u001b[0m\u001b[1;32m     19\u001b[0m \u001b[0;34m\u001b[0m\u001b[0m\n\u001b[1;32m     20\u001b[0m     \u001b[0;31m# populate the data dictionary after running generate function\u001b[0m\u001b[0;34m\u001b[0m\u001b[0;34m\u001b[0m\u001b[0;34m\u001b[0m\u001b[0m\n",
      "\u001b[0;32m~/.pyenv/versions/3.8.3/lib/python3.8/site-packages/yaml/__init__.py\u001b[0m in \u001b[0;36msafe_load\u001b[0;34m(stream)\u001b[0m\n\u001b[1;32m    160\u001b[0m     \u001b[0mto\u001b[0m \u001b[0mbe\u001b[0m \u001b[0msafe\u001b[0m \u001b[0;32mfor\u001b[0m \u001b[0muntrusted\u001b[0m \u001b[0minput\u001b[0m\u001b[0;34m.\u001b[0m\u001b[0;34m\u001b[0m\u001b[0;34m\u001b[0m\u001b[0m\n\u001b[1;32m    161\u001b[0m     \"\"\"\n\u001b[0;32m--> 162\u001b[0;31m     \u001b[0;32mreturn\u001b[0m \u001b[0mload\u001b[0m\u001b[0;34m(\u001b[0m\u001b[0mstream\u001b[0m\u001b[0;34m,\u001b[0m \u001b[0mSafeLoader\u001b[0m\u001b[0;34m)\u001b[0m\u001b[0;34m\u001b[0m\u001b[0;34m\u001b[0m\u001b[0m\n\u001b[0m\u001b[1;32m    163\u001b[0m \u001b[0;34m\u001b[0m\u001b[0m\n\u001b[1;32m    164\u001b[0m \u001b[0;32mdef\u001b[0m \u001b[0msafe_load_all\u001b[0m\u001b[0;34m(\u001b[0m\u001b[0mstream\u001b[0m\u001b[0;34m)\u001b[0m\u001b[0;34m:\u001b[0m\u001b[0;34m\u001b[0m\u001b[0;34m\u001b[0m\u001b[0m\n",
      "\u001b[0;32m~/.pyenv/versions/3.8.3/lib/python3.8/site-packages/yaml/__init__.py\u001b[0m in \u001b[0;36mload\u001b[0;34m(stream, Loader)\u001b[0m\n\u001b[1;32m    112\u001b[0m     \u001b[0mloader\u001b[0m \u001b[0;34m=\u001b[0m \u001b[0mLoader\u001b[0m\u001b[0;34m(\u001b[0m\u001b[0mstream\u001b[0m\u001b[0;34m)\u001b[0m\u001b[0;34m\u001b[0m\u001b[0;34m\u001b[0m\u001b[0m\n\u001b[1;32m    113\u001b[0m     \u001b[0;32mtry\u001b[0m\u001b[0;34m:\u001b[0m\u001b[0;34m\u001b[0m\u001b[0;34m\u001b[0m\u001b[0m\n\u001b[0;32m--> 114\u001b[0;31m         \u001b[0;32mreturn\u001b[0m \u001b[0mloader\u001b[0m\u001b[0;34m.\u001b[0m\u001b[0mget_single_data\u001b[0m\u001b[0;34m(\u001b[0m\u001b[0;34m)\u001b[0m\u001b[0;34m\u001b[0m\u001b[0;34m\u001b[0m\u001b[0m\n\u001b[0m\u001b[1;32m    115\u001b[0m     \u001b[0;32mfinally\u001b[0m\u001b[0;34m:\u001b[0m\u001b[0;34m\u001b[0m\u001b[0;34m\u001b[0m\u001b[0m\n\u001b[1;32m    116\u001b[0m         \u001b[0mloader\u001b[0m\u001b[0;34m.\u001b[0m\u001b[0mdispose\u001b[0m\u001b[0;34m(\u001b[0m\u001b[0;34m)\u001b[0m\u001b[0;34m\u001b[0m\u001b[0;34m\u001b[0m\u001b[0m\n",
      "\u001b[0;32m~/.pyenv/versions/3.8.3/lib/python3.8/site-packages/yaml/constructor.py\u001b[0m in \u001b[0;36mget_single_data\u001b[0;34m(self)\u001b[0m\n\u001b[1;32m     47\u001b[0m     \u001b[0;32mdef\u001b[0m \u001b[0mget_single_data\u001b[0m\u001b[0;34m(\u001b[0m\u001b[0mself\u001b[0m\u001b[0;34m)\u001b[0m\u001b[0;34m:\u001b[0m\u001b[0;34m\u001b[0m\u001b[0;34m\u001b[0m\u001b[0m\n\u001b[1;32m     48\u001b[0m         \u001b[0;31m# Ensure that the stream contains a single document and construct it.\u001b[0m\u001b[0;34m\u001b[0m\u001b[0;34m\u001b[0m\u001b[0;34m\u001b[0m\u001b[0m\n\u001b[0;32m---> 49\u001b[0;31m         \u001b[0mnode\u001b[0m \u001b[0;34m=\u001b[0m \u001b[0mself\u001b[0m\u001b[0;34m.\u001b[0m\u001b[0mget_single_node\u001b[0m\u001b[0;34m(\u001b[0m\u001b[0;34m)\u001b[0m\u001b[0;34m\u001b[0m\u001b[0;34m\u001b[0m\u001b[0m\n\u001b[0m\u001b[1;32m     50\u001b[0m         \u001b[0;32mif\u001b[0m \u001b[0mnode\u001b[0m \u001b[0;32mis\u001b[0m \u001b[0;32mnot\u001b[0m \u001b[0;32mNone\u001b[0m\u001b[0;34m:\u001b[0m\u001b[0;34m\u001b[0m\u001b[0;34m\u001b[0m\u001b[0m\n\u001b[1;32m     51\u001b[0m             \u001b[0;32mreturn\u001b[0m \u001b[0mself\u001b[0m\u001b[0;34m.\u001b[0m\u001b[0mconstruct_document\u001b[0m\u001b[0;34m(\u001b[0m\u001b[0mnode\u001b[0m\u001b[0;34m)\u001b[0m\u001b[0;34m\u001b[0m\u001b[0;34m\u001b[0m\u001b[0m\n",
      "\u001b[0;32m~/.pyenv/versions/3.8.3/lib/python3.8/site-packages/yaml/composer.py\u001b[0m in \u001b[0;36mget_single_node\u001b[0;34m(self)\u001b[0m\n\u001b[1;32m     39\u001b[0m         \u001b[0;32mif\u001b[0m \u001b[0;32mnot\u001b[0m \u001b[0mself\u001b[0m\u001b[0;34m.\u001b[0m\u001b[0mcheck_event\u001b[0m\u001b[0;34m(\u001b[0m\u001b[0mStreamEndEvent\u001b[0m\u001b[0;34m)\u001b[0m\u001b[0;34m:\u001b[0m\u001b[0;34m\u001b[0m\u001b[0;34m\u001b[0m\u001b[0m\n\u001b[1;32m     40\u001b[0m             \u001b[0mevent\u001b[0m \u001b[0;34m=\u001b[0m \u001b[0mself\u001b[0m\u001b[0;34m.\u001b[0m\u001b[0mget_event\u001b[0m\u001b[0;34m(\u001b[0m\u001b[0;34m)\u001b[0m\u001b[0;34m\u001b[0m\u001b[0;34m\u001b[0m\u001b[0m\n\u001b[0;32m---> 41\u001b[0;31m             raise ComposerError(\"expected a single document in the stream\",\n\u001b[0m\u001b[1;32m     42\u001b[0m                     \u001b[0mdocument\u001b[0m\u001b[0;34m.\u001b[0m\u001b[0mstart_mark\u001b[0m\u001b[0;34m,\u001b[0m \u001b[0;34m\"but found another document\"\u001b[0m\u001b[0;34m,\u001b[0m\u001b[0;34m\u001b[0m\u001b[0;34m\u001b[0m\u001b[0m\n\u001b[1;32m     43\u001b[0m                     event.start_mark)\n",
      "\u001b[0;31mComposerError\u001b[0m: expected a single document in the stream\n  in \"<unicode string>\", line 2, column 1:\n    title: Distance travelled\n    ^\nbut found another document\n  in \"<unicode string>\", line 60, column 1:\n    ---\n    ^"
     ]
    }
   ],
   "source": [
    "process_source_files(source_file = 'source/q1_multiple-choice/q1_multiple-choice.md')\n",
    "process_source_files(source_file = 'source/q2_number-input/q2_number-input.md')\n"
   ]
  },
  {
   "cell_type": "code",
   "execution_count": null,
   "metadata": {},
   "outputs": [],
   "source": [
    "process_source_files(source_file = 'source/half-life/halflife.md')"
   ]
  },
  {
   "cell_type": "code",
   "execution_count": null,
   "metadata": {},
   "outputs": [],
   "source": []
  },
  {
   "cell_type": "markdown",
   "metadata": {},
   "source": [
    "## Legacy stuff below this"
   ]
  },
  {
   "cell_type": "markdown",
   "metadata": {},
   "source": [
    "### Read YAML file"
   ]
  },
  {
   "cell_type": "raw",
   "metadata": {},
   "source": [
    "header = yaml.safe_load(Path('source/q1/q1.md').read_text().split(\"---\\n# {{\")[0]) # This code only takes the YAML header portion"
   ]
  },
  {
   "cell_type": "raw",
   "metadata": {},
   "source": [
    "### Run Python code to get the variables"
   ]
  },
  {
   "cell_type": "raw",
   "metadata": {},
   "source": [
    "# populate the data dictionary after running generate function\n",
    "data={'params':{},\n",
    "      'vars': {}}"
   ]
  },
  {
   "cell_type": "raw",
   "metadata": {},
   "source": [
    "## TODO: Is there a better way to do this?\n",
    "exec(header['server'])"
   ]
  },
  {
   "cell_type": "raw",
   "metadata": {},
   "source": [
    "# This is a Completely incomrephensible dictionary comprehension\n",
    "# All this does is take every number in the data['params'] dictionary, and turns it into a sensibly rounded number, \n",
    "# It also leaves strings as-is (like correct-answer)\n",
    "\n",
    "data['params'] = {key : rounded(data['params'][key], digits_after_decimal=data[\"vars\"][\"digits_after_decimal\"]) if type(data['params'][key]) != str else data['params'][key] for key in data['params']}"
   ]
  },
  {
   "cell_type": "markdown",
   "metadata": {},
   "source": [
    "### Export to Instructor version of new YAML file"
   ]
  },
  {
   "cell_type": "raw",
   "metadata": {},
   "source": [
    "# Update the YAML header to add substitutions \n",
    "header.update({'substitutions':data})\n",
    "\n",
    "updated_header = yaml.dump(header,sort_keys=False,default_flow_style=False)"
   ]
  },
  {
   "cell_type": "raw",
   "metadata": {},
   "source": [
    "part1 = '---\\n'\n",
    "part2 = updated_header.replace(\"\\n\\n\",\"\\n\")\n",
    "part3 = '---'\n",
    "part4 = Path('source/q1/q1.md').read_text().split(\"---\")[2]"
   ]
  },
  {
   "cell_type": "raw",
   "metadata": {},
   "source": [
    "Path(\"output/instructor/q1/q1.md\").write_text(part1 + part2 + part3 + part4)"
   ]
  },
  {
   "cell_type": "markdown",
   "metadata": {},
   "source": [
    "### Export to Public version of new YAML file"
   ]
  },
  {
   "cell_type": "raw",
   "metadata": {},
   "source": [
    "# Load the header again\n",
    "header = yaml.safe_load(Path('source/q1/q1.md').read_text().split(\"---\\n# {{\")[0]) # This code only takes the YAML header portion\n",
    "\n",
    "# Remove python solution from the public view\n",
    "header.pop('server',None)\n",
    "\n",
    "# Remove the correct answer from the dictionary\n",
    "data[\"params\"][\"correct_answer\"] = 'nan'\n",
    "\n",
    "# Update the YAML header to add substitutions \n",
    "header.update({'substitutions':data})\n",
    "\n",
    "sanitized_header = yaml.dump(header,sort_keys=False,default_flow_style=False)"
   ]
  },
  {
   "cell_type": "raw",
   "metadata": {},
   "source": [
    "part1 = '---\\n'\n",
    "part2 = sanitized_header\n",
    "part3 = '---'\n",
    "part4 = Path('source/q1/q1.md').read_text().split(\"---\")[2]"
   ]
  },
  {
   "cell_type": "raw",
   "metadata": {},
   "source": [
    "Path(\"output/public/q1/q1.md\").write_text(part1 + part2 + part3 + part4)"
   ]
  },
  {
   "cell_type": "raw",
   "metadata": {},
   "source": [
    "#Path(\"../../physics_bank/content/problem_bank/q1/q1_sanitized.md\").write_text(part1 + part2 + part3 + part4)"
   ]
  }
 ],
 "metadata": {
  "kernelspec": {
   "display_name": "Python 3",
   "language": "python",
   "name": "python3"
  },
  "language_info": {
   "codemirror_mode": {
    "name": "ipython",
    "version": 3
   },
   "file_extension": ".py",
   "mimetype": "text/x-python",
   "name": "python",
   "nbconvert_exporter": "python",
   "pygments_lexer": "ipython3",
   "version": "3.8.3"
  }
 },
 "nbformat": 4,
 "nbformat_minor": 4
}
