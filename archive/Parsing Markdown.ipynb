{
 "cells": [
  {
   "cell_type": "markdown",
   "metadata": {},
   "source": [
    "# Demo of parsing Markdown nicely"
   ]
  },
  {
   "cell_type": "markdown",
   "metadata": {},
   "source": [
    "## Imports"
   ]
  },
  {
   "cell_type": "code",
   "execution_count": 1,
   "metadata": {},
   "outputs": [],
   "source": [
    "# Loading and Saving files & others\n",
    "import pathlib\n",
    "import sys\n",
    "import numpy as np\n",
    "\n",
    "# Parse Markdown\n",
    "from markdown_it import MarkdownIt # pip install markdown-it-py \n",
    "from mdformat.renderer import MDRenderer # pip install mdformat\n",
    "\n",
    "# Dealing with YAML\n",
    "import yaml\n",
    "\n",
    "# deal with multi-line strings in YAML Dump\n",
    "## Code copied from here: https://stackoverflow.com/a/33300001/2217577\n",
    "\n",
    "def str_presenter(dumper, data):\n",
    "    if len(data.splitlines()) > 1:  # check for multiline string\n",
    "        return dumper.represent_scalar('tag:yaml.org,2002:str', data, style='|')\n",
    "    return dumper.represent_scalar('tag:yaml.org,2002:str', data)\n",
    "\n",
    "yaml.add_representer(str, str_presenter)"
   ]
  },
  {
   "cell_type": "markdown",
   "metadata": {},
   "source": [
    "## Read files"
   ]
  },
  {
   "cell_type": "code",
   "execution_count": 2,
   "metadata": {},
   "outputs": [],
   "source": [
    "# Read the markdown file \n",
    "\n",
    "path = 'source/q1_multiple-choice/q1_multiple-choice.md'\n",
    "mdtext = pathlib.Path(path).read_text()\n",
    "\n",
    "# Deal with YAML header\n",
    "header_text = mdtext.rsplit('---\\n')[1]\n",
    "header = yaml.safe_load('---\\n' + header_text)\n",
    "\n",
    "# Deal with Markdown Body\n",
    "body = mdtext.rsplit('---\\n')[2]"
   ]
  },
  {
   "cell_type": "markdown",
   "metadata": {},
   "source": [
    "## Parse markdown body"
   ]
  },
  {
   "cell_type": "code",
   "execution_count": 3,
   "metadata": {},
   "outputs": [],
   "source": [
    "# Set up the markdown parser\n",
    "# to be honest, not fully sure what's going on here, see this issue: https://github.com/executablebooks/markdown-it-py/issues/164\n",
    "\n",
    "mdit = MarkdownIt()\n",
    "env = {}\n",
    "\n",
    "# Set up tokens by parsing the md file\n",
    "tokens = mdit.parse(body, env)"
   ]
  },
  {
   "cell_type": "code",
   "execution_count": 4,
   "metadata": {},
   "outputs": [],
   "source": [
    "blocks = {}\n",
    "\n",
    "block_count = 0\n",
    "\n",
    "num_titles = 0\n",
    "\n",
    "for x,t in enumerate(tokens):\n",
    "     \n",
    "    if t.tag == 'h1' and t.nesting == 1: # title\n",
    "        blocks['title'] = [x,]\n",
    "        num_titles += 1\n",
    "        \n",
    "    elif t.tag == 'h2' and t.nesting == 1:\n",
    "        block_count += 1\n",
    "        \n",
    "        if block_count == 1:\n",
    "            blocks['block{0}'.format(block_count)] = [x,]\n",
    "        else:\n",
    "            blocks['block{0}'.format(block_count-1)].append(x)\n",
    "            blocks['block{0}'.format(block_count)] = [x,]\n",
    "\n",
    "    #print(t,'\\n')\n",
    "    \n",
    "# Add -1 to the end of the last block\n",
    "blocks['block{0}'.format(block_count)].append(len(tokens))\n",
    "\n",
    "# Assert statements (turn into tests!)\n",
    "assert num_titles == 1, \"I see {0} Level 1 Headers (#) in this file, there should only be one!\".format(num_titles)\n",
    "assert block_count > 1, \"I see {0} Level 2 Headers (##) in this file, there should be at least 1\".format(block_count -1)\n",
    "\n",
    "# Add the end of the title block; # small hack\n",
    "blocks['title'].append(blocks['block1'][0])"
   ]
  },
  {
   "cell_type": "code",
   "execution_count": 5,
   "metadata": {},
   "outputs": [
    {
     "data": {
      "text/plain": [
       "{'title': [0, 3],\n",
       " 'block1': [3, 44],\n",
       " 'block2': [44, 85],\n",
       " 'block3': [85, 91],\n",
       " 'block4': [91, 97]}"
      ]
     },
     "execution_count": 5,
     "metadata": {},
     "output_type": "execute_result"
    }
   ],
   "source": [
    "blocks"
   ]
  },
  {
   "cell_type": "code",
   "execution_count": 6,
   "metadata": {},
   "outputs": [],
   "source": [
    "## Process the blocks into markdown\n",
    "\n",
    "body_parts = {}\n",
    "\n",
    "part_counter = 0\n",
    "\n",
    "for k,v in blocks.items():\n",
    "\n",
    "    rendered_part = MDRenderer().render(tokens[v[0]:v[1]], mdit.options, env)\n",
    "    \n",
    "    if k == 'title':\n",
    "        body_parts['title'] = rendered_part\n",
    "    \n",
    "    elif 'Rubric' in rendered_part:\n",
    "        body_parts['Rubric'] = rendered_part\n",
    "\n",
    "    elif 'Solution' in rendered_part:\n",
    "        body_parts['Solution'] = rendered_part\n",
    "\n",
    "    elif 'Comments' in rendered_part:\n",
    "        body_parts['Comments'] = rendered_part\n",
    "    \n",
    "    else:\n",
    "        part_counter +=1\n",
    "        body_parts['part{0}'.format(part_counter)] = rendered_part"
   ]
  },
  {
   "cell_type": "code",
   "execution_count": 7,
   "metadata": {},
   "outputs": [
    {
     "data": {
      "text/plain": [
       "dict_keys(['title', 'part1', 'part2', 'Rubric', 'Solution'])"
      ]
     },
     "execution_count": 7,
     "metadata": {},
     "output_type": "execute_result"
    }
   ],
   "source": [
    "body_parts.keys()"
   ]
  },
  {
   "cell_type": "code",
   "execution_count": 8,
   "metadata": {},
   "outputs": [
    {
     "data": {
      "text/plain": [
       "{'type': 'multiple-choice',\n",
       " 'choices': 'ans1, ans2, ans3, ans4',\n",
       " 'answer': 'ans1',\n",
       " 'units': 'm/s',\n",
       " 'pl-options': {'allow-blank': True}}"
      ]
     },
     "execution_count": 8,
     "metadata": {},
     "output_type": "execute_result"
    }
   ],
   "source": [
    "header['part1']"
   ]
  },
  {
   "cell_type": "code",
   "execution_count": 9,
   "metadata": {},
   "outputs": [
    {
     "name": "stdout",
     "output_type": "stream",
     "text": [
      "## Part A\n",
      "\n",
      "{{ vars.name }} is traveling on {{ vars.vehicle }} at {{ params.v }} {{ vars.units }}.\n",
      "How far does {{ vars.name }} travel in {{ params.t }} seconds, assuming they continue at the same velocity?\n",
      "\n",
      "### Answer Section\n",
      "\n",
      "- {{ params.ans1}} {{ vars.units}}\n",
      "- {{ params.ans2}} {{ vars.units}}\n",
      "- {{ params.ans3}} {{ vars.units}}\n",
      "- {{ params.ans4}} {{ vars.units}}\n",
      "- {{ params.ans5}} {{ vars.units}}\n",
      "- {{ params.ans6}} {{ vars.units}}\n",
      "\n"
     ]
    }
   ],
   "source": [
    "print(body_parts['part1'])"
   ]
  },
  {
   "cell_type": "markdown",
   "metadata": {},
   "source": [
    "## Helper functions"
   ]
  },
  {
   "cell_type": "code",
   "execution_count": 23,
   "metadata": {},
   "outputs": [],
   "source": [
    "def rounded(num, digits_after_decimal = 2):\n",
    "    \n",
    "    \"\"\"\n",
    "    Rounding as expected by normal sensible people.\n",
    "    \n",
    "    This needs to be heavily tested!!\n",
    "    \n",
    "    WARNING: This does not do sig figs yet!\n",
    "    \n",
    "    \"\"\"\n",
    "\n",
    "    # Solution copied from: https://stackoverflow.com/a/53329223\n",
    "\n",
    "    from decimal import Decimal, getcontext, ROUND_HALF_UP\n",
    "\n",
    "    round_context = getcontext()\n",
    "    round_context.rounding = ROUND_HALF_UP\n",
    "        \n",
    "    tmp = Decimal(num).quantize(Decimal('1.'+'0'*digits_after_decimal))\n",
    "    \n",
    "    return str(tmp)\n",
    "\n",
    "def dict_to_md(md_dict, remove_keys = [None,]):\n",
    "    \n",
    "    md_string = \"\"\n",
    "    \n",
    "    for k,v in md_dict.items():\n",
    "        if k in remove_keys:\n",
    "            continue\n",
    "        else:\n",
    "            md_string += md_dict[k]\n",
    "            \n",
    "    return md_string"
   ]
  },
  {
   "cell_type": "markdown",
   "metadata": {},
   "source": [
    "## Process Files"
   ]
  },
  {
   "cell_type": "code",
   "execution_count": 21,
   "metadata": {},
   "outputs": [],
   "source": [
    "def process_files(header, body_parts, source_file, \n",
    "                  instructor=True, prairielearn=False, public=True, \n",
    "                  qti=False, webwork=False):\n",
    "    \"\"\"\n",
    "    Inputs:\n",
    "    \n",
    "    - path to source file\n",
    "    - output types\n",
    "    \n",
    "    Outputs:\n",
    "    \n",
    "    - processed files to each of the output types\n",
    "    \"\"\"\n",
    "        \n",
    "    # populate the data dictionary after running generate function\n",
    "    data={'params':{},\n",
    "          'vars': {}}\n",
    "\n",
    "    ## TODO: Is there a better way to do this?\n",
    "    exec(header['server'])\n",
    "\n",
    "    # This is a Completely incomrephensible dictionary comprehension\n",
    "    # All this does is take every number in the data['params'] dictionary, and turns it into a sensibly rounded number, \n",
    "    # It also leaves strings as-is (like correct-answer)\n",
    "\n",
    "    data['params'] = {key : rounded(data['params'][key], digits_after_decimal=data[\"vars\"][\"digits_after_decimal\"]) if type(data['params'][key]) != str else data['params'][key] for key in data['params']}\n",
    "\n",
    "    if instructor:\n",
    "        \n",
    "        instructor_header = header.copy()\n",
    "                \n",
    "        # Update the YAML header to add substitutions \n",
    "        instructor_header.update({'substitutions':data})\n",
    "        \n",
    "        # Update the YAML header to add substitutions, unsort it, and process for file\n",
    "        instructor_header = yaml.dump(instructor_header,sort_keys=False,default_flow_style=False)\n",
    "\n",
    "        # Write the YAML to a file\n",
    "        path = pathlib.Path(source_file.replace('source','output/instructor'))\n",
    "        path.parent.mkdir(parents=True, exist_ok=True)\n",
    "        path.write_text('---\\n' + instructor_header + '---\\n' + dict_to_md(body_parts))\n",
    "        \n",
    "    if public:\n",
    "        \n",
    "        sanitized_header = header.copy()\n",
    "        \n",
    "        # Remove python solution from the public view\n",
    "        sanitized_header.pop('server',None)\n",
    "\n",
    "        # Remove the correct answer from the dictionary\n",
    "        data[\"params\"][\"correct_answer\"] = 'nan'\n",
    "\n",
    "        # Update the YAML header to add substitutions \n",
    "        sanitized_header.update({'substitutions':data})\n",
    "\n",
    "        # Update the YAML header to add substitutions, unsort it, and process for file\n",
    "        sanitized_header = yaml.dump(sanitized_header,sort_keys=False,default_flow_style=False)\n",
    "\n",
    "        # Write the YAML to a file\n",
    "        path = pathlib.Path(source_file.replace('source','output/public'))\n",
    "        path.parent.mkdir(parents=True, exist_ok=True)\n",
    "        path.write_text('---\\n' + sanitized_header + '---\\n' + dict_to_md(body_parts,remove_keys=['Rubric','Solution','Comments']))\n",
    "\n",
    "    if webwork:\n",
    "        raise NotImplementedError\n",
    "        \n",
    "    if prairielearn:\n",
    "        raise NotImplementedError\n",
    "    "
   ]
  },
  {
   "cell_type": "code",
   "execution_count": 22,
   "metadata": {},
   "outputs": [],
   "source": [
    "process_files(header,body_parts, source_file = 'source/q1_multiple-choice/q1_multiple-choice.md')"
   ]
  },
  {
   "cell_type": "code",
   "execution_count": null,
   "metadata": {},
   "outputs": [],
   "source": []
  }
 ],
 "metadata": {
  "kernelspec": {
   "display_name": "Python 3",
   "language": "python",
   "name": "python3"
  },
  "language_info": {
   "codemirror_mode": {
    "name": "ipython",
    "version": 3
   },
   "file_extension": ".py",
   "mimetype": "text/x-python",
   "name": "python",
   "nbconvert_exporter": "python",
   "pygments_lexer": "ipython3",
   "version": "3.8.3"
  }
 },
 "nbformat": 4,
 "nbformat_minor": 4
}
