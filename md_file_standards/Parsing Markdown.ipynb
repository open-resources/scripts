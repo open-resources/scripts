{
 "cells": [
  {
   "cell_type": "markdown",
   "metadata": {},
   "source": [
    "# Demo of parsing Markdown nicely"
   ]
  },
  {
   "cell_type": "markdown",
   "metadata": {},
   "source": [
    "## Imports"
   ]
  },
  {
   "cell_type": "code",
   "execution_count": 3,
   "metadata": {},
   "outputs": [],
   "source": [
    "# Loading and Saving files & others\n",
    "import pathlib\n",
    "import sys\n",
    "import numpy as np\n",
    "\n",
    "# Parse Markdown\n",
    "from markdown_it import MarkdownIt # pip install markdown-it-py \n",
    "from mdformat.renderer import MDRenderer # pip install mdformat\n",
    "\n",
    "# Dealing with YAML\n",
    "import yaml\n",
    "\n",
    "# deal with multi-line strings in YAML Dump\n",
    "## Code copied from here: https://stackoverflow.com/a/33300001/2217577\n",
    "\n",
    "def str_presenter(dumper, data):\n",
    "    if len(data.splitlines()) > 1:  # check for multiline string\n",
    "        return dumper.represent_scalar('tag:yaml.org,2002:str', data, style='|')\n",
    "    return dumper.represent_scalar('tag:yaml.org,2002:str', data)\n",
    "\n",
    "yaml.add_representer(str, str_presenter)"
   ]
  },
  {
   "cell_type": "markdown",
   "metadata": {},
   "source": [
    "## Read files"
   ]
  },
  {
   "cell_type": "code",
   "execution_count": 6,
   "metadata": {},
   "outputs": [],
   "source": [
    "# Read the markdown file \n",
    "\n",
    "path = 'q01_multiple-choice/q01_multiple-choice.md'\n",
    "mdtext = pathlib.Path(path).read_text()\n",
    "\n",
    "# Deal with YAML header\n",
    "header_text = mdtext.rsplit('---\\n')[1]\n",
    "header = yaml.safe_load('---\\n' + header_text)\n",
    "\n",
    "# Deal with Markdown Body\n",
    "body = mdtext.rsplit('---\\n')[2]"
   ]
  },
  {
   "cell_type": "markdown",
   "metadata": {},
   "source": [
    "## Parse markdown body"
   ]
  },
  {
   "cell_type": "code",
   "execution_count": 7,
   "metadata": {},
   "outputs": [],
   "source": [
    "# Set up the markdown parser\n",
    "# to be honest, not fully sure what's going on here, see this issue: https://github.com/executablebooks/markdown-it-py/issues/164\n",
    "\n",
    "mdit = MarkdownIt()\n",
    "env = {}\n",
    "\n",
    "# Set up tokens by parsing the md file\n",
    "tokens = mdit.parse(body, env)"
   ]
  },
  {
   "cell_type": "code",
   "execution_count": 8,
   "metadata": {},
   "outputs": [],
   "source": [
    "blocks = {}\n",
    "\n",
    "block_count = 0\n",
    "\n",
    "num_titles = 0\n",
    "\n",
    "for x,t in enumerate(tokens):\n",
    "     \n",
    "    if t.tag == 'h1' and t.nesting == 1: # title\n",
    "        blocks['title'] = [x,]\n",
    "        num_titles += 1\n",
    "        \n",
    "    elif t.tag == 'h2' and t.nesting == 1:\n",
    "        block_count += 1\n",
    "        \n",
    "        if block_count == 1:\n",
    "            blocks['block{0}'.format(block_count)] = [x,]\n",
    "        else:\n",
    "            blocks['block{0}'.format(block_count-1)].append(x)\n",
    "            blocks['block{0}'.format(block_count)] = [x,]\n",
    "\n",
    "    #print(t,'\\n')\n",
    "    \n",
    "# Add -1 to the end of the last block\n",
    "blocks['block{0}'.format(block_count)].append(len(tokens))\n",
    "\n",
    "# Assert statements (turn into tests!)\n",
    "assert num_titles == 1, \"I see {0} Level 1 Headers (#) in this file, there should only be one!\".format(num_titles)\n",
    "assert block_count > 1, \"I see {0} Level 2 Headers (##) in this file, there should be at least 1\".format(block_count -1)\n",
    "\n",
    "# Add the end of the title block; # small hack\n",
    "blocks['title'].append(blocks['block1'][0])"
   ]
  },
  {
   "cell_type": "code",
   "execution_count": 9,
   "metadata": {},
   "outputs": [
    {
     "data": {
      "text/plain": [
       "{'title': [0, 3], 'block1': [3, 9], 'block2': [9, 45], 'block3': [45, 81]}"
      ]
     },
     "execution_count": 9,
     "metadata": {},
     "output_type": "execute_result"
    }
   ],
   "source": [
    "blocks"
   ]
  },
  {
   "cell_type": "code",
   "execution_count": 10,
   "metadata": {},
   "outputs": [],
   "source": [
    "## Process the blocks into markdown\n",
    "\n",
    "body_parts = {}\n",
    "\n",
    "part_counter = 0\n",
    "\n",
    "for k,v in blocks.items():\n",
    "\n",
    "    rendered_part = MDRenderer().render(tokens[v[0]:v[1]], mdit.options, env)\n",
    "    \n",
    "    if k == 'title':\n",
    "        body_parts['title'] = rendered_part\n",
    "    \n",
    "    elif 'Rubric' in rendered_part:\n",
    "        body_parts['Rubric'] = rendered_part\n",
    "\n",
    "    elif 'Solution' in rendered_part:\n",
    "        body_parts['Solution'] = rendered_part\n",
    "\n",
    "    elif 'Comments' in rendered_part:\n",
    "        body_parts['Comments'] = rendered_part\n",
    "    \n",
    "    else:\n",
    "        part_counter +=1\n",
    "        body_parts['part{0}'.format(part_counter)] = rendered_part"
   ]
  },
  {
   "cell_type": "code",
   "execution_count": 11,
   "metadata": {},
   "outputs": [
    {
     "data": {
      "text/plain": [
       "dict_keys(['title', 'part1', 'part2', 'part3'])"
      ]
     },
     "execution_count": 11,
     "metadata": {},
     "output_type": "execute_result"
    }
   ],
   "source": [
    "body_parts.keys()"
   ]
  },
  {
   "cell_type": "code",
   "execution_count": 14,
   "metadata": {},
   "outputs": [
    {
     "data": {
      "text/plain": [
       "{'title': 'Distance travelled',\n",
       " 'type': 'multiple-choice',\n",
       " 'author': 'Firas Moosvi',\n",
       " 'template_version': 0.1,\n",
       " 'source': 'original',\n",
       " 'pl-options': {'allow-blank': True},\n",
       " 'tags': ['kinematics', 'test'],\n",
       " 'outcomes': ['LO.kinematics.2305', 'LO.kinematics.2304'],\n",
       " 'assets': None,\n",
       " 'server': 'import random\\nimport pandas as pd\\n\\n# define the data dictionary\\ndata = {\"params\":{},\\n        \"vars\":{}}\\n\\n# define or load names/items/objects\\nnames = pd.read_csv(\"data/names.csv\")[\"Names\"].tolist()\\nmanual_vehicles = pd.read_csv(\"data/manual_vehicles.csv\")[\"Manual Vehicles\"].tolist()\\n\\n# store phrases etc\\ndata[\"vars\"][\"name\"] = random.choice(names)\\ndata[\"vars\"][\"vehicle\"] = random.choice(manual_vehicles)\\ndata[\"vars\"][\"title\"] = \"Distance travelled\"\\ndata[\"vars\"][\"units\"] = \"m/s\"\\ndata[\"vars\"][\"digits_after_decimal\"] = 2\\n\\n# define bounds of the variables\\nv = random.randint(2,7)\\nt = random.randint(5,10)\\n\\n# store the variables in the dictionary \"params\"\\ndata[\"params\"][\"v\"] = v\\ndata[\"params\"][\"t\"] = t\\n\\n# define possible answers\\ndata[\"params\"][\"ans1\"] = v*t\\ndata[\"params\"][\"ans2\"] = v+t\\ndata[\"params\"][\"ans3\"] = v/t\\ndata[\"params\"][\"ans4\"] = v-t\\ndata[\"params\"][\"ans5\"] = 1.3*(v-t)\\ndata[\"params\"][\"correct_answer\"] = \"ans1\"\\n'}"
      ]
     },
     "execution_count": 14,
     "metadata": {},
     "output_type": "execute_result"
    }
   ],
   "source": [
    "header"
   ]
  },
  {
   "cell_type": "code",
   "execution_count": 15,
   "metadata": {},
   "outputs": [
    {
     "name": "stdout",
     "output_type": "stream",
     "text": [
      "## Question Text\n",
      "\n",
      "{{ vars.name }} is traveling on {{ vars.vehicle }} at {{ params.v }} {{ vars.units }}.\n",
      "How far does {{ vars.name }} travel in {{ params.t }} seconds, assuming they continue at the same velocity?\n",
      "\n"
     ]
    }
   ],
   "source": [
    "print(body_parts['part1'])"
   ]
  },
  {
   "cell_type": "markdown",
   "metadata": {},
   "source": [
    "## Helper functions"
   ]
  },
  {
   "cell_type": "code",
   "execution_count": 16,
   "metadata": {},
   "outputs": [],
   "source": [
    "def rounded(num, digits_after_decimal = 2):\n",
    "    \n",
    "    \"\"\"\n",
    "    Rounding as expected by normal sensible people.\n",
    "    \n",
    "    This needs to be heavily tested!!\n",
    "    \n",
    "    WARNING: This does not do sig figs yet!\n",
    "    \n",
    "    \"\"\"\n",
    "\n",
    "    # Solution copied from: https://stackoverflow.com/a/53329223\n",
    "\n",
    "    from decimal import Decimal, getcontext, ROUND_HALF_UP\n",
    "\n",
    "    round_context = getcontext()\n",
    "    round_context.rounding = ROUND_HALF_UP\n",
    "        \n",
    "    tmp = Decimal(num).quantize(Decimal('1.'+'0'*digits_after_decimal))\n",
    "    \n",
    "    return str(tmp)\n",
    "\n",
    "def dict_to_md(md_dict, remove_keys = [None,]):\n",
    "    \n",
    "    md_string = \"\"\n",
    "    \n",
    "    for k,v in md_dict.items():\n",
    "        if k in remove_keys:\n",
    "            continue\n",
    "        else:\n",
    "            md_string += md_dict[k]\n",
    "            \n",
    "    return md_string"
   ]
  },
  {
   "cell_type": "markdown",
   "metadata": {},
   "source": [
    "## Demo of outputs"
   ]
  },
  {
   "cell_type": "code",
   "execution_count": 18,
   "metadata": {},
   "outputs": [
    {
     "data": {
      "text/plain": [
       "'# {{ vars.title }}\\n## Question Text\\n\\n{{ vars.name }} is traveling on {{ vars.vehicle }} at {{ params.v }} {{ vars.units }}.\\nHow far does {{ vars.name }} travel in {{ params.t }} seconds, assuming they continue at the same velocity?\\n## Part A\\n\\nHere is any instructions specific for this part\\n\\n### Answer Section\\n\\n- {{ params.ans1}} {{ vars.units}}\\n- {{ params.ans2}} {{ vars.units}}\\n- {{ params.ans3}} {{ vars.units}}\\n- {{ params.ans4}} {{ vars.units}}\\n- {{ params.ans5}} {{ vars.units}}\\n## Part B\\n\\nMore instructions\\n\\n### Answer Section\\n\\n- {{ params.ans1}} {{ vars.units}}\\n- {{ params.ans2}} {{ vars.units}}\\n- {{ params.ans3}} {{ vars.units}}\\n- {{ params.ans4}} {{ vars.units}}\\n- {{ params.ans5}} {{ vars.units}}\\n'"
      ]
     },
     "execution_count": 18,
     "metadata": {},
     "output_type": "execute_result"
    }
   ],
   "source": [
    "dict_to_md(body_parts)"
   ]
  },
  {
   "cell_type": "code",
   "execution_count": null,
   "metadata": {},
   "outputs": [],
   "source": []
  }
 ],
 "metadata": {
  "kernelspec": {
   "display_name": "Python 3",
   "language": "python",
   "name": "python3"
  },
  "language_info": {
   "codemirror_mode": {
    "name": "ipython",
    "version": 3
   },
   "file_extension": ".py",
   "mimetype": "text/x-python",
   "name": "python",
   "nbconvert_exporter": "python",
   "pygments_lexer": "ipython3",
   "version": "3.8.3"
  }
 },
 "nbformat": 4,
 "nbformat_minor": 4
}
