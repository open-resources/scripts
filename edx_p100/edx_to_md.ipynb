{
 "cells": [
  {
   "cell_type": "markdown",
   "metadata": {},
   "source": [
    "# EdX to Markdown format\n",
    "\n",
    "See [here for a nice tutorial on beautifulsoup for xml files](http://www2.hawaii.edu/~takebaya/cent110/xml_parse/xml_parse.html)."
   ]
  },
  {
   "cell_type": "code",
   "execution_count": 1,
   "metadata": {},
   "outputs": [],
   "source": [
    "import pathlib\n",
    "from bs4 import BeautifulSoup"
   ]
  },
  {
   "cell_type": "markdown",
   "metadata": {},
   "source": [
    "## First read in a sample xml problem file"
   ]
  },
  {
   "cell_type": "code",
   "execution_count": 2,
   "metadata": {},
   "outputs": [],
   "source": [
    "#problem_file_name = 'test2_p8_vA.xml' # mcq\n",
    "problem_file_name = 'test2_p8_vC.xml' # numerical response\n",
    "\n",
    "path = pathlib.Path('../../edx_bank/library003/problem/' + problem_file_name)\n",
    "\n",
    "#path = pathlib.Path('../../edx_bank/library102/problem/test1_p9_vF.xml') # something with images\n",
    "path = pathlib.Path('/Users/firasm/Sync/EL/Physics OER Bank/edx_bank/library065/problem/test4_p7_vA.xml')"
   ]
  },
  {
   "cell_type": "code",
   "execution_count": 3,
   "metadata": {},
   "outputs": [
    {
     "data": {
      "text/plain": [
       "<?xml version=\"1.0\" encoding=\"utf-8\"?>\n",
       "<problem display_name=\"7.sigma\" lg=\"4.250,4.260,4.270\" markdown=\"null\" max_attempts=\"1\" rerandomize=\"per_student\" showanswer=\"never\">\n",
       "<script type=\"text/javascript\">\n",
       "   (function() {\n",
       "    $( \".check-label\" ).text(\"Submit\");\n",
       "   })();\n",
       "</script>\n",
       "<script system_path=\"python_lib\" type=\"text/python\">\n",
       "a = 35\n",
       "r = 0.1*random.randint(5, 15)\n",
       "tin = random.randint(18, 22)\n",
       "tout = 5\n",
       "nperson = 2\n",
       "pperson = 80\n",
       "sola = round(a*(tin-tout)/r-nperson*pperson, 2)\n",
       "pheater = 500\n",
       "eff = 0.5\n",
       "hours = random.randint(5, 9)\n",
       "days = 5*random.randint(10, 14)\n",
       "cost = 0.12\n",
       "solb = round(pheater*hours*days*3600/eff/3.6e6*cost, 2)\n",
       "  </script>\n",
       "<p>7a) Consider a room in a house that has composite walls with an \\(R_{tot} = $r\\text{ m}^2\\text{K/W}\\). The total cross sectional area of the walls is $a m\\(^2\\). During winter, the temperature outside the room is \\(T_{out} = $tout^\\circ\\text{C}\\). Calculate the power (in W) of a heater that is required to keep the room's temperature constant at $tin\\(^o\\)C if the room is going to be occupied by $nperson people. Assume that the radiative power emitted by a person is $pperson W.\n",
       "</p>\n",
       "<numericalresponse answer=\"$sola\">\n",
       "<responseparam default=\"10.0%\" name=\"tol\" type=\"tolerance\"/>\n",
       "<textline size=\"10\"/>\n",
       "</numericalresponse>\n",
       "<p>7b) For this section, assume that the actual power emitted by the heater into the room is $pheater W, and the heater efficiency is 50%. How much will it cost (in $) to keep the heater ON during the winter season? Assume that you keep the heater ON for $hours hours/day. Assume the winter season lasts $days days. The cost of electricity is $$cost per kW h.  Express your answer with 1 decimal place.</p>\n",
       "<numericalresponse answer=\"$solb\">\n",
       "<responseparam default=\"10.0%\" name=\"tol\" type=\"tolerance\"/>\n",
       "<textline size=\"10\"/>\n",
       "</numericalresponse>\n",
       "<demandhint>\n",
       "<hint>Recall the concept of efficiency: If the heater was 100% efficient all of the energy consumed by the heater would go into heating the room. </hint>\n",
       "</demandhint>\n",
       "</problem>"
      ]
     },
     "execution_count": 3,
     "metadata": {},
     "output_type": "execute_result"
    }
   ],
   "source": [
    "soup = BeautifulSoup(path.read_text(),'xml')\n",
    "soup"
   ]
  },
  {
   "cell_type": "code",
   "execution_count": 4,
   "metadata": {},
   "outputs": [
    {
     "data": {
      "text/plain": [
       "['problem',\n",
       " 'script',\n",
       " 'script',\n",
       " 'p',\n",
       " 'numericalresponse',\n",
       " 'responseparam',\n",
       " 'textline',\n",
       " 'p',\n",
       " 'numericalresponse',\n",
       " 'responseparam',\n",
       " 'textline',\n",
       " 'demandhint',\n",
       " 'hint']"
      ]
     },
     "execution_count": 4,
     "metadata": {},
     "output_type": "execute_result"
    }
   ],
   "source": [
    "[tag.name for tag in soup.find_all()]"
   ]
  },
  {
   "cell_type": "markdown",
   "metadata": {},
   "source": [
    "### Title"
   ]
  },
  {
   "cell_type": "code",
   "execution_count": 5,
   "metadata": {},
   "outputs": [
    {
     "data": {
      "text/plain": [
       "'7.sigma'"
      ]
     },
     "execution_count": 5,
     "metadata": {},
     "output_type": "execute_result"
    }
   ],
   "source": [
    "title = soup.find_all('problem')[0].get('display_name')\n",
    "title"
   ]
  },
  {
   "cell_type": "markdown",
   "metadata": {},
   "source": [
    "### Author and Source"
   ]
  },
  {
   "cell_type": "code",
   "execution_count": 6,
   "metadata": {},
   "outputs": [],
   "source": [
    "author = \"edX Physics 100 Team\"\n",
    "source = \"https://github.com/open-resources/edx_bank\""
   ]
  },
  {
   "cell_type": "markdown",
   "metadata": {},
   "source": [
    "### Deal with images"
   ]
  },
  {
   "cell_type": "code",
   "execution_count": 7,
   "metadata": {},
   "outputs": [],
   "source": [
    "try: \n",
    "    image = pathlib.Path(soup.find_all('img')[0].get('src')).name\n",
    "    \n",
    "except IndexError: # No images in the problem\n",
    "    image = 'undefined'"
   ]
  },
  {
   "cell_type": "markdown",
   "metadata": {},
   "source": [
    "### Problem Text"
   ]
  },
  {
   "cell_type": "code",
   "execution_count": 8,
   "metadata": {},
   "outputs": [
    {
     "name": "stdout",
     "output_type": "stream",
     "text": [
      "7a) Consider a room in a house that has composite walls with an R_{tot} = $r\\text{ m}^2\\text{K/W}.\n",
      "The total cross sectional area of the walls is $a m^2.\n",
      "During winter, the temperature outside the room is T_{out} = $tout^\\circ\\text{C}.\n",
      "Calculate the power (in W) of a heater that is required to keep the room's temperature constant at $tin^oC if the room is going to be occupied by $nperson people.\n",
      "Assume that the radiative power emitted by a person is $pperson W.\n",
      "\n",
      "\n",
      "\n"
     ]
    }
   ],
   "source": [
    "problem_text = soup.find_all(\"p\")[0].contents[0]\n",
    "\n",
    "# Clean up problem text\n",
    "problem_text = (\n",
    "    problem_text\n",
    "    .replace(\"\\(\", \"\")  # get rid of left brackets\n",
    "    .replace(\"\\)\", \"\")  # get rid of right brackets\n",
    "    .replace('. ','.\\n') # Each sentence on a new line\n",
    "    .replace('? ','.\\n') # Each question on a new line\n",
    "    .replace('! ','.\\n') # Each excited sentence on a new line\n",
    "    + \"\\n\\n\" # Add some new line chars\n",
    ")\n",
    "\n",
    "print(problem_text)"
   ]
  },
  {
   "cell_type": "code",
   "execution_count": 9,
   "metadata": {},
   "outputs": [
    {
     "name": "stdout",
     "output_type": "stream",
     "text": [
      "Search successful.\n",
      "['r\\\\text{', 'a', 'tout^\\\\circ\\\\text{C}.', 'tin^oC', 'nperson', 'pperson']\n",
      "7a) Consider a room in a house that has composite walls with an R_{tot} = {{ r\\text{ }} m}^2\\text{K/W}.\n",
      "The total cross sectional area of the walls is {{ a }} m^2.\n",
      "During winter, the temperature outside the room is T_{out} = {{ tout^\\circ\\text{C}. }}\n",
      "Calculate the power (in W) of a heater that is required to keep the room's temperature constant at {{ tin^oC }} if the room is going to be occupied by {{ nperson }} people.\n",
      "Assume that the radiative power emitted by a person is {{ pperson }} W.\n",
      "\n",
      "\n",
      "\n"
     ]
    }
   ],
   "source": [
    "# Replace $param with {{ param }}\n",
    "\n",
    "import re\n",
    "\n",
    "# Testing the regex\n",
    "result = re.findall(\"\\$([^\\s]+)\",problem_text)\n",
    "\n",
    "if result:\n",
    "    print(\"Search successful.\")\n",
    "    print(result)\n",
    "else:\n",
    "    print(\"Search unsuccessful.\")\n",
    "\n",
    "def edx_var_to_pl(match):\n",
    "    text = match.group().replace('$','')\n",
    "    return '{{ '+text+' }}'\n",
    "\n",
    "reg = re.compile(\"\\$([^\\s|-]+)\") #Match anything like \"$m rest of sentence\" or \"$m-kg rest of sentence (leaves dash).\"\n",
    "\n",
    "problem_text = reg.sub(edx_var_to_pl,problem_text)\n",
    "\n",
    "print(problem_text)"
   ]
  },
  {
   "cell_type": "markdown",
   "metadata": {},
   "source": [
    "### Problem Type and Answer Choices (if applicable)\n",
    "\n",
    "See all edX [problem types here](https://edx.readthedocs.io/projects/edx-partner-course-staff/en/latest/exercises_tools/create_exercises_and_tools.html)."
   ]
  },
  {
   "cell_type": "code",
   "execution_count": 10,
   "metadata": {},
   "outputs": [],
   "source": [
    "problem_type = \"\"\n",
    "answer_section = \"## Answer Section\\n\\n\"\n",
    "mcq_python = \"\"\n",
    "\n",
    "for tag in soup.find_all():\n",
    "\n",
    "    if tag.name == \"numericalresponse\":\n",
    "        problem_type = \"numeric\"\n",
    "\n",
    "        answer_section += (\n",
    "            f\"\"\"The answer is: || { soup.find_all('numericalresponse')[0].get('answer') } &&.\"\"\"\n",
    "            .replace(\"||\", \"{{\")\n",
    "            .replace(\"&&\", \"}}\")\n",
    "            .replace(\"$\", \"\")\n",
    "        )\n",
    "\n",
    "    elif tag.name == \"multiplechoiceresponse\":\n",
    "        problem_type = \"mc\"\n",
    "\n",
    "        for i, response in enumerate(\n",
    "            soup.find_all(\"multiplechoiceresponse\")[0].find_all(\"choice\")):\n",
    "\n",
    "            answer_section += (\n",
    "                f\"- || { response.string.replace('$', '') } &&\\n\"\n",
    "                .replace('||', \"{{\")\n",
    "                .replace(\"&&\", \"}}\")\n",
    "            )\n",
    "\n",
    "            mcq_python += f\"data['params']['ans{ i+1 }'] = { response.string.replace('$', '') }\\n\"\n",
    "\n",
    "            if response.attrs[\"correct\"] == \"true\":\n",
    "                mcq_python += f\"data['params']['correct_answer'] = { response.string.replace('$', '') }\\n\"\n",
    "\n",
    "    elif tag.name == \"choiceresponse\":\n",
    "        problem_type = \"ma\"\n",
    "    elif tag.name == \"stringresponse\":\n",
    "        print(\"String response - plain text; not implemented yet\")\n",
    "        raise NotImplementedError\n",
    "    elif tag.name == \"optionresponse\":\n",
    "        print(\"Dropdown response; not implemented yet\")\n",
    "        raise NotImplementedError\n",
    "\n",
    "if problem_type == \"\":\n",
    "    raise NotImplementedError"
   ]
  },
  {
   "cell_type": "markdown",
   "metadata": {},
   "source": [
    "### Python Solution/Code"
   ]
  },
  {
   "cell_type": "code",
   "execution_count": 11,
   "metadata": {},
   "outputs": [
    {
     "name": "stdout",
     "output_type": "stream",
     "text": [
      "data2 = pbh.create_data2()\n",
      "\n",
      "# define or load names/items/objects\n",
      "\n",
      "# store phrases etc\n",
      "\n",
      "# Randomize Variables\n",
      "\n",
      "a = 35\n",
      "r = 0.1*random.randint(5, 15)\n",
      "tin = random.randint(18, 22)\n",
      "tout = 5\n",
      "nperson = 2\n",
      "pperson = 80\n",
      "sola = round(a*(tin-tout)/r-nperson*pperson, 2)\n",
      "pheater = 500\n",
      "eff = 0.5\n",
      "hours = random.randint(5, 9)\n",
      "days = 5*random.randint(10, 14)\n",
      "cost = 0.12\n",
      "solb = round(pheater*hours*days*3600/eff/3.6e6*cost, 2)\n",
      "  \n",
      "# store the variables in the dictionary params\n",
      "\n",
      "# define possible answers\n",
      "\n",
      "# Update the data object with a new dict\n",
      "data.update(data2)\n"
     ]
    }
   ],
   "source": [
    "imports = \"import random\\nimport problem_bank_helpers as pbh\"\n",
    "\n",
    "python_code = pathlib.Path('python_front.md').read_text()\n",
    "\n",
    "for tag in soup.find_all('script'):\n",
    "    \n",
    "    if tag['type'] == 'text/javascript':\n",
    "        pass\n",
    "    elif tag['type'] == 'text/python':\n",
    "        python_code += tag.contents[0]\n",
    "        \n",
    "python_code #+= 'θ'\n",
    "# Remove import of random\n",
    "python_code.replace('import random','')\n",
    "        \n",
    "full_python = python_code + pathlib.Path('python_end.md').read_text() + mcq_python\n",
    "\n",
    "print(full_python)"
   ]
  },
  {
   "cell_type": "code",
   "execution_count": 12,
   "metadata": {},
   "outputs": [
    {
     "data": {
      "text/plain": [
       "'data2 = pbh.create_data2()\\n\\n# define or load names/items/objects\\n\\n# store phrases etc\\n\\n# Randomize Variables\\n\\na = 35\\nr = 0.1*random.randint(5, 15)\\ntin = random.randint(18, 22)\\ntout = 5\\nnperson = 2\\npperson = 80\\nsola = round(a*(tin-tout)/r-nperson*pperson, 2)\\npheater = 500\\neff = 0.5\\nhours = random.randint(5, 9)\\ndays = 5*random.randint(10, 14)\\ncost = 0.12\\nsolb = round(pheater*hours*days*3600/eff/3.6e6*cost, 2)\\n  \\n# store the variables in the dictionary params\\n\\n# define possible answers\\n\\n# Update the data object with a new dict\\ndata.update(data2)'"
      ]
     },
     "execution_count": 12,
     "metadata": {},
     "output_type": "execute_result"
    }
   ],
   "source": [
    "full_python"
   ]
  },
  {
   "cell_type": "markdown",
   "metadata": {},
   "source": [
    "### Keep the feedback/Hints"
   ]
  },
  {
   "cell_type": "code",
   "execution_count": 13,
   "metadata": {},
   "outputs": [
    {
     "data": {
      "text/plain": [
       "'data2 = pbh.create_data2()\\n\\n# define or load names/items/objects\\n\\n# store phrases etc\\n\\n# Randomize Variables\\n\\na = 35\\nr = 0.1*random.randint(5, 15)\\ntin = random.randint(18, 22)\\ntout = 5\\nnperson = 2\\npperson = 80\\nsola = round(a*(tin-tout)/r-nperson*pperson, 2)\\npheater = 500\\neff = 0.5\\nhours = random.randint(5, 9)\\ndays = 5*random.randint(10, 14)\\ncost = 0.12\\nsolb = round(pheater*hours*days*3600/eff/3.6e6*cost, 2)\\n  '"
      ]
     },
     "execution_count": 13,
     "metadata": {},
     "output_type": "execute_result"
    }
   ],
   "source": [
    "python_code"
   ]
  },
  {
   "cell_type": "code",
   "execution_count": 14,
   "metadata": {},
   "outputs": [],
   "source": [
    "feedback = \"\\n\\n\".join([h.contents[0] for h in soup.find_all('hint')])"
   ]
  },
  {
   "cell_type": "code",
   "execution_count": 21,
   "metadata": {},
   "outputs": [],
   "source": [
    "yaml_dict = {}\n",
    "\n",
    "yaml_dict['title'] = title\n",
    "yaml_dict['topic'] = 'undefined'\n",
    "yaml_dict['author'] = author\n",
    "yaml_dict['source'] = source\n",
    "yaml_dict['template_version']: 1.1\n",
    "yaml_dict['attribution'] = 'standard'\n",
    "yaml_dict['outcomes'] = 'undefined'\n",
    "yaml_dict['difficulty'] = 'Average'\n",
    "yaml_dict['randomization'] = 'undefined'\n",
    "yaml_dict['tags'] = 'undefined'\n",
    "yaml_dict['assets'] = image\n",
    "\n",
    "yaml_dict['server'] = {}\n",
    "yaml_dict['server']['imports'] = imports\n",
    "yaml_dict['server']['generate'] = full_python\n",
    "yaml_dict['server']['prepare'] = 'pass'\n",
    "yaml_dict['server']['parse'] = 'pass'\n",
    "yaml_dict['server']['grade'] = 'pass'\n",
    "\n",
    "yaml_dict['part1'] = {}\n",
    "yaml_dict['part1']['type'] = problem_type\n",
    "yaml_dict['part1']['pl-customizations'] = {}\n",
    "yaml_dict['part1']['pl-customizations']['weight'] = 1"
   ]
  },
  {
   "cell_type": "code",
   "execution_count": 22,
   "metadata": {},
   "outputs": [
    {
     "data": {
      "text/plain": [
       "{'title': '7.sigma',\n",
       " 'topic': 'undefined',\n",
       " 'author': 'edX Physics 100 Team',\n",
       " 'source': 'https://github.com/open-resources/edx_bank',\n",
       " 'attribution': 'standard',\n",
       " 'outcomes': 'undefined',\n",
       " 'difficulty': 'Average',\n",
       " 'randomization': 'undefined',\n",
       " 'tags': 'undefined',\n",
       " 'assets': 'undefined',\n",
       " 'server': {'imports': 'import random\\nimport problem_bank_helpers as pbh',\n",
       "  'generate': 'data2 = pbh.create_data2()\\n\\n# define or load names/items/objects\\n\\n# store phrases etc\\n\\n# Randomize Variables\\n\\na = 35\\nr = 0.1*random.randint(5, 15)\\ntin = random.randint(18, 22)\\ntout = 5\\nnperson = 2\\npperson = 80\\nsola = round(a*(tin-tout)/r-nperson*pperson, 2)\\npheater = 500\\neff = 0.5\\nhours = random.randint(5, 9)\\ndays = 5*random.randint(10, 14)\\ncost = 0.12\\nsolb = round(pheater*hours*days*3600/eff/3.6e6*cost, 2)\\n  \\n# store the variables in the dictionary params\\n\\n# define possible answers\\n\\n# Update the data object with a new dict\\ndata.update(data2)',\n",
       "  'prepare': 'pass',\n",
       "  'parse': 'pass',\n",
       "  'grade': 'pass'},\n",
       " 'part1': {'type': 'numeric', 'pl-customizations': {'weight': 1}}}"
      ]
     },
     "execution_count": 22,
     "metadata": {},
     "output_type": "execute_result"
    }
   ],
   "source": [
    "yaml_dict"
   ]
  },
  {
   "cell_type": "code",
   "execution_count": 24,
   "metadata": {},
   "outputs": [
    {
     "name": "stdout",
     "output_type": "stream",
     "text": [
      "title: 7.sigma\n",
      "topic: undefined\n",
      "author: edX Physics 100 Team\n",
      "source: https://github.com/open-resources/edx_bank\n",
      "attribution: standard\n",
      "outcomes: undefined\n",
      "difficulty: Average\n",
      "randomization: undefined\n",
      "tags: undefined\n",
      "assets: undefined\n",
      "server:\n",
      "  imports: |-\n",
      "    import random\n",
      "    import problem_bank_helpers as pbh\n",
      "  generate: |-\n",
      "    data2 = pbh.create_data2()\n",
      "\n",
      "\n",
      "    # store phrases etc\n",
      "\n",
      "\n",
      "    a = 35\n",
      "    r = 0.1*random.randint(5, 15)\n",
      "    tin = random.randint(18, 22)\n",
      "    tout = 5\n",
      "    nperson = 2\n",
      "    pperson = 80\n",
      "    sola = round(a*(tin-tout)/r-nperson*pperson, 2)\n",
      "    pheater = 500\n",
      "    eff = 0.5\n",
      "    hours = random.randint(5, 9)\n",
      "    days = 5*random.randint(10, 14)\n",
      "    cost = 0.12\n",
      "    solb = round(pheater*hours*days*3600/eff/3.6e6*cost, 2)\n",
      "\n",
      "    # store the variables in the dictionary params\n",
      "\n",
      "\n",
      "    # Update the data object with a new dict\n",
      "    data.update(data2)\n",
      "  prepare: pass\n",
      "  parse: pass\n",
      "  grade: pass\n",
      "part1:\n",
      "  type: numeric\n",
      "  pl-customizations:\n",
      "    weight: 1\n",
      "\n"
     ]
    }
   ],
   "source": [
    "## Preparing the YAML dictionary\n",
    "\n",
    "import yaml\n",
    "\n",
    "# This solution is copied from this SO answer: https://stackoverflow.com/a/45004775/2217577 \n",
    "\n",
    "yaml.SafeDumper.org_represent_str = yaml.SafeDumper.represent_str\n",
    "    \n",
    "def repr_str(dumper, data):\n",
    "    #raise KeyError\n",
    "    #print(data)\n",
    "    if ('\\n' in data):\n",
    "        data = re.sub('\\\\n[\\s].*\\\\n','\\n\\n',data)\n",
    "\n",
    "\n",
    "        return dumper.represent_scalar(u'tag:yaml.org,2002:str', data.replace('\\n  ','\\n'), style='|')\n",
    "    return dumper.org_represent_str(data)\n",
    "\n",
    "yaml.add_representer(str, repr_str, Dumper=yaml.SafeDumper)\n",
    "\n",
    "print(yaml.safe_dump(yaml_dict,sort_keys=False))"
   ]
  },
  {
   "cell_type": "markdown",
   "metadata": {},
   "source": [
    "### Rest of the MD format"
   ]
  },
  {
   "cell_type": "code",
   "execution_count": 25,
   "metadata": {},
   "outputs": [],
   "source": [
    "start = \"# {{ vars.title }}\\n\\n## Question Text\\n\\n\"\n",
    "end = pathlib.Path('md_end.md').read_text()"
   ]
  },
  {
   "cell_type": "code",
   "execution_count": 26,
   "metadata": {},
   "outputs": [
    {
     "data": {
      "text/plain": [
       "2191"
      ]
     },
     "execution_count": 26,
     "metadata": {},
     "output_type": "execute_result"
    }
   ],
   "source": [
    "pathlib.Path(\"test_question.md\").write_text('---\\n' +\\\n",
    "                                    yaml.safe_dump(yaml_dict,sort_keys=False) +\\\n",
    "                                    '---\\n' +\\\n",
    "                                    start +\\\n",
    "                                    problem_text +\\\n",
    "                                    answer_section +\\\n",
    "                                    end +\\\n",
    "                                    feedback)"
   ]
  },
  {
   "cell_type": "markdown",
   "metadata": {},
   "source": [
    "## Converting the above to a function"
   ]
  },
  {
   "cell_type": "code",
   "execution_count": 30,
   "metadata": {},
   "outputs": [
    {
     "ename": "SyntaxError",
     "evalue": "invalid syntax (<ipython-input-30-6ccd316df394>, line 64)",
     "output_type": "error",
     "traceback": [
      "\u001b[0;36m  File \u001b[0;32m\"<ipython-input-30-6ccd316df394>\"\u001b[0;36m, line \u001b[0;32m64\u001b[0m\n\u001b[0;31m    f\"The answer is: || { soup.find_all('numericalresponse')[0].get(\"answer\") } &&.\"\u001b[0m\n\u001b[0m                                                                     ^\u001b[0m\n\u001b[0;31mSyntaxError\u001b[0m\u001b[0;31m:\u001b[0m invalid syntax\n"
     ]
    }
   ],
   "source": [
    "filepath = \"../../edx_bank/library003/problem/\" + problem_file_name\n",
    "\n",
    "import re\n",
    "import yaml\n",
    "\n",
    "def convert_edx_to_md(filepath):\n",
    "    \n",
    "    # Load Path\n",
    "    path = pathlib.Path(filepath)\n",
    "    \n",
    "    # Beautiful Soup XML\n",
    "    soup = BeautifulSoup(path.read_text(),\"xml\")\n",
    "    \n",
    "    # XML processing\n",
    "    title = soup.find_all(\"problem\")[0].get(\"display_name\")\n",
    "    \n",
    "    # Info from the template\n",
    "    author = \"edX Physics 100 Team\"\n",
    "    source = \"https://github.com/open-resources/edx_bank\"\n",
    "    \n",
    "    # Deal with images\n",
    "    \n",
    "    try: \n",
    "        image = pathlib.Path(soup.find_all(\"img\")[0].get(\"src\")).name\n",
    "\n",
    "    except IndexError: # No images in the problem\n",
    "        image = \"undefined\"\n",
    "    \n",
    "    # Load problem \n",
    "\n",
    "    problem_text = soup.find_all(\"p\")[0].contents[0]\n",
    "\n",
    "    # Clean up problem text\n",
    "    problem_text = (\n",
    "        problem_text\n",
    "        .replace(\"\\(\", \"\")  # get rid of left brackets\n",
    "        .replace(\"\\)\", \"\")  # get rid of right brackets\n",
    "        .replace(\". \",\".\\n\") # Each sentence on a new line\n",
    "        .replace(\"? \",\".\\n\") # Each question on a new line\n",
    "        .replace(\"! \",\".\\n\") # Each excited sentence on a new line\n",
    "        + \"\\n\\n\" # Add some new line chars\n",
    "    )\n",
    "\n",
    "    # Replace $param with {{ param }}\n",
    "    def edx_var_to_pl(match):\n",
    "        text = match.group().replace(\"$\",\"\")\n",
    "        return \"{{ \"+text+\" }}\"\n",
    "\n",
    "    reg = re.compile(\"\\$([^\\s|-]+)\") #Match anything like \"$m rest of sentence\" or \"$m-kg rest of sentence (leaves dash).\"\n",
    "    problem_text = reg.sub(edx_var_to_pl,problem_text)\n",
    "    \n",
    "    # Building the problem template file\n",
    "\n",
    "    problem_type = \"\"\n",
    "    answer_section = \"## Answer Section\\n\\n\"\n",
    "    mcq_python = \"\"\n",
    "\n",
    "    for tag in soup.find_all():\n",
    "\n",
    "        if tag.name == \"numericalresponse\":\n",
    "            problem_type = \"numeric\"\n",
    "\n",
    "            answer_section += (\n",
    "                f\"The answer is: || { soup.find_all('numericalresponse')[0].get(\"answer\") } &&.\"\n",
    "                .replace(\"||\", \"{{\")\n",
    "                .replace(\"&&\", \"}}\")\n",
    "                .replace(\"$\", \"\")\n",
    "            )\n",
    "\n",
    "        elif tag.name == \"multiplechoiceresponse\":\n",
    "            problem_type = \"mc\"\n",
    "\n",
    "            for i, response in enumerate(\n",
    "                soup.find_all(\"multiplechoiceresponse\")[0].find_all(\"choice\")):\n",
    "\n",
    "                answer_section += (\n",
    "                    f\"- || { response.string.replace(\"$\", '') } &&\\n\"\n",
    "                    .replace(\"||\", \"{{\")\n",
    "                    .replace(\"&&\", \"}}\")\n",
    "                )\n",
    "\n",
    "                mcq_python += f\"data[\"params\"][\"ans{ i+1 }\"] = { response.string.replace(\"$\", \"\") }\\n\"\n",
    "\n",
    "                if response.attrs[\"correct\"] == \"true\":\n",
    "                    mcq_python += f\"data[\"params\"][\"correct_answer\"] = { response.string.replace(\"$\", \"\") }\\n\"\n",
    "\n",
    "        elif tag.name == \"choiceresponse\":\n",
    "            problem_type = \"ma\"\n",
    "        elif tag.name == \"stringresponse\":\n",
    "            print(\"String response - plain text; not implemented yet\")\n",
    "            raise NotImplementedError\n",
    "        elif tag.name == \"optionresponse\":\n",
    "            print(\"Dropdown response; not implemented yet\")\n",
    "            raise NotImplementedError\n",
    "\n",
    "    if problem_type == \"\":\n",
    "        raise NotImplementedError\n",
    "        \n",
    "    # Solutions\n",
    "    \n",
    "    imports = \"import random\\nimport problem_bank_helpers as pbh\"\n",
    "\n",
    "    python_code = pathlib.Path(\"python_front.md\").read_text()\n",
    "\n",
    "    for tag in soup.find_all(\"script\"):\n",
    "\n",
    "        if tag[\"type\"] == \"text/javascript\":\n",
    "            pass\n",
    "        elif tag[\"type\"] == \"text/python\":\n",
    "            python_code += tag.contents[0]\n",
    "\n",
    "    # Remove import of random\n",
    "    python_code.replace(\"import random\",\"\")\n",
    "\n",
    "    full_python = python_code + pathlib.Path(\"python_end.md\").read_text() + mcq_python\n",
    "    \n",
    "    # Feedback and hints\n",
    "    feedback = \"\\n\\n\" + \"\\n\\n\".join([h.contents[0] for h in soup.find_all(\"hint\")])\n",
    "        \n",
    "    # Preparing the YAML dictionary\n",
    "    # This solution is copied from this SO answer: https://stackoverflow.com/a/45004775/2217577 \n",
    "\n",
    "    yaml.SafeDumper.org_represent_str = yaml.SafeDumper.represent_str\n",
    "\n",
    "    def repr_str(dumper, data):\n",
    "        if \"\\n\" in data:\n",
    "            data = re.sub('\\\\n[\\s].* \\\\n','\\n\\n',data)\n",
    "            return dumper.represent_scalar(u\"tag:yaml.org,2002:str\", data, style=\"|\")\n",
    "        return dumper.org_represent_str(data)\n",
    "\n",
    "    yaml.add_representer(str, repr_str, Dumper=yaml.SafeDumper)\n",
    "    \n",
    "    # Create YAML dict\n",
    "    \n",
    "    yaml_dict = {}\n",
    "\n",
    "    yaml_dict[\"title\"] = title\n",
    "    yaml_dict[\"topic\"] = \"undefined\"\n",
    "    yaml_dict[\"author\"] = author\n",
    "    yaml_dict[\"source\"] = source\n",
    "    yaml_dict[\"template_version\"]: 1.1\n",
    "    yaml_dict[\"attribution\"] = \"standard\"\n",
    "    yaml_dict[\"outcomes\"] = \"undefined\"\n",
    "    yaml_dict[\"difficulty\"] = \"Average\"\n",
    "    yaml_dict[\"randomization\"] = \"undefined\"\n",
    "    yaml_dict[\"tags\"] = \"undefined\"\n",
    "    yaml_dict[\"assets\"] = \"undefined\"\n",
    "    yaml_dict[\"server\"] = {}\n",
    "\n",
    "    yaml_dict[\"server\"][\"imports\"] = imports\n",
    "    yaml_dict[\"server\"][\"generate\"] = full_python\n",
    "    yaml_dict[\"server\"][\"prepare\"] = \"pass\"\n",
    "    yaml_dict[\"server\"][\"parse\"] = \"pass\"\n",
    "    yaml_dict[\"server\"][\"grade\"] = \"pass\"\n",
    "\n",
    "    yaml_dict[\"part1\"] = {}\n",
    "    yaml_dict[\"part1\"][\"type\"] = problem_type\n",
    "    yaml_dict[\"part1\"][\"pl-customizations\"] = {}\n",
    "    yaml_dict[\"part1\"][\"pl-customizations\"][\"weight\"] = 1\n",
    "    \n",
    "    # Finalize template\n",
    "    start = \"# {{ vars.title }}\\n\\n## Question Text\\n\\n\"\n",
    "    end = pathlib.Path(\"md_end.md\").read_text()\n",
    "    \n",
    "    path.with_suffix(\".md\").write_text(\"---\\n\" +\\\n",
    "                                        yaml.safe_dump(yaml_dict,sort_keys=False) +\\\n",
    "                                        \"---\\n\" +\\\n",
    "                                        start +\\\n",
    "                                        problem_text +\\\n",
    "                                        answer_section +\\\n",
    "                                        end +\\\n",
    "                                        feedback)"
   ]
  },
  {
   "cell_type": "code",
   "execution_count": 19,
   "metadata": {},
   "outputs": [],
   "source": [
    "# Test it once\n",
    "\n",
    "convert_edx_to_md(filepath)"
   ]
  },
  {
   "cell_type": "code",
   "execution_count": 20,
   "metadata": {},
   "outputs": [
    {
     "name": "stdout",
     "output_type": "stream",
     "text": [
      "failed: 99eb62fe04ff419d860883a42743bcfd.xml\n",
      "failed: edba445f66a042209784ef7160c664a9.xml\n",
      "failed: 963333e5fdff44b1b45b8c0af4e2cc5a.xml\n"
     ]
    }
   ],
   "source": [
    "# Release the hounds\n",
    "\n",
    "for f in pathlib.Path('../../edx_bank/').glob('**/*.xml'):\n",
    "    if 'library' in f.name:\n",
    "        continue\n",
    "    else:\n",
    "        try:\n",
    "            convert_edx_to_md(f)\n",
    "        except:\n",
    "            print(f\"failed: {f.name}\")"
   ]
  },
  {
   "cell_type": "code",
   "execution_count": 21,
   "metadata": {},
   "outputs": [
    {
     "data": {
      "text/plain": [
       "'../../edx_bank/library003/problem/test2_p8_vC.xml'"
      ]
     },
     "execution_count": 21,
     "metadata": {},
     "output_type": "execute_result"
    }
   ],
   "source": [
    "filepath"
   ]
  },
  {
   "cell_type": "code",
   "execution_count": null,
   "metadata": {},
   "outputs": [],
   "source": []
  }
 ],
 "metadata": {
  "kernelspec": {
   "display_name": "Python 3",
   "language": "python",
   "name": "python3"
  },
  "language_info": {
   "codemirror_mode": {
    "name": "ipython",
    "version": 3
   },
   "file_extension": ".py",
   "mimetype": "text/x-python",
   "name": "python",
   "nbconvert_exporter": "python",
   "pygments_lexer": "ipython3",
   "version": "3.8.3"
  }
 },
 "nbformat": 4,
 "nbformat_minor": 4
}
