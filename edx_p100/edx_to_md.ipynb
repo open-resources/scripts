{
 "cells": [
  {
   "cell_type": "markdown",
   "metadata": {},
   "source": [
    "# EdX to Markdown format\n",
    "\n",
    "See [here for a nice tutorial on beautifulsoup for xml files](http://www2.hawaii.edu/~takebaya/cent110/xml_parse/xml_parse.html)."
   ]
  },
  {
   "cell_type": "code",
   "execution_count": 1,
   "metadata": {},
   "outputs": [],
   "source": [
    "from pathlib import Path\n",
    "from bs4 import BeautifulSoup"
   ]
  },
  {
   "cell_type": "markdown",
   "metadata": {},
   "source": [
    "## First read in a sample xml problem file"
   ]
  },
  {
   "cell_type": "code",
   "execution_count": 2,
   "metadata": {},
   "outputs": [],
   "source": [
    "problem_file_name = 'test2_p8_vA.xml' # mcq\n",
    "#problem_file_name = 'test2_p8_vC.xml' # numerical response\n",
    "\n",
    "path = '../../edx_bank/library003/problem/' + problem_file_name\n",
    "\n",
    "\n",
    "file = open(path,'r')\n",
    "file_contents = file.read()"
   ]
  },
  {
   "cell_type": "code",
   "execution_count": 3,
   "metadata": {},
   "outputs": [
    {
     "data": {
      "text/plain": [
       "<?xml version=\"1.0\" encoding=\"utf-8\"?>\n",
       "<problem display_name=\"8.kappa\" lg=\"2.200\" markdown=\"null\" max_attempts=\"1\" rerandomize=\"per_student\" showanswer=\"never\">\n",
       "<script type=\"text/javascript\">\n",
       "   (function() {\n",
       "    $( \".check-label\" ).text(\"Submit\");\n",
       "   })();\n",
       "</script>\n",
       "<script system_path=\"python_lib\" type=\"text/python\">\n",
       "ga = 9.8\n",
       "gb = 0.1*random.randint(40, 80)\n",
       "a = 1.5\n",
       "sol = ga+a-gb\n",
       "c2 = ga+a+gb\n",
       "c3 = ga+a\n",
       "c4 = ga-gb\n",
       "</script>\n",
       "<p>8) During an inter-planetary experiment, a bathroom scale is placed on two elevators located in two different planets. Planet A (Earth) has a constant of gravity \\(g_A = \\) $ga m/s\\(^2\\) and planet B has a constant of gravity \\(g_B = \\) $gb m/s\\(^2\\). During the experiment, the elevator on Earth starts from rest and is accelerated upwards at a rate of \\($a m/s^2\\). If the scale reading for an astronaut during her way up in the elevator is the same in both planets, what is the magnitude of the elevator's acceleration (in \\(m/s^2\\)) on planet B? Note: the elevator on planet B is also accelerating upwards. </p>\n",
       "<multiplechoiceresponse>\n",
       "<choicegroup label=\"\" show_correctness=\"never\" type=\"MultipleChoice\">\n",
       "<choice correct=\"true\">$sol</choice>\n",
       "<choice correct=\"false\">$c2</choice>\n",
       "<choice correct=\"false\">$c3</choice>\n",
       "<choice correct=\"false\">$c4</choice>\n",
       "</choicegroup>\n",
       "</multiplechoiceresponse>\n",
       "<demandhint>\n",
       "<hint>We have the same type of forces on the astronaut both planets. Which force is measured by the bathroom scale?</hint>\n",
       "</demandhint>\n",
       "</problem>"
      ]
     },
     "execution_count": 3,
     "metadata": {},
     "output_type": "execute_result"
    }
   ],
   "source": [
    "soup = BeautifulSoup(file_contents,'xml')\n",
    "soup"
   ]
  },
  {
   "cell_type": "code",
   "execution_count": 4,
   "metadata": {},
   "outputs": [
    {
     "data": {
      "text/plain": [
       "['problem',\n",
       " 'script',\n",
       " 'script',\n",
       " 'p',\n",
       " 'multiplechoiceresponse',\n",
       " 'choicegroup',\n",
       " 'choice',\n",
       " 'choice',\n",
       " 'choice',\n",
       " 'choice',\n",
       " 'demandhint',\n",
       " 'hint']"
      ]
     },
     "execution_count": 4,
     "metadata": {},
     "output_type": "execute_result"
    }
   ],
   "source": [
    "[tag.name for tag in soup.find_all()]"
   ]
  },
  {
   "cell_type": "markdown",
   "metadata": {},
   "source": [
    "### Title"
   ]
  },
  {
   "cell_type": "code",
   "execution_count": 5,
   "metadata": {},
   "outputs": [
    {
     "data": {
      "text/plain": [
       "'8.kappa'"
      ]
     },
     "execution_count": 5,
     "metadata": {},
     "output_type": "execute_result"
    }
   ],
   "source": [
    "title = soup.find_all('problem')[0].get('display_name')\n",
    "title"
   ]
  },
  {
   "cell_type": "markdown",
   "metadata": {},
   "source": [
    "### Author and Source"
   ]
  },
  {
   "cell_type": "code",
   "execution_count": 6,
   "metadata": {},
   "outputs": [],
   "source": [
    "author = \"edX Physics 100 Team\"\n",
    "source = \"https://github.com/open-resources/edx_bank\""
   ]
  },
  {
   "cell_type": "markdown",
   "metadata": {},
   "source": [
    "### Problem Text"
   ]
  },
  {
   "cell_type": "code",
   "execution_count": 25,
   "metadata": {},
   "outputs": [
    {
     "name": "stdout",
     "output_type": "stream",
     "text": [
      "8) During an inter-planetary experiment, a bathroom scale is placed on two elevators located in two different planets. Planet A (Earth) has a constant of gravity g_A = {{ga m/s^2 and planet B has a constant of gravity g_B = {{gb m/s^2. During the experiment, the elevator on Earth starts from rest and is accelerated upwards at a rate of $a m/s^2. If the scale reading for an astronaut during her way up in the elevator is the same in both planets, what is the magnitude of the elevator's acceleration (in m/s^2) on planet B? Note: the elevator on planet B is also accelerating upwards. \n",
      "\n",
      "\n"
     ]
    }
   ],
   "source": [
    "problem_text = soup.find_all(\"p\")[0].contents[0]\n",
    "\n",
    "problem_text = (\n",
    "    problem_text\n",
    "    .replace(\"\\(\", \"\")  # get rid of left brackets\n",
    "    .replace(\"\\)\", \"\")  # get rid of right brackets\n",
    "    .replace(\"  $\", \" {{\")  # replace edX way of using vars to new way: $ with {{. #TODO: Need to fix this by using regex to get the end }}.\n",
    "    + \"\\n\\n\" # Add some new line chars\n",
    ")\n",
    "\n",
    "print(problem_text)"
   ]
  },
  {
   "cell_type": "markdown",
   "metadata": {},
   "source": [
    "### Problem Type and Answer Choices (if applicable)\n",
    "\n",
    "See all edX [problem types here](https://edx.readthedocs.io/projects/edx-partner-course-staff/en/latest/exercises_tools/create_exercises_and_tools.html)."
   ]
  },
  {
   "cell_type": "code",
   "execution_count": 33,
   "metadata": {},
   "outputs": [],
   "source": [
    "problem_type = \"\"\n",
    "answer_section = \"## Answer Section\\n\\n\"\n",
    "mcq_python = \"\"\n",
    "\n",
    "for tag in soup.find_all():\n",
    "\n",
    "    if tag.name == \"numericalresponse\":\n",
    "        problem_type = \"numeric\"\n",
    "\n",
    "        answer_section += (\n",
    "            f\"The answer is: || { soup.find_all('numericalresponse')[0].get('answer') } &&.\"\n",
    "            .replace(\"||\", \"{{\")\n",
    "            .replace(\"&&\", \"}}\")\n",
    "            .replace(\"$\", \"\")\n",
    "        )\n",
    "\n",
    "    elif tag.name == \"multiplechoiceresponse\":\n",
    "        problem_type = \"mc\"\n",
    "\n",
    "        for i, response in enumerate(\n",
    "            soup.find_all(\"multiplechoiceresponse\")[0].find_all(\"choice\")):\n",
    "\n",
    "            answer_section += (\n",
    "                f\"- || { response.string.replace('$', '') } &&\\n\"\n",
    "                .replace('||', \"{{\")\n",
    "                .replace(\"&&\", \"}}\")\n",
    "            )\n",
    "\n",
    "            mcq_python += f\"data['params']['ans{ i+1 }'] = { response.string.replace('$', '') }\\n\"\n",
    "\n",
    "            if response.attrs[\"correct\"] == \"true\":\n",
    "                mcq_python += f\"data['params']['correct_answer'] = { response.string.replace('$', '') }\\n\"\n",
    "\n",
    "    elif tag.name == \"choiceresponse\":\n",
    "        problem_type = \"ma\"\n",
    "    elif tag.name == \"stringresponse\":\n",
    "        print(\"String response - plain text; not implemented yet\")\n",
    "        raise NotImplementedError\n",
    "    elif tag.name == \"optionresponse\":\n",
    "        print(\"Dropdown response; not implemented yet\")\n",
    "        raise NotImplementedError\n",
    "\n",
    "if problem_type == \"\":\n",
    "    raise NotImplementedError"
   ]
  },
  {
   "cell_type": "markdown",
   "metadata": {},
   "source": [
    "### Python Solution/Code"
   ]
  },
  {
   "cell_type": "code",
   "execution_count": 34,
   "metadata": {},
   "outputs": [
    {
     "name": "stdout",
     "output_type": "stream",
     "text": [
      "import random\n",
      "\n",
      "# define or load names/items/objects\n",
      "\n",
      "# store phrases etc\n",
      "\n",
      "# define bounds of the variables\n",
      "\n",
      "ga = 9.8\n",
      "gb = 0.1*random.randint(40, 80)\n",
      "a = 1.5\n",
      "sol = ga+a-gb\n",
      "c2 = ga+a+gb\n",
      "c3 = ga+a\n",
      "c4 = ga-gb\n",
      "\n",
      "# store the variables in the dictionary params\n",
      "\n",
      "# define possible answers\n",
      "\n",
      "data['params']['ans1'] = sol\n",
      "data['params']['correct_answer'] = sol\n",
      "data['params']['ans2'] = c2\n",
      "data['params']['ans3'] = c3\n",
      "data['params']['ans4'] = c4\n",
      "\n"
     ]
    }
   ],
   "source": [
    "python_code = Path('python_front.md').read_text()\n",
    "\n",
    "for tag in soup.find_all('script'):\n",
    "    \n",
    "    if tag['type'] == 'text/javascript':\n",
    "        pass\n",
    "    elif tag['type'] == 'text/python':\n",
    "        python_code += tag.contents[0]\n",
    "        \n",
    "full_python = python_code + Path('python_end.md').read_text() + mcq_python\n",
    "\n",
    "print(full_python)"
   ]
  },
  {
   "cell_type": "code",
   "execution_count": 35,
   "metadata": {},
   "outputs": [],
   "source": [
    "## Preparing the YAML dictionary\n",
    "\n",
    "import yaml\n",
    "\n",
    "# This solution is copied from this SO answer: https://stackoverflow.com/a/45004775/2217577 \n",
    "\n",
    "yaml.SafeDumper.org_represent_str = yaml.SafeDumper.represent_str\n",
    "\n",
    "def repr_str(dumper, data):\n",
    "    if '\\n' in data:\n",
    "        return dumper.represent_scalar(u'tag:yaml.org,2002:str', data, style='|')\n",
    "    return dumper.org_represent_str(data)\n",
    "\n",
    "yaml.add_representer(str, repr_str, Dumper=yaml.SafeDumper)"
   ]
  },
  {
   "cell_type": "code",
   "execution_count": 36,
   "metadata": {},
   "outputs": [],
   "source": [
    "yaml_dict = {}\n",
    "\n",
    "yaml_dict['title'] = title\n",
    "yaml_dict['author'] = author\n",
    "yaml_dict['source'] = source\n",
    "yaml_dict['type'] = problem_type\n",
    "yaml_dict['tags'] = ['TBD']\n",
    "yaml_dict['outcomes'] = ['TBD']\n",
    "yaml_dict['assets'] = ['TBD']\n",
    "yaml_dict['server'] = full_python #'import random \\\\n b=u'"
   ]
  },
  {
   "cell_type": "code",
   "execution_count": 37,
   "metadata": {},
   "outputs": [
    {
     "name": "stdout",
     "output_type": "stream",
     "text": [
      "title: 8.kappa\n",
      "author: edX Physics 100 Team\n",
      "source: https://github.com/open-resources/edx_bank\n",
      "type: mc\n",
      "tags:\n",
      "- TBD\n",
      "outcomes:\n",
      "- TBD\n",
      "assets:\n",
      "- TBD\n",
      "server: |\n",
      "  import random\n",
      "\n",
      "  # define or load names/items/objects\n",
      "\n",
      "  # store phrases etc\n",
      "\n",
      "  # define bounds of the variables\n",
      "\n",
      "  ga = 9.8\n",
      "  gb = 0.1*random.randint(40, 80)\n",
      "  a = 1.5\n",
      "  sol = ga+a-gb\n",
      "  c2 = ga+a+gb\n",
      "  c3 = ga+a\n",
      "  c4 = ga-gb\n",
      "\n",
      "  # store the variables in the dictionary params\n",
      "\n",
      "  # define possible answers\n",
      "\n",
      "  data['params']['ans1'] = sol\n",
      "  data['params']['correct_answer'] = sol\n",
      "  data['params']['ans2'] = c2\n",
      "  data['params']['ans3'] = c3\n",
      "  data['params']['ans4'] = c4\n",
      "\n"
     ]
    }
   ],
   "source": [
    "print(yaml.safe_dump(yaml_dict,sort_keys=False))"
   ]
  },
  {
   "cell_type": "markdown",
   "metadata": {},
   "source": [
    "### Rest of the MD format"
   ]
  },
  {
   "cell_type": "code",
   "execution_count": 40,
   "metadata": {},
   "outputs": [],
   "source": [
    "start = \"# {{ vars.title }}\\n\\n## Question Text\\n\\n\"\n"
   ]
  },
  {
   "cell_type": "code",
   "execution_count": 41,
   "metadata": {},
   "outputs": [
    {
     "data": {
      "text/plain": [
       "1324"
      ]
     },
     "execution_count": 41,
     "metadata": {},
     "output_type": "execute_result"
    }
   ],
   "source": [
    "Path(\"test_question.md\").write_text('---\\n' +\\\n",
    "                                    yaml.safe_dump(yaml_dict,sort_keys=False) +\\\n",
    "                                    '---\\n' +\\\n",
    "                                    start +\\\n",
    "                                    problem_text +\\\n",
    "                                    answer_section)"
   ]
  },
  {
   "cell_type": "code",
   "execution_count": null,
   "metadata": {},
   "outputs": [],
   "source": [
    "\n"
   ]
  }
 ],
 "metadata": {
  "kernelspec": {
   "display_name": "Python 3",
   "language": "python",
   "name": "python3"
  },
  "language_info": {
   "codemirror_mode": {
    "name": "ipython",
    "version": 3
   },
   "file_extension": ".py",
   "mimetype": "text/x-python",
   "name": "python",
   "nbconvert_exporter": "python",
   "pygments_lexer": "ipython3",
   "version": "3.8.3"
  }
 },
 "nbformat": 4,
 "nbformat_minor": 4
}
