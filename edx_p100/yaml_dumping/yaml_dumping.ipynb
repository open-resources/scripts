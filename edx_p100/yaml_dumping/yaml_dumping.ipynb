{
 "cells": [
  {
   "cell_type": "markdown",
   "metadata": {},
   "source": [
    "# STUPID YAML"
   ]
  },
  {
   "cell_type": "code",
   "execution_count": 63,
   "metadata": {},
   "outputs": [],
   "source": [
    "## Preparing the YAML dictionary\n",
    "\n",
    "import yaml\n",
    "import re\n",
    "# This solution is copied from this SO answer: https://stackoverflow.com/a/45004775/2217577 \n",
    "\n",
    "yaml.SafeDumper.org_represent_str = yaml.SafeDumper.represent_str\n",
    "    \n",
    "def repr_str(dumper, data):\n",
    "    #raise KeyError\n",
    "    #print(data)\n",
    "    if ('\\n' in data):\n",
    "        #data = re.sub('\\\\n[\\s].* \\\\n','\\n\\n',data)\n",
    "        data = re.sub('\\\\n\\s+\\\\n','\\n\\n',data) # Try \\s{3,} for three or more spaces\n",
    "        \n",
    "        return dumper.represent_scalar(u'tag:yaml.org,2002:str', data, style='|') #\n",
    "    return dumper.org_represent_str(data)\n",
    "\n",
    "yaml.add_representer(str, repr_str, Dumper=yaml.SafeDumper)"
   ]
  },
  {
   "cell_type": "code",
   "execution_count": 64,
   "metadata": {},
   "outputs": [],
   "source": [
    "imports = \"import random\\nimport problem_bank_helpers as pbh\""
   ]
  },
  {
   "cell_type": "code",
   "execution_count": 65,
   "metadata": {},
   "outputs": [
    {
     "name": "stdout",
     "output_type": "stream",
     "text": [
      "# Hello World\n",
      "\n",
      "for i in range(10):\n",
      "    print(i)\n",
      "\n",
      "                \n",
      "\n",
      "    if i >5:\n",
      "        print(i+1)\n"
     ]
    }
   ],
   "source": [
    "str1 = \"# Hello World\\n\\nfor i in range(10):\\n    print(i)\\n\\n                \\n\\n    if i >5:\\n        print(i+1)\"\n",
    "print(str1)"
   ]
  },
  {
   "cell_type": "code",
   "execution_count": 66,
   "metadata": {},
   "outputs": [
    {
     "data": {
      "text/plain": [
       "'|-\\n  # Hello World\\n\\n      print(i)\\n\\n\\n\\n          print(i+1)\\n'"
      ]
     },
     "execution_count": 66,
     "metadata": {},
     "output_type": "execute_result"
    }
   ],
   "source": [
    "yaml.dump(str1)"
   ]
  },
  {
   "cell_type": "code",
   "execution_count": 67,
   "metadata": {},
   "outputs": [],
   "source": [
    "t = 'jooij;oijoijoijioi \\n    \\n liuhiuhiulhliuhuihuihui'"
   ]
  },
  {
   "cell_type": "code",
   "execution_count": 68,
   "metadata": {},
   "outputs": [
    {
     "data": {
      "text/plain": [
       "'jooij;oijoijoijioi \\n\\n liuhiuhiulhliuhuihuihui'"
      ]
     },
     "execution_count": 68,
     "metadata": {},
     "output_type": "execute_result"
    }
   ],
   "source": [
    "re.sub('\\\\n[\\s].*\\\\n','\\n\\n',t)"
   ]
  },
  {
   "cell_type": "code",
   "execution_count": 69,
   "metadata": {},
   "outputs": [
    {
     "name": "stdout",
     "output_type": "stream",
     "text": [
      "data2 = pbh.create_data2()\n",
      "\n",
      "# define or load names/items/objects\n",
      "\n",
      "# store phrases etc\n",
      "\n",
      "# Randomize Variables\n",
      "\n",
      "a = 35\n",
      "r = 0.1*random.randint(5, 15)\n",
      "tin = random.randint(18, 22)\n",
      "tout = 5\n",
      "nperson = 2\n",
      "pperson = 80\n",
      "sola = round(a*(tin-tout)/r-nperson*pperson, 2)\n",
      "pheater = 500\n",
      "eff = 0.5\n",
      "hours = random.randint(5, 9)\n",
      "#days = 5*random.randint(10, 14)\n",
      "cost = 0.12\n",
      "solb = round(pheater*hours*days*3600/eff/3.6e6*cost,# 2)\n",
      "\n",
      "# store the variables in the dictionary params\n",
      "   \n",
      "# define possible answers\n",
      "  \n",
      "# Update the data object with a new dict\n",
      "data.update(data2)\n"
     ]
    }
   ],
   "source": [
    "str2 = 'data2 = pbh.create_data2()\\n\\n# define or load names/items/objects\\n\\n# store phrases etc\\n\\n# Randomize Variables\\n\\na = 35\\nr = 0.1*random.randint(5, 15)\\ntin = random.randint(18, 22)\\ntout = 5\\nnperson = 2\\npperson = 80\\nsola = round(a*(tin-tout)/r-nperson*pperson, 2)\\npheater = 500\\neff = 0.5\\nhours = random.randint(5, 9)\\n#days = 5*random.randint(10, 14)\\ncost = 0.12\\nsolb = round(pheater*hours*days*3600/eff/3.6e6*cost,# 2)\\n\\n# store the variables in the dictionary params\\n   \\n# define possible answers\\n  \\n# Update the data object with a new dict\\ndata.update(data2)'\n",
    "print(str2)"
   ]
  },
  {
   "cell_type": "code",
   "execution_count": 48,
   "metadata": {},
   "outputs": [
    {
     "ename": "NameError",
     "evalue": "name 'imports' is not defined",
     "output_type": "error",
     "traceback": [
      "\u001b[0;31m---------------------------------------------------------------------------\u001b[0m",
      "\u001b[0;31mNameError\u001b[0m                                 Traceback (most recent call last)",
      "\u001b[0;32m<ipython-input-48-cc5494c465dd>\u001b[0m in \u001b[0;36m<module>\u001b[0;34m\u001b[0m\n\u001b[1;32m     18\u001b[0m \u001b[0;34m\u001b[0m\u001b[0m\n\u001b[1;32m     19\u001b[0m \u001b[0myaml_dict\u001b[0m\u001b[0;34m[\u001b[0m\u001b[0;34m'server'\u001b[0m\u001b[0;34m]\u001b[0m \u001b[0;34m=\u001b[0m \u001b[0;34m{\u001b[0m\u001b[0;34m}\u001b[0m\u001b[0;34m\u001b[0m\u001b[0;34m\u001b[0m\u001b[0m\n\u001b[0;32m---> 20\u001b[0;31m \u001b[0myaml_dict\u001b[0m\u001b[0;34m[\u001b[0m\u001b[0;34m'server'\u001b[0m\u001b[0;34m]\u001b[0m\u001b[0;34m[\u001b[0m\u001b[0;34m'imports'\u001b[0m\u001b[0;34m]\u001b[0m \u001b[0;34m=\u001b[0m \u001b[0mimports\u001b[0m\u001b[0;34m\u001b[0m\u001b[0;34m\u001b[0m\u001b[0m\n\u001b[0m\u001b[1;32m     21\u001b[0m \u001b[0myaml_dict\u001b[0m\u001b[0;34m[\u001b[0m\u001b[0;34m'server'\u001b[0m\u001b[0;34m]\u001b[0m\u001b[0;34m[\u001b[0m\u001b[0;34m'generate'\u001b[0m\u001b[0;34m]\u001b[0m \u001b[0;34m=\u001b[0m \u001b[0mstr1\u001b[0m\u001b[0;34m\u001b[0m\u001b[0;34m\u001b[0m\u001b[0m\n\u001b[1;32m     22\u001b[0m \u001b[0;34m\u001b[0m\u001b[0m\n",
      "\u001b[0;31mNameError\u001b[0m: name 'imports' is not defined"
     ]
    }
   ],
   "source": [
    "yaml_dict = {}\n",
    "yaml_dict['title'] = 'This is a title'\n",
    "yaml_dict['topic'] = 'undefined'\n",
    "yaml_dict['author'] = 'Firas Moosvi'\n",
    "yaml_dict['source'] = 'standard'\n",
    "yaml_dict['template_version']: 1.1\n",
    "yaml_dict['attribution'] = 'standard'\n",
    "yaml_dict['outcomes'] = 'undefined'\n",
    "yaml_dict['difficulty'] = 'Average'\n",
    "yaml_dict['randomization'] = 'undefined'\n",
    "yaml_dict['tags'] = 'undefined'\n",
    "yaml_dict['assets'] = 'undefined'\n",
    "yaml_dict['server'] = {}\n",
    "\n",
    "yaml_dict['attribution'] = 'standard'\n",
    "yaml_dict['outcomes'] = 'undefined'\n",
    "yaml_dict['difficulty'] = 'Average'\n",
    "\n",
    "yaml_dict['server'] = {}\n",
    "yaml_dict['server']['imports'] = imports\n",
    "yaml_dict['server']['generate'] = str1\n",
    "\n",
    "yaml_dict['server']['prepare'] = 'pass'\n",
    "yaml_dict['server']['parse'] = 'pass'\n",
    "yaml_dict['server']['grade'] = 'pass'\n",
    "\n",
    "yaml_dict['part1'] = {}\n",
    "yaml_dict['part1']['type'] = 'mcq'\n",
    "yaml_dict['part1']['pl-customizations'] = {}\n",
    "yaml_dict['part1']['pl-customizations']['weight'] = 1"
   ]
  },
  {
   "cell_type": "code",
   "execution_count": 49,
   "metadata": {},
   "outputs": [
    {
     "name": "stdout",
     "output_type": "stream",
     "text": [
      "title: This is a title\n",
      "topic: undefined\n",
      "author: Firas Moosvi\n",
      "source: standard\n",
      "attribution: standard\n",
      "outcomes: undefined\n",
      "difficulty: Average\n",
      "randomization: undefined\n",
      "tags: undefined\n",
      "assets: undefined\n",
      "server: {}\n",
      "\n"
     ]
    }
   ],
   "source": [
    "print(yaml.safe_dump(yaml_dict,sort_keys=False))"
   ]
  },
  {
   "cell_type": "code",
   "execution_count": 9,
   "metadata": {},
   "outputs": [
    {
     "data": {
      "text/plain": [
       "'# Hello World\\n\\nfor i in range(10):\\n    print(i)\\n\\n\\n\\n    if i >5:\\n        print(i+1)'"
      ]
     },
     "execution_count": 9,
     "metadata": {},
     "output_type": "execute_result"
    }
   ],
   "source": [
    "str1"
   ]
  },
  {
   "cell_type": "code",
   "execution_count": 10,
   "metadata": {},
   "outputs": [
    {
     "data": {
      "text/plain": [
       "'data2 = pbh.create_data2()\\n\\n# define or load names/items/objects\\n\\n# store phrases etc\\n\\n# Randomize Variables\\n\\na = 35\\nr = 0.1*random.randint(5, 15)\\ntin = random.randint(18, 22)\\ntout = 5\\nnperson = 2\\npperson = 80\\nsola = round(a*(tin-tout)/r-nperson*pperson, 2)\\npheater = 500\\neff = 0.5\\nhours = random.randint(5, 9)\\n#days = 5*random.randint(10, 14)\\ncost = 0.12\\nsolb = round(pheater*hours*days*3600/eff/3.6e6*cost,# 2)\\n\\n# store the variables in the dictionary params\\n   \\n# define possible answers\\n  \\n# Update the data object with a new dict\\ndata.update(data2)'"
      ]
     },
     "execution_count": 10,
     "metadata": {},
     "output_type": "execute_result"
    }
   ],
   "source": [
    "str2"
   ]
  },
  {
   "cell_type": "code",
   "execution_count": 21,
   "metadata": {},
   "outputs": [],
   "source": [
    "str3 = \"\"\"    data2 = pbh.create_data2()\n",
    "\n",
    "        # define or load names/items/objects\n",
    "        names = pd.read_csv(\"data/names.csv\")[\"Names\"].tolist()\n",
    "\n",
    "        # store phrases etc\n",
    "        data2[\"params\"][\"vars\"][\"title\"] = 'Vectors and Scalars'\n",
    "        data2[\"params\"][\"vars\"][\"name\"] = random.choice(names)\n",
    "\n",
    "        # define useful variables/lists\n",
    "        vectors = [\"displacement\", \"velocity\", \"acceleration\", \"momentum\", \"force\", \"lift\", \"drag\", \"thurst\", \"weight\"]\n",
    "        scalars = [\"length\", \"area\", \"volume\", \"mass\", \"density\", \"pressure\", \"temperature\", \"energy\", \"entropy\", \"work\", \"power\"]\n",
    "\n",
    "        # Randomly select 2,3,4 scalars and shuffle the lists\n",
    "        total_choices = 6\n",
    "        num_scalars = random.choice([2,3,4])\n",
    "        num_vectors = total_choices - num_scalars\n",
    "        select = random.choice([\"vectors\",\"scalars\"])\n",
    "\n",
    "        data2[\"params\"][\"choice\"] = select\n",
    "\n",
    "        # Create ans_choices\n",
    "        ans_choices = [\"ans{0}\".format(i+1) for i in range(total_choices)]\n",
    "\n",
    "        random.shuffle(scalars)\n",
    "        random.shuffle(vectors)\n",
    "\n",
    "        # define possible answers\n",
    "        if select == \"vectors\":\n",
    "            for i in range(num_vectors):\n",
    "                choice = ans_choices.pop(0)\n",
    "                data2[\"params\"][\"part1\"][choice][\"value\"] = vectors.pop()\n",
    "                data2[\"params\"][\"part1\"][choice][\"correct\"] = True\n",
    "\n",
    "            for i in range(num_scalars):\n",
    "                choice = ans_choices.pop(0)\n",
    "                data2[\"params\"][\"part1\"][choice][\"value\"] = scalars.pop()\n",
    "                data2[\"params\"][\"part1\"][choice][\"correct\"] = False\n",
    "\n",
    "        elif select == \"scalars\":\n",
    "            for i in range(num_scalars):\n",
    "                choice = ans_choices.pop(0)\n",
    "                data2[\"params\"][\"part1\"][choice][\"value\"] = scalars.pop()\n",
    "                data2[\"params\"][\"part1\"][choice][\"correct\"] = True\n",
    "                \n",
    "            for i in range(num_vectors):\n",
    "                choice = ans_choices.pop(0)\n",
    "                data2[\"params\"][\"part1\"][choice][\"value\"] = vectors.pop()\n",
    "                data2[\"params\"][\"part1\"][choice][\"correct\"] = False\n",
    "\n",
    "        # Update the data object with a new dict\n",
    "        data.update(data2)\"\"\""
   ]
  },
  {
   "cell_type": "code",
   "execution_count": 75,
   "metadata": {},
   "outputs": [],
   "source": [
    "str3b = '  data2 = pbh.create_data2()\\n\\n      # define or load names/items/objects\\n        names = pd.read_csv(\"data/names.csv\")[\"Names\"].tolist()\\n                                    \\n        # store phrases etc\\n        data2[\"params\"][\"vars\"][\"title\"] = \\'Vectors and Scalars\\'\\n        data2[\"params\"][\"vars\"][\"name\"] = random.choice(names)\\n\\n        # define useful variables/lists\\n        vectors = [\"displacement\", \"velocity\", \"acceleration\", \"momentum\", \"force\", \"lift\", \"drag\", \"thurst\", \"weight\"]\\n        scalars = [\"length\", \"area\", \"volume\", \"mass\", \"density\", \"pressure\", \"temperature\", \"energy\", \"entropy\", \"work\", \"power\"]\\n\\n        # Randomly select 2,3,4 scalars and shuffle the lists\\n        total_choices = 6\\n        num_scalars = random.choice([2,3,4])\\n        num_vectors = total_choices - num_scalars\\n        select = random.choice([\"vectors\",\"scalars\"])\\n\\n        data2[\"params\"][\"choice\"] = select\\n\\n        # Create ans_choices\\n        ans_choices = [\"ans{0}\".format(i+1) for i in range(total_choices)]\\n\\n        random.shuffle(scalars)\\n        random.shuffle(vectors)\\n\\n        # define possible answers\\n        if select == \"vectors\":\\n            for i in range(num_vectors):\\n                choice = ans_choices.pop(0)\\n                data2[\"params\"][\"part1\"][choice][\"value\"] = vectors.pop()\\n                data2[\"params\"][\"part1\"][choice][\"correct\"] = True\\n\\n            for i in range(num_scalars):\\n                choice = ans_choices.pop(0)\\n                data2[\"params\"][\"part1\"][choice][\"value\"] = scalars.pop()\\n                data2[\"params\"][\"part1\"][choice][\"correct\"] = False\\n\\n        elif select == \"scalars\":\\n            for i in range(num_scalars):\\n                choice = ans_choices.pop(0)\\n                data2[\"params\"][\"part1\"][choice][\"value\"] = scalars.pop()\\n                data2[\"params\"][\"part1\"][choice][\"correct\"] = True\\n                \\n            for i in range(num_vectors):\\n                choice = ans_choices.pop(0)\\n                data2[\"params\"][\"part1\"][choice][\"value\"] = vectors.pop()\\n                data2[\"params\"][\"part1\"][choice][\"correct\"] = False\\n\\n        # Update the data object with a new dict\\n        data.update(data2)'"
   ]
  },
  {
   "cell_type": "code",
   "execution_count": 76,
   "metadata": {},
   "outputs": [
    {
     "name": "stdout",
     "output_type": "stream",
     "text": [
      "title: This is a title\n",
      "topic: undefined\n",
      "author: Firas Moosvi\n",
      "source: standard\n",
      "attribution: standard\n",
      "outcomes: undefined\n",
      "difficulty: Average\n",
      "randomization: undefined\n",
      "tags: undefined\n",
      "assets: undefined\n",
      "server:\n",
      "  generate: |2-\n",
      "      data2 = pbh.create_data2()\n",
      "\n",
      "          # define or load names/items/objects\n",
      "            names = pd.read_csv(\"data/names.csv\")[\"Names\"].tolist()\n",
      "\n",
      "            # store phrases etc\n",
      "            data2[\"params\"][\"vars\"][\"title\"] = 'Vectors and Scalars'\n",
      "            data2[\"params\"][\"vars\"][\"name\"] = random.choice(names)\n",
      "\n",
      "            # define useful variables/lists\n",
      "            vectors = [\"displacement\", \"velocity\", \"acceleration\", \"momentum\", \"force\", \"lift\", \"drag\", \"thurst\", \"weight\"]\n",
      "            scalars = [\"length\", \"area\", \"volume\", \"mass\", \"density\", \"pressure\", \"temperature\", \"energy\", \"entropy\", \"work\", \"power\"]\n",
      "\n",
      "            # Randomly select 2,3,4 scalars and shuffle the lists\n",
      "            total_choices = 6\n",
      "            num_scalars = random.choice([2,3,4])\n",
      "            num_vectors = total_choices - num_scalars\n",
      "            select = random.choice([\"vectors\",\"scalars\"])\n",
      "\n",
      "            data2[\"params\"][\"choice\"] = select\n",
      "\n",
      "            # Create ans_choices\n",
      "            ans_choices = [\"ans{0}\".format(i+1) for i in range(total_choices)]\n",
      "\n",
      "            random.shuffle(scalars)\n",
      "            random.shuffle(vectors)\n",
      "\n",
      "            # define possible answers\n",
      "            if select == \"vectors\":\n",
      "                for i in range(num_vectors):\n",
      "                    choice = ans_choices.pop(0)\n",
      "                    data2[\"params\"][\"part1\"][choice][\"value\"] = vectors.pop()\n",
      "                    data2[\"params\"][\"part1\"][choice][\"correct\"] = True\n",
      "\n",
      "                for i in range(num_scalars):\n",
      "                    choice = ans_choices.pop(0)\n",
      "                    data2[\"params\"][\"part1\"][choice][\"value\"] = scalars.pop()\n",
      "                    data2[\"params\"][\"part1\"][choice][\"correct\"] = False\n",
      "\n",
      "            elif select == \"scalars\":\n",
      "                for i in range(num_scalars):\n",
      "                    choice = ans_choices.pop(0)\n",
      "                    data2[\"params\"][\"part1\"][choice][\"value\"] = scalars.pop()\n",
      "                    data2[\"params\"][\"part1\"][choice][\"correct\"] = True\n",
      "\n",
      "                for i in range(num_vectors):\n",
      "                    choice = ans_choices.pop(0)\n",
      "                    data2[\"params\"][\"part1\"][choice][\"value\"] = vectors.pop()\n",
      "                    data2[\"params\"][\"part1\"][choice][\"correct\"] = False\n",
      "\n",
      "            # Update the data object with a new dict\n",
      "            data.update(data2)\n",
      "\n"
     ]
    }
   ],
   "source": [
    "yaml_dict['server']['generate'] = str3b\n",
    "\n",
    "print(yaml.safe_dump(yaml_dict,sort_keys=False))"
   ]
  },
  {
   "cell_type": "markdown",
   "metadata": {},
   "source": [
    "## No idea what's going on here ... let's try taking a step back"
   ]
  },
  {
   "cell_type": "code",
   "execution_count": 32,
   "metadata": {},
   "outputs": [],
   "source": [
    "import problem_bank_scripts as pbs"
   ]
  },
  {
   "cell_type": "code",
   "execution_count": 34,
   "metadata": {},
   "outputs": [],
   "source": [
    "checkbox = '/Users/firasm/Sync/EL/Physics OER Bank/problem_bank_scripts/tests/test_question_templates/question_inputs/q04_checkbox/q04_checkbox.md'\n",
    "\n",
    "cdict = pbs.read_md_problem(checkbox)"
   ]
  },
  {
   "cell_type": "code",
   "execution_count": 40,
   "metadata": {},
   "outputs": [
    {
     "data": {
      "text/plain": [
       "'data2 = pbh.create_data2()\\n\\n# define or load names/items/objects\\nnames = pd.read_csv(\"data/names.csv\")[\"Names\"].tolist()\\n\\n# store phrases etc\\ndata2[\"params\"][\"vars\"][\"title\"] = \\'Vectors and Scalars\\'\\ndata2[\"params\"][\"vars\"][\"name\"] = random.choice(names)\\n\\n# define useful variables/lists\\nvectors = [\"displacement\", \"velocity\", \"acceleration\", \"momentum\", \"force\", \"lift\", \"drag\", \"thurst\", \"weight\"]\\nscalars = [\"length\", \"area\", \"volume\", \"mass\", \"density\", \"pressure\", \"temperature\", \"energy\", \"entropy\", \"work\", \"power\"]\\n\\n# Randomly select 2,3,4 scalars and shuffle the lists\\ntotal_choices = 6\\nnum_scalars = random.choice([2,3,4])\\nnum_vectors = total_choices - num_scalars\\nselect = random.choice([\"vectors\",\"scalars\"])\\n\\ndata2[\"params\"][\"choice\"] = select\\n\\n# Create ans_choices\\nans_choices = [\"ans{0}\".format(i+1) for i in range(total_choices)]\\n\\nrandom.shuffle(scalars)\\nrandom.shuffle(vectors)\\n\\n# define possible answers\\nif select == \"vectors\":\\n    for i in range(num_vectors):\\n        choice = ans_choices.pop(0)\\n        data2[\"params\"][\"part1\"][choice][\"value\"] = vectors.pop()\\n        data2[\"params\"][\"part1\"][choice][\"correct\"] = True\\n\\n    for i in range(num_scalars):\\n        choice = ans_choices.pop(0)\\n        data2[\"params\"][\"part1\"][choice][\"value\"] = scalars.pop()\\n        data2[\"params\"][\"part1\"][choice][\"correct\"] = False\\n\\nelif select == \"scalars\":\\n    for i in range(num_scalars):\\n        choice = ans_choices.pop(0)\\n        data2[\"params\"][\"part1\"][choice][\"value\"] = scalars.pop()\\n        data2[\"params\"][\"part1\"][choice][\"correct\"] = True\\n        \\n    for i in range(num_vectors):\\n        choice = ans_choices.pop(0)\\n        data2[\"params\"][\"part1\"][choice][\"value\"] = vectors.pop()\\n        data2[\"params\"][\"part1\"][choice][\"correct\"] = False\\n\\n# Update the data object with a new dict\\ndata.update(data2)\\n'"
      ]
     },
     "execution_count": 40,
     "metadata": {},
     "output_type": "execute_result"
    }
   ],
   "source": [
    "cdict['header']['server']['generate']"
   ]
  },
  {
   "cell_type": "code",
   "execution_count": 41,
   "metadata": {},
   "outputs": [
    {
     "name": "stdout",
     "output_type": "stream",
     "text": [
      "data2 = pbh.create_data2()\n",
      "\n",
      "# define or load names/items/objects\n",
      "names = pd.read_csv(\"data/names.csv\")[\"Names\"].tolist()\n",
      "\n",
      "# store phrases etc\n",
      "data2[\"params\"][\"vars\"][\"title\"] = 'Vectors and Scalars'\n",
      "data2[\"params\"][\"vars\"][\"name\"] = random.choice(names)\n",
      "\n",
      "# define useful variables/lists\n",
      "vectors = [\"displacement\", \"velocity\", \"acceleration\", \"momentum\", \"force\", \"lift\", \"drag\", \"thurst\", \"weight\"]\n",
      "scalars = [\"length\", \"area\", \"volume\", \"mass\", \"density\", \"pressure\", \"temperature\", \"energy\", \"entropy\", \"work\", \"power\"]\n",
      "\n",
      "# Randomly select 2,3,4 scalars and shuffle the lists\n",
      "total_choices = 6\n",
      "num_scalars = random.choice([2,3,4])\n",
      "num_vectors = total_choices - num_scalars\n",
      "select = random.choice([\"vectors\",\"scalars\"])\n",
      "\n",
      "data2[\"params\"][\"choice\"] = select\n",
      "\n",
      "# Create ans_choices\n",
      "ans_choices = [\"ans{0}\".format(i+1) for i in range(total_choices)]\n",
      "\n",
      "random.shuffle(scalars)\n",
      "random.shuffle(vectors)\n",
      "\n",
      "# define possible answers\n",
      "if select == \"vectors\":\n",
      "    for i in range(num_vectors):\n",
      "        choice = ans_choices.pop(0)\n",
      "        data2[\"params\"][\"part1\"][choice][\"value\"] = vectors.pop()\n",
      "        data2[\"params\"][\"part1\"][choice][\"correct\"] = True\n",
      "\n",
      "    for i in range(num_scalars):\n",
      "        choice = ans_choices.pop(0)\n",
      "        data2[\"params\"][\"part1\"][choice][\"value\"] = scalars.pop()\n",
      "        data2[\"params\"][\"part1\"][choice][\"correct\"] = False\n",
      "\n",
      "elif select == \"scalars\":\n",
      "    for i in range(num_scalars):\n",
      "        choice = ans_choices.pop(0)\n",
      "        data2[\"params\"][\"part1\"][choice][\"value\"] = scalars.pop()\n",
      "        data2[\"params\"][\"part1\"][choice][\"correct\"] = True\n",
      "        \n",
      "    for i in range(num_vectors):\n",
      "        choice = ans_choices.pop(0)\n",
      "        data2[\"params\"][\"part1\"][choice][\"value\"] = vectors.pop()\n",
      "        data2[\"params\"][\"part1\"][choice][\"correct\"] = False\n",
      "\n",
      "# Update the data object with a new dict\n",
      "data.update(data2)\n",
      "\n"
     ]
    }
   ],
   "source": [
    "print(cdict['header']['server']['generate'])"
   ]
  },
  {
   "cell_type": "code",
   "execution_count": 42,
   "metadata": {},
   "outputs": [
    {
     "name": "stdout",
     "output_type": "stream",
     "text": [
      "title: This is a title\n",
      "topic: undefined\n",
      "author: Firas Moosvi\n",
      "source: standard\n",
      "attribution: standard\n",
      "outcomes: undefined\n",
      "difficulty: Average\n",
      "randomization: undefined\n",
      "tags: undefined\n",
      "assets: undefined\n",
      "server:\n",
      "  imports: |-\n",
      "    import random\n",
      "    import problem_bank_helpers as pbh\n",
      "  generate: |\n",
      "    data2 = pbh.create_data2()\n",
      "\n",
      "    # define or load names/items/objects\n",
      "    names = pd.read_csv(\"data/names.csv\")[\"Names\"].tolist()\n",
      "\n",
      "    # store phrases etc\n",
      "    data2[\"params\"][\"vars\"][\"title\"] = 'Vectors and Scalars'\n",
      "    data2[\"params\"][\"vars\"][\"name\"] = random.choice(names)\n",
      "\n",
      "    # define useful variables/lists\n",
      "    vectors = [\"displacement\", \"velocity\", \"acceleration\", \"momentum\", \"force\", \"lift\", \"drag\", \"thurst\", \"weight\"]\n",
      "    scalars = [\"length\", \"area\", \"volume\", \"mass\", \"density\", \"pressure\", \"temperature\", \"energy\", \"entropy\", \"work\", \"power\"]\n",
      "\n",
      "    # Randomly select 2,3,4 scalars and shuffle the lists\n",
      "    total_choices = 6\n",
      "    num_scalars = random.choice([2,3,4])\n",
      "    num_vectors = total_choices - num_scalars\n",
      "    select = random.choice([\"vectors\",\"scalars\"])\n",
      "\n",
      "    data2[\"params\"][\"choice\"] = select\n",
      "\n",
      "    # Create ans_choices\n",
      "    ans_choices = [\"ans{0}\".format(i+1) for i in range(total_choices)]\n",
      "\n",
      "    random.shuffle(scalars)\n",
      "    random.shuffle(vectors)\n",
      "\n",
      "    # define possible answers\n",
      "    if select == \"vectors\":\n",
      "        for i in range(num_vectors):\n",
      "            choice = ans_choices.pop(0)\n",
      "            data2[\"params\"][\"part1\"][choice][\"value\"] = vectors.pop()\n",
      "            data2[\"params\"][\"part1\"][choice][\"correct\"] = True\n",
      "\n",
      "        for i in range(num_scalars):\n",
      "            choice = ans_choices.pop(0)\n",
      "            data2[\"params\"][\"part1\"][choice][\"value\"] = scalars.pop()\n",
      "            data2[\"params\"][\"part1\"][choice][\"correct\"] = False\n",
      "\n",
      "    elif select == \"scalars\":\n",
      "        for i in range(num_scalars):\n",
      "            choice = ans_choices.pop(0)\n",
      "            data2[\"params\"][\"part1\"][choice][\"value\"] = scalars.pop()\n",
      "            data2[\"params\"][\"part1\"][choice][\"correct\"] = True\n",
      "\n",
      "        for i in range(num_vectors):\n",
      "            choice = ans_choices.pop(0)\n",
      "            data2[\"params\"][\"part1\"][choice][\"value\"] = vectors.pop()\n",
      "            data2[\"params\"][\"part1\"][choice][\"correct\"] = False\n",
      "\n",
      "    # Update the data object with a new dict\n",
      "    data.update(data2)\n",
      "  prepare: pass\n",
      "  parse: pass\n",
      "  grade: pass\n",
      "part1:\n",
      "  type: mcq\n",
      "  pl-customizations:\n",
      "    weight: 1\n",
      "\n"
     ]
    }
   ],
   "source": [
    "yaml_dict['server']['generate'] = cdict['header']['server']['generate']\n",
    "\n",
    "print(yaml.safe_dump(yaml_dict,sort_keys=False))"
   ]
  },
  {
   "cell_type": "code",
   "execution_count": null,
   "metadata": {},
   "outputs": [],
   "source": []
  },
  {
   "cell_type": "markdown",
   "metadata": {},
   "source": [
    "## Test"
   ]
  },
  {
   "cell_type": "code",
   "execution_count": 1,
   "metadata": {},
   "outputs": [],
   "source": [
    "import pathlib\n",
    "\n",
    "for file in pathlib.Path('/Users/firasm/Sync/EL/Physics OER Bank/problem_bank_scripts/tests/test_question_templates/question_inputs').glob('**/*.md'):\n",
    "    read_file = file.read_text(encoding='utf8')\n",
    "\n",
    "   #print(read_file)"
   ]
  },
  {
   "cell_type": "code",
   "execution_count": 53,
   "metadata": {},
   "outputs": [
    {
     "name": "stdout",
     "output_type": "stream",
     "text": [
      "---\n",
      "title: Multi-part Question\n",
      "topic: Template\n",
      "author: Firas Moosvi\n",
      "source: original\n",
      "template_version: 1.1\n",
      "attribution: standard\n",
      "outcomes:\n",
      "- 6.1.1.0\n",
      "- 6.1.1.1\n",
      "difficulty:\n",
      "- undefined\n",
      "randomization:\n",
      "- undefined\n",
      "taxonomy:\n",
      "- undefined\n",
      "tags:\n",
      "- unknown\n",
      "assets:\n",
      "- test1.png\n",
      "- test2.png\n",
      "server: \n",
      "  imports: |\n",
      "        import random;random.seed(111)\n",
      "        import pandas as pd\n",
      "        import problem_bank_helpers as pbh\n",
      "  generate: |\n",
      "        data2 = pbh.create_data2()\n",
      "        \n",
      "        # define or load names/items/objects\n",
      "        names = pd.read_csv(\"data/names.csv\")[\"Names\"].tolist()\n",
      "        manual_vehicles = pd.read_csv(\"data/manual_vehicles.csv\")[\"Manual Vehicles\"].tolist()\n",
      "\n",
      "        # store phrases etc\n",
      "        data2[\"params\"][\"vars\"][\"name\"] = random.choice(names)\n",
      "        data2[\"params\"][\"vars\"][\"vehicle\"] = random.choice(manual_vehicles)\n",
      "        data2[\"params\"][\"vars\"][\"title\"] = \"Distance travelled\"\n",
      "        data2[\"params\"][\"vars\"][\"units\"] = \"m/s\"\n",
      "\n",
      "        # define bounds of the variables\n",
      "        v = random.randint(2,7)\n",
      "        t = random.randint(5,10)\n",
      "\n",
      "        # store the variables in the dictionary \"params\"\n",
      "        data2[\"params\"][\"v\"] = v\n",
      "        data2[\"params\"][\"t\"] = t\n",
      "\n",
      "        ## Part 1\n",
      "\n",
      "        # define correct answers\n",
      "        data2[\"correct_answers\"][\"part1_ans\"] = v*t\n",
      "\n",
      "        ## Part 2\n",
      "\n",
      "        # define possible answers\n",
      "        data2[\"params\"][\"part2\"][\"ans1\"][\"value\"] = pbh.roundp(42)\n",
      "        data2[\"params\"][\"part2\"][\"ans1\"][\"correct\"] = False\n",
      "\n",
      "        data2[\"params\"][\"part2\"][\"ans2\"][\"value\"] = pbh.roundp(v*t)\n",
      "        data2[\"params\"][\"part2\"][\"ans2\"][\"correct\"] = True\n",
      "\n",
      "        data2[\"params\"][\"part2\"][\"ans3\"][\"value\"] = pbh.roundp(v+t)\n",
      "        data2[\"params\"][\"part2\"][\"ans3\"][\"correct\"] = False\n",
      "\n",
      "        data2[\"params\"][\"part2\"][\"ans4\"][\"value\"] = pbh.roundp(v/t)\n",
      "        data2[\"params\"][\"part2\"][\"ans4\"][\"correct\"] = False\n",
      "\n",
      "        data2[\"params\"][\"part2\"][\"ans5\"][\"value\"] = pbh.roundp(v-t)\n",
      "        data2[\"params\"][\"part2\"][\"ans5\"][\"correct\"] = False\n",
      "\n",
      "        data2[\"params\"][\"part2\"][\"ans6\"][\"value\"] = pbh.roundp(1.3*(v-t))\n",
      "        data2[\"params\"][\"part2\"][\"ans6\"][\"correct\"] = False\n",
      "\n",
      "        # Update the data object with a new dict\n",
      "        data.update(data2)\n",
      "  prepare: |\n",
      "        pass\n",
      "  parse: |\n",
      "        pass\n",
      "  grade: |\n",
      "        pass\n",
      "part1:\n",
      "  type: number-input\n",
      "  label: $d=$\n",
      "  pl-customizations:\n",
      "    allow-blank: true\n",
      "    weight: 1\n",
      "part2:\n",
      "  type: multiple-choice  \n",
      "  pl-customizations:\n",
      "    weight: 1\n",
      "---\n",
      "# {{ params.vars.title }}\n",
      "\n",
      "This part of the question is common to both Parts 1 and 2.\n",
      "\n",
      "<img src=\"test1.png\" width=400>\n",
      "\n",
      "## Part 1\n",
      "\n",
      "{{ params.vars.name }} is traveling on {{ params.vars.vehicle }} at {{ params.v }} {{ params.vars.units }}.\n",
      "How far does {{ vars.name }} travel in {{ params.t }} seconds, assuming they continue at the same velocity?\n",
      "\n",
      "<img src=\"test2.png\" width=400>\n",
      "\n",
      "### Answer Section\n",
      "\n",
      "Please enter in a numeric value in {{ params.vars.units }}.\n",
      "\n",
      "## Part 2\n",
      "\n",
      "{{ params.vars.name }} is traveling on {{ params.vars.vehicle }} at {{ params.v }} {{ params.vars.units }}.\n",
      "How far does {{ params.vars.name }} travel in {{ params.t }} seconds, assuming they continue at the same velocity?\n",
      "\n",
      "### Answer Section\n",
      "\n",
      "- {{ params.part2.ans1.value}} {{ params.vars.units}} \n",
      "- {{ params.part2.ans2.value}} {{ params.vars.units}} \n",
      "- {{ params.part2.ans3.value}} {{ params.vars.units}} \n",
      "- {{ params.part2.ans4.value}} {{ params.vars.units}} \n",
      "- {{ params.part2.ans5.value}} {{ params.vars.units}} \n",
      "- {{ params.part2.ans6.value}} {{ params.vars.units}}\n",
      "\n",
      "## pl-submission-panel\n",
      "\n",
      "Everything here will get inserted directly into the pl-submission-panel element at the end of the `question.html`.\n",
      "\n",
      "## pl-answer-panel\n",
      "\n",
      "Everything here will get inserted directly into an pl-answer-panel element at the end of the `question.html`.\n",
      "\n",
      "## Rubric\n",
      "\n",
      "This should be hidden from students until after the deadline.\n",
      "\n",
      "## Solution\n",
      "\n",
      "This should never be revealed to students.\n",
      "\n",
      "## Comments\n",
      "\n",
      "These are random comments associated with this question.\n"
     ]
    }
   ],
   "source": [
    "print(read_file)"
   ]
  },
  {
   "cell_type": "code",
   "execution_count": 59,
   "metadata": {},
   "outputs": [
    {
     "data": {
      "text/plain": [
       "3982"
      ]
     },
     "execution_count": 59,
     "metadata": {},
     "output_type": "execute_result"
    }
   ],
   "source": [
    "pathlib.Path('sample1.md').write_text(read_file.replace('Multi-part','import random; random.seed(111)'))"
   ]
  },
  {
   "cell_type": "code",
   "execution_count": 61,
   "metadata": {},
   "outputs": [
    {
     "data": {
      "text/plain": [
       "3982"
      ]
     },
     "execution_count": 61,
     "metadata": {},
     "output_type": "execute_result"
    }
   ],
   "source": [
    "pathlib.Path('sample2.md').write_text(read_file.replace('Multi-part','import random; random.seed(111)'),encoding='utf8')"
   ]
  },
  {
   "cell_type": "code",
   "execution_count": 62,
   "metadata": {},
   "outputs": [
    {
     "data": {
      "text/plain": [
       "3982"
      ]
     },
     "execution_count": 62,
     "metadata": {},
     "output_type": "execute_result"
    }
   ],
   "source": [
    "pathlib.Path('sample3.md').write_text(read_file.replace('Multi-part','import random; random.seed(111)'),encoding='utf16')"
   ]
  },
  {
   "cell_type": "code",
   "execution_count": 1,
   "metadata": {},
   "outputs": [],
   "source": [
    "import yaml\n",
    "import re\n",
    "\n",
    "def str_presenter(dumper, data2):\n",
    "    if len(data2.splitlines()) > 1:  # check for multiline string\n",
    "        print(f'hello-{data2[0:10]}')\n",
    "        #data2 = re.sub('\\\\n[\\s].*\\\\n','\\n\\n',data2)\n",
    "        return dumper.represent_scalar('tag:yaml.org,2002:str', data2, style='|')\n",
    "    return dumper.represent_scalar('tag:yaml.org,2002:str', data2)\n",
    "\n",
    "yaml.add_representer(str, str_presenter)"
   ]
  },
  {
   "cell_type": "code",
   "execution_count": 2,
   "metadata": {},
   "outputs": [
    {
     "name": "stdout",
     "output_type": "stream",
     "text": [
      "Warning: This feature (specifying your own directory q04_checkbox.md) is not tested!\n"
     ]
    }
   ],
   "source": [
    "import problem_bank_scripts as pbs\n",
    "\n",
    "sfp = 'input/q04_checkbox.md'\n",
    "ret = pbs.process_question_md(sfp, output_path='./q04_checkbox.md',instructor=True)"
   ]
  },
  {
   "cell_type": "code",
   "execution_count": 3,
   "metadata": {},
   "outputs": [],
   "source": [
    "str3 = ret['header']['server']['generate']"
   ]
  },
  {
   "cell_type": "code",
   "execution_count": 4,
   "metadata": {},
   "outputs": [
    {
     "data": {
      "text/plain": [
       "'\"data2 = pbh.create_data2()\\\\n\\\\nnames = pd.read_csv(\\\\\"data/names.csv\\\\\")[\\\\\"Names\\\\\"].tolist()\\\\n\\\\\\n  \\\\ndata2[\\\\\"params\\\\\"][\\\\\"vars\\\\\"][\\\\\"title\\\\\"] = \\'Vectors and Scalars\\'\\\\ndata2[\\\\\"params\\\\\"\\\\\\n  ][\\\\\"vars\\\\\"][\\\\\"name\\\\\"] = random.choice(names)\\\\n\\\\nvectors = [\\\\\"displacement\\\\\", \\\\\"\\\\\\n  velocity\\\\\", \\\\\"acceleration\\\\\", \\\\\"momentum\\\\\", \\\\\"force\\\\\", \\\\\"lift\\\\\", \\\\\"drag\\\\\", \\\\\"thurst\\\\\"\\\\\\n  , \\\\\"weight\\\\\"]\\\\nscalars = [\\\\\"length\\\\\", \\\\\"area\\\\\", \\\\\"volume\\\\\", \\\\\"mass\\\\\", \\\\\"density\\\\\"\\\\\\n  , \\\\\"pressure\\\\\", \\\\\"temperature\\\\\", \\\\\"energy\\\\\", \\\\\"entropy\\\\\", \\\\\"work\\\\\", \\\\\"power\\\\\"]\\\\n\\\\\\n  \\\\ntotal_choices = 6\\\\nnum_scalars = random.choice([2,3,4])\\\\nnum_vectors = total_choices\\\\\\n  \\\\ - num_scalars\\\\nselect = random.choice([\\\\\"vectors\\\\\",\\\\\"scalars\\\\\"])\\\\n\\\\n\\\\n# Create\\\\\\n  \\\\ ans_choices\\\\nans_choices = [\\\\\"ans{0}\\\\\".format(i+1) for i in range(total_choices)]\\\\n\\\\\\n  \\\\nrandom.shuffle(vectors)\\\\n\\\\nif select == \\\\\"vectors\\\\\":\\\\n\\\\n        choice = ans_choices.pop(0)\\\\n\\\\\\n  \\\\n        data2[\\\\\"params\\\\\"][\\\\\"part1\\\\\"][choice][\\\\\"correct\\\\\"] = True\\\\n\\\\n        choice\\\\\\n  \\\\ = ans_choices.pop(0)\\\\n\\\\n        data2[\\\\\"params\\\\\"][\\\\\"part1\\\\\"][choice][\\\\\"correct\\\\\"\\\\\\n  ] = False\\\\n\\\\n    for i in range(num_scalars):\\\\n\\\\n        data2[\\\\\"params\\\\\"][\\\\\"part1\\\\\"\\\\\\n  ][choice][\\\\\"value\\\\\"] = scalars.pop()\\\\n\\\\n        \\\\n\\\\n        choice = ans_choices.pop(0)\\\\n\\\\\\n  \\\\n        data2[\\\\\"params\\\\\"][\\\\\"part1\\\\\"][choice][\\\\\"correct\\\\\"] = False\\\\n\\\\ndata.update(data2)\\\\n\"\\n'"
      ]
     },
     "execution_count": 4,
     "metadata": {},
     "output_type": "execute_result"
    }
   ],
   "source": [
    "yaml.dump(str3,sort_keys=False)"
   ]
  },
  {
   "cell_type": "code",
   "execution_count": 5,
   "metadata": {},
   "outputs": [],
   "source": [
    "str4 = 'random.shuffle(scalars)\\nrandom.shuffle(vectors)\\n\\n# define possible answers\\nif select == \"vectors\":\\n    for i in range(num_vectors):\\n        choice = ans_choices.pop(0)\\n# This is another comment'"
   ]
  },
  {
   "cell_type": "code",
   "execution_count": 6,
   "metadata": {},
   "outputs": [
    {
     "name": "stdout",
     "output_type": "stream",
     "text": [
      "|-\n",
      "  random.shuffle(scalars)\n",
      "  random.shuffle(vectors)\n",
      "\n",
      "  if select == \"vectors\":\n",
      "\n",
      "          choice = ans_choices.pop(0)\n",
      "  # This is another comment\n",
      "\n"
     ]
    }
   ],
   "source": [
    "print(yaml.dump(str4))"
   ]
  },
  {
   "cell_type": "markdown",
   "metadata": {},
   "source": [
    "## Test read_problem_md"
   ]
  },
  {
   "cell_type": "code",
   "execution_count": 77,
   "metadata": {},
   "outputs": [
    {
     "name": "stdout",
     "output_type": "stream",
     "text": [
      "---\n",
      "title: Vectors and Scalars\n",
      "topic: Template\n",
      "author: Firas Moosvi\n",
      "source: original\n",
      "template_version: 1.1\n",
      "attribution: standard\n",
      "outcomes:\n",
      "- 6.1.1.0\n",
      "- 6.1.1.1\n",
      "difficulty:\n",
      "- undefined\n",
      "randomization:\n",
      "- undefined\n",
      "taxonomy:\n",
      "- undefined\n",
      "tags:\n",
      "- unknown\n",
      "assets:\n",
      "server: \n",
      "    imports: |\n",
      "        import random;random.seed(111)\n",
      "        import pandas as pd\n",
      "        import problem_bank_helpers as pbh\n",
      "    test: |\n",
      "        data2 = pbh.create_data2()\n",
      "\n",
      "        # define or load names/items/objects\n",
      "        names = pd.read_csv(\"data/names.csv\")[\"Names\"].tolist()\n",
      "        \n",
      "        # store phrases etc\n",
      "        data2[\"params\"][\"vars\"][\"title\"] = \"Vectors and Scalars\"\n",
      "        data2[\"params\"][\"vars\"][\"name\"] = random.choice(names)\n",
      "\n",
      "        # define useful variables/lists\n",
      "        vectors = [\"displacement\", \"velocity\", \"acceleration\", \"momentum\", \"force\", \"lift\", \"drag\", \"thurst\", \"weight\"]\n",
      "        scalars = [\"length\", \"area\", \"volume\", \"mass\", \"density\", \"pressure\", \"temperature\", \"energy\", \"entropy\", \"work\", \"power\"]\n",
      "\n",
      "        # Randomly select 2,3,4 scalars and shuffle the lists\n",
      "        total_choices = 6\n",
      "        num_scalars = random.choice([2,3,4])\n",
      "        num_vectors = total_choices - num_scalars\n",
      "        select = random.choice([\"vectors\",\"scalars\"])\n",
      "\n",
      "        data2[\"params\"][\"choice\"] = select\n",
      "        \n",
      "        # Create ans_choices\n",
      "        ans_choices = [\"ans{0}\".format(i+1) for i in range(total_choices)]\n",
      "\n",
      "        random.shuffle(scalars)\n",
      "        random.shuffle(vectors)\n",
      "\n",
      "        # define useful variables/lists\n",
      "        vectors = [\"displacement\", \"velocity\", \"acceleration\", \"momentum\", \"force\", \"lift\", \"drag\", \"thurst\", \"weight\"]\n",
      "        scalars = [\"length\", \"area\", \"volume\", \"mass\", \"density\", \"pressure\", \"temperature\", \"energy\", \"entropy\", \"work\", \"power\"]\n",
      "        \n",
      "        # Randomly select 2,3,4 scalars and shuffle the lists\n",
      "        total_choices = 6\n",
      "        num_scalars = random.choice([2,3,4])\n",
      "        num_vectors = total_choices - num_scalars\n",
      "        select = random.choice([\"vectors\",\"scalars\"])\n",
      "\n",
      "        data2[\"params\"][\"choice\"] = select\n",
      "\n",
      "        # Create ans_choices\n",
      "        ans_choices = [\"ans{0}\".format(i+1) for i in range(total_choices)]\n",
      "\n",
      "        random.shuffle(scalars)\n",
      "        random.shuffle(vectors)\n",
      "\n",
      "        # define possible answers\n",
      "        if select == \"vectors\":\n",
      "            for i in range(num_vectors):\n",
      "                choice = ans_choices.pop(0)\n",
      "                data2[\"params\"][\"part1\"][choice][\"value\"] = vectors.pop()\n",
      "                data2[\"params\"][\"part1\"][choice][\"correct\"] = True\n",
      "\n",
      "            for i in range(num_scalars):\n",
      "                choice = ans_choices.pop(0)\n",
      "                data2[\"params\"][\"part1\"][choice][\"value\"] = scalars.pop()\n",
      "                data2[\"params\"][\"part1\"][choice][\"correct\"] = False\n",
      "\n",
      "        elif select == \"scalars\":\n",
      "            for i in range(num_scalars):\n",
      "                choice = ans_choices.pop(0)\n",
      "                data2[\"params\"][\"part1\"][choice][\"value\"] = scalars.pop()\n",
      "                data2[\"params\"][\"part1\"][choice][\"correct\"] = True\n",
      "    generate: |\n",
      "        data2 = pbh.create_data2()\n",
      "\n",
      "        # define or load names/items/objects\n",
      "        names = pd.read_csv(\"data/names.csv\")[\"Names\"].tolist()\n",
      "\n",
      "        # store phrases etc\n",
      "        data2[\"params\"][\"vars\"][\"title\"] = 'Vectors and Scalars'\n",
      "        data2[\"params\"][\"vars\"][\"name\"] = random.choice(names)\n",
      "\n",
      "        # define useful variables/lists\n",
      "        vectors = [\"displacement\", \"velocity\", \"acceleration\", \"momentum\", \"force\", \"lift\", \"drag\", \"thurst\", \"weight\"]\n",
      "        scalars = [\"length\", \"area\", \"volume\", \"mass\", \"density\", \"pressure\", \"temperature\", \"energy\", \"entropy\", \"work\", \"power\"]\n",
      "\n",
      "        # Randomly select 2,3,4 scalars and shuffle the lists\n",
      "        total_choices = 6\n",
      "        num_scalars = random.choice([2,3,4])\n",
      "        num_vectors = total_choices - num_scalars\n",
      "        select = random.choice([\"vectors\",\"scalars\"])\n",
      "\n",
      "        data2[\"params\"][\"choice\"] = select\n",
      "\n",
      "        # Create ans_choices\n",
      "        ans_choices = [\"ans{0}\".format(i+1) for i in range(total_choices)]\n",
      "\n",
      "        random.shuffle(scalars)\n",
      "        random.shuffle(vectors)\n",
      "\n",
      "        # define possible answers\n",
      "        if select == \"vectors\":\n",
      "            for i in range(num_vectors):\n",
      "                choice = ans_choices.pop(0)\n",
      "                data2[\"params\"][\"part1\"][choice][\"value\"] = vectors.pop()\n",
      "                data2[\"params\"][\"part1\"][choice][\"correct\"] = True\n",
      "\n",
      "            for i in range(num_scalars):\n",
      "                choice = ans_choices.pop(0)\n",
      "                data2[\"params\"][\"part1\"][choice][\"value\"] = scalars.pop()\n",
      "                data2[\"params\"][\"part1\"][choice][\"correct\"] = False\n",
      "\n",
      "        elif select == \"scalars\":\n",
      "            for i in range(num_scalars):\n",
      "                choice = ans_choices.pop(0)\n",
      "                data2[\"params\"][\"part1\"][choice][\"value\"] = scalars.pop()\n",
      "                data2[\"params\"][\"part1\"][choice][\"correct\"] = True\n",
      "\n",
      "            for i in range(num_vectors):\n",
      "                choice = ans_choices.pop(0)\n",
      "                data2[\"params\"][\"part1\"][choice][\"value\"] = vectors.pop()\n",
      "                data2[\"params\"][\"part1\"][choice][\"correct\"] = False\n",
      "        # Update the data object with a new dict\n",
      "        data.update(data2)\n",
      "    prepare: |\n",
      "        pass\n",
      "    parse: |\n",
      "        pass\n",
      "    grade: |\n",
      "        pass\n",
      "part1:\n",
      "  type: checkbox\n",
      "  pl-customizations:\n",
      "    weight: 1\n",
      "    partial-credit: true\n",
      "    partial-credit-method: EDC\n",
      "---\n",
      "# {{ params.vars.title }}\n",
      "\n",
      "## Question Text\n",
      "\n",
      "{{ params.vars.name }} is given a list of physical quantities and has to identify all of the {{ params.choice }}. Can you help?\n",
      "\n",
      "### Answer Section\n",
      "\n",
      "Select all the choices that apply.\n",
      "\n",
      "Note: You will be awarded full marks only if you select all the correct choices, and none of the incorrect choices. Choosing incorrect choices as well as not choosing correct choices will result in deductions.\n",
      "\n",
      "- {{ params.part1.ans1.value}} \n",
      "- {{ params.part1.ans2.value}} \n",
      "- {{ params.part1.ans3.value}} \n",
      "- {{ params.part1.ans4.value}} \n",
      "- {{ params.part1.ans5.value}} \n",
      "- {{ params.part1.ans6.value}}\n",
      "\n",
      "## pl-submission-panel\n",
      "\n",
      "Everything here will get inserted directly into the pl-submission-panel element at the end of the `question.html`.\n",
      "\n",
      "## pl-answer-panel\n",
      "\n",
      "Everything here will get inserted directly into an pl-answer-panel element at the end of the `question.html`.\n",
      "\n",
      "## Rubric\n",
      "\n",
      "This should be hidden from students until after the deadline.\n",
      "\n",
      "## Solution\n",
      "\n",
      "This should never be revealed to students.\n",
      "\n",
      "## Comments\n",
      "\n",
      "These are random comments associated with this question.\n"
     ]
    }
   ],
   "source": [
    "import pathlib\n",
    "\n",
    "code = pathlib.Path('q04_checkbox.md').read_text()\n",
    "print(code)"
   ]
  },
  {
   "cell_type": "code",
   "execution_count": 78,
   "metadata": {},
   "outputs": [],
   "source": [
    "header_text = code.rsplit('---\\n')[1]\n",
    "header = yaml.safe_load('---\\n' + header_text)"
   ]
  },
  {
   "cell_type": "code",
   "execution_count": 79,
   "metadata": {},
   "outputs": [
    {
     "data": {
      "text/plain": [
       "['',\n",
       " 'title: Vectors and Scalars\\ntopic: Template\\nauthor: Firas Moosvi\\nsource: original\\ntemplate_version: 1.1\\nattribution: standard\\noutcomes:\\n- 6.1.1.0\\n- 6.1.1.1\\ndifficulty:\\n- undefined\\nrandomization:\\n- undefined\\ntaxonomy:\\n- undefined\\ntags:\\n- unknown\\nassets:\\nserver: \\n    imports: |\\n        import random;random.seed(111)\\n        import pandas as pd\\n        import problem_bank_helpers as pbh\\n    test: |\\n        data2 = pbh.create_data2()\\n\\n        # define or load names/items/objects\\n        names = pd.read_csv(\"data/names.csv\")[\"Names\"].tolist()\\n        \\n        # store phrases etc\\n        data2[\"params\"][\"vars\"][\"title\"] = \"Vectors and Scalars\"\\n        data2[\"params\"][\"vars\"][\"name\"] = random.choice(names)\\n\\n        # define useful variables/lists\\n        vectors = [\"displacement\", \"velocity\", \"acceleration\", \"momentum\", \"force\", \"lift\", \"drag\", \"thurst\", \"weight\"]\\n        scalars = [\"length\", \"area\", \"volume\", \"mass\", \"density\", \"pressure\", \"temperature\", \"energy\", \"entropy\", \"work\", \"power\"]\\n\\n        # Randomly select 2,3,4 scalars and shuffle the lists\\n        total_choices = 6\\n        num_scalars = random.choice([2,3,4])\\n        num_vectors = total_choices - num_scalars\\n        select = random.choice([\"vectors\",\"scalars\"])\\n\\n        data2[\"params\"][\"choice\"] = select\\n        \\n        # Create ans_choices\\n        ans_choices = [\"ans{0}\".format(i+1) for i in range(total_choices)]\\n\\n        random.shuffle(scalars)\\n        random.shuffle(vectors)\\n\\n        # define useful variables/lists\\n        vectors = [\"displacement\", \"velocity\", \"acceleration\", \"momentum\", \"force\", \"lift\", \"drag\", \"thurst\", \"weight\"]\\n        scalars = [\"length\", \"area\", \"volume\", \"mass\", \"density\", \"pressure\", \"temperature\", \"energy\", \"entropy\", \"work\", \"power\"]\\n        \\n        # Randomly select 2,3,4 scalars and shuffle the lists\\n        total_choices = 6\\n        num_scalars = random.choice([2,3,4])\\n        num_vectors = total_choices - num_scalars\\n        select = random.choice([\"vectors\",\"scalars\"])\\n\\n        data2[\"params\"][\"choice\"] = select\\n\\n        # Create ans_choices\\n        ans_choices = [\"ans{0}\".format(i+1) for i in range(total_choices)]\\n\\n        random.shuffle(scalars)\\n        random.shuffle(vectors)\\n\\n        # define possible answers\\n        if select == \"vectors\":\\n            for i in range(num_vectors):\\n                choice = ans_choices.pop(0)\\n                data2[\"params\"][\"part1\"][choice][\"value\"] = vectors.pop()\\n                data2[\"params\"][\"part1\"][choice][\"correct\"] = True\\n\\n            for i in range(num_scalars):\\n                choice = ans_choices.pop(0)\\n                data2[\"params\"][\"part1\"][choice][\"value\"] = scalars.pop()\\n                data2[\"params\"][\"part1\"][choice][\"correct\"] = False\\n\\n        elif select == \"scalars\":\\n            for i in range(num_scalars):\\n                choice = ans_choices.pop(0)\\n                data2[\"params\"][\"part1\"][choice][\"value\"] = scalars.pop()\\n                data2[\"params\"][\"part1\"][choice][\"correct\"] = True\\n    generate: |\\n        data2 = pbh.create_data2()\\n\\n        # define or load names/items/objects\\n        names = pd.read_csv(\"data/names.csv\")[\"Names\"].tolist()\\n\\n        # store phrases etc\\n        data2[\"params\"][\"vars\"][\"title\"] = \\'Vectors and Scalars\\'\\n        data2[\"params\"][\"vars\"][\"name\"] = random.choice(names)\\n\\n        # define useful variables/lists\\n        vectors = [\"displacement\", \"velocity\", \"acceleration\", \"momentum\", \"force\", \"lift\", \"drag\", \"thurst\", \"weight\"]\\n        scalars = [\"length\", \"area\", \"volume\", \"mass\", \"density\", \"pressure\", \"temperature\", \"energy\", \"entropy\", \"work\", \"power\"]\\n\\n        # Randomly select 2,3,4 scalars and shuffle the lists\\n        total_choices = 6\\n        num_scalars = random.choice([2,3,4])\\n        num_vectors = total_choices - num_scalars\\n        select = random.choice([\"vectors\",\"scalars\"])\\n\\n        data2[\"params\"][\"choice\"] = select\\n\\n        # Create ans_choices\\n        ans_choices = [\"ans{0}\".format(i+1) for i in range(total_choices)]\\n\\n        random.shuffle(scalars)\\n        random.shuffle(vectors)\\n\\n        # define possible answers\\n        if select == \"vectors\":\\n            for i in range(num_vectors):\\n                choice = ans_choices.pop(0)\\n                data2[\"params\"][\"part1\"][choice][\"value\"] = vectors.pop()\\n                data2[\"params\"][\"part1\"][choice][\"correct\"] = True\\n\\n            for i in range(num_scalars):\\n                choice = ans_choices.pop(0)\\n                data2[\"params\"][\"part1\"][choice][\"value\"] = scalars.pop()\\n                data2[\"params\"][\"part1\"][choice][\"correct\"] = False\\n\\n        elif select == \"scalars\":\\n            for i in range(num_scalars):\\n                choice = ans_choices.pop(0)\\n                data2[\"params\"][\"part1\"][choice][\"value\"] = scalars.pop()\\n                data2[\"params\"][\"part1\"][choice][\"correct\"] = True\\n\\n            for i in range(num_vectors):\\n                choice = ans_choices.pop(0)\\n                data2[\"params\"][\"part1\"][choice][\"value\"] = vectors.pop()\\n                data2[\"params\"][\"part1\"][choice][\"correct\"] = False\\n        # Update the data object with a new dict\\n        data.update(data2)\\n    prepare: |\\n        pass\\n    parse: |\\n        pass\\n    grade: |\\n        pass\\npart1:\\n  type: checkbox\\n  pl-customizations:\\n    weight: 1\\n    partial-credit: true\\n    partial-credit-method: EDC\\n',\n",
       " '# {{ params.vars.title }}\\n\\n## Question Text\\n\\n{{ params.vars.name }} is given a list of physical quantities and has to identify all of the {{ params.choice }}. Can you help?\\n\\n### Answer Section\\n\\nSelect all the choices that apply.\\n\\nNote: You will be awarded full marks only if you select all the correct choices, and none of the incorrect choices. Choosing incorrect choices as well as not choosing correct choices will result in deductions.\\n\\n- {{ params.part1.ans1.value}} \\n- {{ params.part1.ans2.value}} \\n- {{ params.part1.ans3.value}} \\n- {{ params.part1.ans4.value}} \\n- {{ params.part1.ans5.value}} \\n- {{ params.part1.ans6.value}}\\n\\n## pl-submission-panel\\n\\nEverything here will get inserted directly into the pl-submission-panel element at the end of the `question.html`.\\n\\n## pl-answer-panel\\n\\nEverything here will get inserted directly into an pl-answer-panel element at the end of the `question.html`.\\n\\n## Rubric\\n\\nThis should be hidden from students until after the deadline.\\n\\n## Solution\\n\\nThis should never be revealed to students.\\n\\n## Comments\\n\\nThese are random comments associated with this question.']"
      ]
     },
     "execution_count": 79,
     "metadata": {},
     "output_type": "execute_result"
    }
   ],
   "source": [
    "code.rsplit('---\\n')"
   ]
  },
  {
   "cell_type": "code",
   "execution_count": 10,
   "metadata": {},
   "outputs": [
    {
     "name": "stdout",
     "output_type": "stream",
     "text": [
      "data2 = pbh.create_data2()\n",
      "\n",
      "names = pd.read_csv(\"data/names.csv\")[\"Names\"].tolist()\n",
      "\n",
      "data2[\"params\"][\"vars\"][\"title\"] = 'Vectors and Scalars'\n",
      "data2[\"params\"][\"vars\"][\"name\"] = random.choice(names)\n",
      "\n",
      "vectors = [\"displacement\", \"velocity\", \"acceleration\", \"momentum\", \"force\", \"lift\", \"drag\", \"thurst\", \"weight\"]\n",
      "scalars = [\"length\", \"area\", \"volume\", \"mass\", \"density\", \"pressure\", \"temperature\", \"energy\", \"entropy\", \"work\", \"power\"]\n",
      "\n",
      "total_choices = 6\n",
      "num_scalars = random.choice([2,3,4])\n",
      "num_vectors = total_choices - num_scalars\n",
      "select = random.choice([\"vectors\",\"scalars\"])\n",
      "\n",
      "\n",
      "# Create ans_choices\n",
      "ans_choices = [\"ans{0}\".format(i+1) for i in range(total_choices)]\n",
      "\n",
      "random.shuffle(vectors)\n",
      "\n",
      "if select == \"vectors\":\n",
      "\n",
      "        choice = ans_choices.pop(0)\n",
      "\n",
      "        data2[\"params\"][\"part1\"][choice][\"correct\"] = True\n",
      "\n",
      "        choice = ans_choices.pop(0)\n",
      "\n",
      "        data2[\"params\"][\"part1\"][choice][\"correct\"] = False\n",
      "\n",
      "    for i in range(num_scalars):\n",
      "\n",
      "        data2[\"params\"][\"part1\"][choice][\"value\"] = scalars.pop()\n",
      "\n",
      "        \n",
      "\n",
      "        choice = ans_choices.pop(0)\n",
      "\n",
      "        data2[\"params\"][\"part1\"][choice][\"correct\"] = False\n",
      "\n",
      "data.update(data2)\n",
      "\n"
     ]
    }
   ],
   "source": [
    "\n",
    "print(header['server']['generate'])"
   ]
  },
  {
   "cell_type": "markdown",
   "metadata": {},
   "source": [
    "# AHA! FINALLY FIGURED IT OUT. The formatting is getting messed up because the source had something ridiculous like:\n",
    "\n",
    "\n",
    "\\n                                        \\n\n",
    "\n",
    "\n",
    "```\n",
    "        data = re.sub('\\\\n\\s+\\\\n','\\n\\n',data) # Try \\s{3,} for three or more spaces\n",
    "\n",
    "\n",
    "```\n",
    "\n",
    "in yaml repr_str will fix this."
   ]
  },
  {
   "cell_type": "code",
   "execution_count": null,
   "metadata": {},
   "outputs": [],
   "source": []
  }
 ],
 "metadata": {
  "kernelspec": {
   "display_name": "Python 3",
   "language": "python",
   "name": "python3"
  },
  "language_info": {
   "codemirror_mode": {
    "name": "ipython",
    "version": 3
   },
   "file_extension": ".py",
   "mimetype": "text/x-python",
   "name": "python",
   "nbconvert_exporter": "python",
   "pygments_lexer": "ipython3",
   "version": "3.8.3"
  }
 },
 "nbformat": 4,
 "nbformat_minor": 4
}
