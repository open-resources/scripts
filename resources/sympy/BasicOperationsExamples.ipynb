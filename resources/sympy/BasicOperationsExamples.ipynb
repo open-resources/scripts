{
 "cells": [
  {
   "cell_type": "markdown",
   "metadata": {},
   "source": [
    "# Basic Operations Solutions\n",
    "Full documentation here: \n",
    "https://docs.sympy.org/latest/modules/index.html"
   ]
  },
  {
   "cell_type": "code",
   "execution_count": 1,
   "metadata": {},
   "outputs": [],
   "source": [
    "import sys\n",
    "import os\n",
    "# sys.path.insert(1, os.path.join(os.path.pardir, \"ipython_doctester\"))\n",
    "from sympy import *"
   ]
  },
  {
   "cell_type": "markdown",
   "metadata": {},
   "source": [
    "## Substitution"
   ]
  },
  {
   "cell_type": "markdown",
   "metadata": {},
   "source": [
    "Write a function that takes a list of expressions, a variable, and a point, and evaluates each expression in the list at that point."
   ]
  },
  {
   "cell_type": "code",
   "execution_count": 2,
   "metadata": {},
   "outputs": [],
   "source": [
    "def evaluate(exprs, x, x0):\n",
    "    \"\"\"\n",
    "    Evaluate each expression in exprs at the point x = x0.\n",
    "\n",
    "    >>> x, y = symbols('x y')\n",
    "    >>> exprs = [x**2, cos(x), x*y]\n",
    "    >>> evaluate(exprs, x, 1)\n",
    "    [1, cos(1), y]\n",
    "    >>> evaluate(exprs, y, 0)\n",
    "    [x**2, cos(x), 0]\n",
    "    \"\"\"\n",
    "    return [expr.subs(x, x0) for expr in exprs]"
   ]
  },
  {
   "cell_type": "code",
   "execution_count": 3,
   "metadata": {},
   "outputs": [
    {
     "data": {
      "text/plain": [
       "[1, cos(1), y]"
      ]
     },
     "execution_count": 3,
     "metadata": {},
     "output_type": "execute_result"
    }
   ],
   "source": [
    "x, y = symbols('x y')\n",
    "exprs = [x**2, cos(x), x*y]\n",
    "evaluate(exprs, x, 1)"
   ]
  },
  {
   "cell_type": "code",
   "execution_count": 4,
   "metadata": {},
   "outputs": [
    {
     "data": {
      "text/plain": [
       "[x**2, cos(x), 0]"
      ]
     },
     "execution_count": 4,
     "metadata": {},
     "output_type": "execute_result"
    }
   ],
   "source": [
    "evaluate(exprs, y, 0)"
   ]
  },
  {
   "cell_type": "markdown",
   "metadata": {},
   "source": [
    "Write a function that computes \n",
    "\n",
    "$$\n",
    "{\\underbrace{x^{{}^{.^{.^{.^x}}}}}_\\text{n copies of x}}\n",
    "$$\n",
    "\n",
    "That is, `x**(x**(...x))`, with `n` copies of `x`.  In [Knuth up-arrow notation](http://en.wikipedia.org/wiki/Up_arrow_notation), $x\\uparrow\\uparrow n$."
   ]
  },
  {
   "cell_type": "code",
   "execution_count": 5,
   "metadata": {},
   "outputs": [],
   "source": [
    "def uparrow(x, n):\n",
    "    \"\"\"\n",
    "    Computes x**(x**(...x)), with n copies of x.\n",
    "\n",
    "    >>> x = symbols('x')\n",
    "    >>> uparrow(x, 3)\n",
    "    x**(x**x)\n",
    "    >>> uparrow(x, 1)\n",
    "    x\n",
    "    >>> uparrow(x**x, 3)\n",
    "    (x**x)**((x**x)**(x**x))\n",
    "    \"\"\"\n",
    "    expr = x\n",
    "    for i in range(n - 1):\n",
    "        expr = x**expr\n",
    "    return expr"
   ]
  },
  {
   "cell_type": "code",
   "execution_count": 6,
   "metadata": {},
   "outputs": [
    {
     "data": {
      "text/latex": [
       "$\\displaystyle \\left(x^{x}\\right)^{\\left(x^{x}\\right)^{x^{x}}}$"
      ],
      "text/plain": [
       "(x**x)**((x**x)**(x**x))"
      ]
     },
     "execution_count": 6,
     "metadata": {},
     "output_type": "execute_result"
    }
   ],
   "source": [
    "uparrow(x**x, 3)"
   ]
  },
  {
   "cell_type": "markdown",
   "metadata": {},
   "source": [
    "Write a function that takes a function and nests it within itself n times. \n",
    "\n",
    "For example, if we started with $x^x$, and $n=3$, we would end up with \n",
    "\n",
    "$$\\left(\\left(x^{x}\\right)^{\\left(x^{x}\\right)}\\right)^\\left({\\left(x^{x}\\right)^{\\left(x^{x}\\right)}}\\right)$$"
   ]
  },
  {
   "cell_type": "code",
   "execution_count": 7,
   "metadata": {},
   "outputs": [],
   "source": [
    "def nest(expr, x, n):\n",
    "    \"\"\"\n",
    "    Nests expr into itself (in the variable x) n times.\n",
    "\n",
    "    >>> x, y = symbols('x y')\n",
    "    >>> nest(x**x, x, 3)\n",
    "    ((x**x)**(x**x))**((x**x)**(x**x))\n",
    "    >>> nest(sin(x)*cos(y), x, 2)\n",
    "    sin(sin(x)*cos(y))*cos(y)\n",
    "    >>> nest(sin(x)*cos(y), y, 2)\n",
    "    sin(x)*cos(sin(x)*cos(y))\n",
    "    >>> nest(x**2, x, 1)\n",
    "    x**2\n",
    "    \"\"\"\n",
    "    origexpr = expr\n",
    "    for i in range(n - 1):\n",
    "        expr = expr.subs(x, origexpr)\n",
    "    return expr"
   ]
  },
  {
   "cell_type": "code",
   "execution_count": 8,
   "metadata": {},
   "outputs": [
    {
     "data": {
      "text/latex": [
       "$\\displaystyle x^{2}$"
      ],
      "text/plain": [
       "x**2"
      ]
     },
     "execution_count": 8,
     "metadata": {},
     "output_type": "execute_result"
    }
   ],
   "source": [
    "nest(x**2, x, 1)"
   ]
  },
  {
   "cell_type": "code",
   "execution_count": 9,
   "metadata": {},
   "outputs": [
    {
     "data": {
      "text/latex": [
       "$\\displaystyle \\left(\\left(x^{x}\\right)^{x^{x}}\\right)^{\\left(x^{x}\\right)^{x^{x}}}$"
      ],
      "text/plain": [
       "((x**x)**(x**x))**((x**x)**(x**x))"
      ]
     },
     "execution_count": 9,
     "metadata": {},
     "output_type": "execute_result"
    }
   ],
   "source": [
    "nest(x**x, x, 3)"
   ]
  },
  {
   "cell_type": "code",
   "execution_count": 10,
   "metadata": {},
   "outputs": [
    {
     "data": {
      "text/latex": [
       "$\\displaystyle \\sin{\\left(\\sin{\\left(x \\right)} \\cos{\\left(y \\right)} \\right)} \\cos{\\left(y \\right)}$"
      ],
      "text/plain": [
       "sin(sin(x)*cos(y))*cos(y)"
      ]
     },
     "execution_count": 10,
     "metadata": {},
     "output_type": "execute_result"
    }
   ],
   "source": [
    "nest(sin(x)*cos(y), x, 2)"
   ]
  },
  {
   "cell_type": "code",
   "execution_count": 11,
   "metadata": {},
   "outputs": [
    {
     "data": {
      "text/latex": [
       "$\\displaystyle \\sin{\\left(x \\right)} \\cos{\\left(\\sin{\\left(x \\right)} \\cos{\\left(y \\right)} \\right)}$"
      ],
      "text/plain": [
       "sin(x)*cos(sin(x)*cos(y))"
      ]
     },
     "execution_count": 11,
     "metadata": {},
     "output_type": "execute_result"
    }
   ],
   "source": [
    "nest(sin(x)*cos(y), y, 2)"
   ]
  },
  {
   "cell_type": "markdown",
   "metadata": {},
   "source": [
    "Write a function that replaces all trig functions in terms of $\\sin(x)$ and $\\cos(x)$. You can assume that the trig function will be of the form $t(x)$, where $x$ is the variable.  The trig functions implemented in SymPy are\n",
    "\n",
    "$$\\tan(x) = \\frac{\\sin(x)}{\\cos(x)}$$\n",
    "$$\\cot(x) = \\frac{\\cos(x)}{\\sin(x)}$$\n",
    "$$\\sec(x) = \\frac{1}{\\cos(x)}$$\n",
    "$$\\csc(x) = \\frac{1}{\\sin(x)}$$\n"
   ]
  },
  {
   "cell_type": "code",
   "execution_count": 12,
   "metadata": {},
   "outputs": [],
   "source": [
    "def trig_rewrite(expr, x):\n",
    "    \"\"\"\n",
    "    Rewrite all trig functions t(x) in terms of sin(x) and cos(x)\n",
    "\n",
    "    >>> x, y = symbols('x y')\n",
    "    >>> trig_rewrite(tan(x), x)\n",
    "    sin(x)/cos(x)\n",
    "    >>> trig_rewrite(tan(x) + cos(x)*sec(x), x)\n",
    "    sin(x)/cos(x) + 1\n",
    "    >>> trig_rewrite(cot(x) + sin(x)*csc(x), x)\n",
    "    1 + cos(x)/sin(x)\n",
    "    >>> trig_rewrite(tan(x)*tan(y), x)\n",
    "    sin(x)*tan(y)/cos(x)\n",
    "    >>> trig_rewrite(tan(x)*tan(y), y)\n",
    "    sin(y)*tan(x)/cos(y)\n",
    "    \"\"\"\n",
    "    return expr.subs([(tan(x), sin(x)/cos(x)), (sec(x), 1/cos(x)), (csc(x), 1/sin(x)), (cot(x), cos(x)/sin(x))])"
   ]
  },
  {
   "cell_type": "code",
   "execution_count": 13,
   "metadata": {},
   "outputs": [
    {
     "data": {
      "text/latex": [
       "$\\displaystyle \\frac{\\sin{\\left(x \\right)}}{\\cos{\\left(x \\right)}}$"
      ],
      "text/plain": [
       "sin(x)/cos(x)"
      ]
     },
     "execution_count": 13,
     "metadata": {},
     "output_type": "execute_result"
    }
   ],
   "source": [
    "trig_rewrite(tan(x), x)"
   ]
  },
  {
   "cell_type": "code",
   "execution_count": 14,
   "metadata": {},
   "outputs": [
    {
     "data": {
      "text/latex": [
       "$\\displaystyle \\frac{\\sin{\\left(x \\right)}}{\\cos{\\left(x \\right)}} + 1$"
      ],
      "text/plain": [
       "sin(x)/cos(x) + 1"
      ]
     },
     "execution_count": 14,
     "metadata": {},
     "output_type": "execute_result"
    }
   ],
   "source": [
    "trig_rewrite(tan(x) + cos(x)*sec(x), x)"
   ]
  },
  {
   "cell_type": "code",
   "execution_count": 15,
   "metadata": {},
   "outputs": [
    {
     "data": {
      "text/latex": [
       "$\\displaystyle 1 + \\frac{\\cos{\\left(x \\right)}}{\\sin{\\left(x \\right)}}$"
      ],
      "text/plain": [
       "1 + cos(x)/sin(x)"
      ]
     },
     "execution_count": 15,
     "metadata": {},
     "output_type": "execute_result"
    }
   ],
   "source": [
    "trig_rewrite(cot(x) + sin(x)*csc(x), x)"
   ]
  },
  {
   "cell_type": "code",
   "execution_count": 16,
   "metadata": {},
   "outputs": [
    {
     "data": {
      "text/latex": [
       "$\\displaystyle \\frac{\\sin{\\left(x \\right)} \\tan{\\left(y \\right)}}{\\cos{\\left(x \\right)}}$"
      ],
      "text/plain": [
       "sin(x)*tan(y)/cos(x)"
      ]
     },
     "execution_count": 16,
     "metadata": {},
     "output_type": "execute_result"
    }
   ],
   "source": [
    "trig_rewrite(tan(x)*tan(y), x)"
   ]
  },
  {
   "cell_type": "code",
   "execution_count": 17,
   "metadata": {},
   "outputs": [
    {
     "data": {
      "text/latex": [
       "$\\displaystyle \\frac{\\sin{\\left(y \\right)} \\tan{\\left(x \\right)}}{\\cos{\\left(y \\right)}}$"
      ],
      "text/plain": [
       "sin(y)*tan(x)/cos(y)"
      ]
     },
     "execution_count": 17,
     "metadata": {},
     "output_type": "execute_result"
    }
   ],
   "source": [
    "trig_rewrite(tan(x)*tan(y), y)"
   ]
  },
  {
   "cell_type": "markdown",
   "metadata": {},
   "source": [
    "Suppose we are working with the series expansion of a function at $x=0$, like $a_0 + a_1x + a_2x^2 + \\cdots$.  In this expansion, the terms with higher powers are less significant to the calculation.  For example, if we had\n",
    "\n",
    "$$1 + x + \\frac{x^{2}}{2} + \\frac{x^{3}}{6} + \\frac{x^{4}}{24} + \\frac{x^{5}}{120} + \\frac{x^{6}}{720} + \\frac{x^{7}}{5040} + \\frac{x^{8}}{40320} + \\frac{x^{9}}{362880}$$\n",
    "\n",
    "We might only care about the terms with powers less than 5\n",
    "\n",
    "$$1 + x + \\frac{x^{2}}{2} + \\frac{x^{3}}{6} + \\frac{x^{4}}{24}$$\n",
    "\n",
    "We will see later that this is can be done automatically using the `O` class, but it can also be done using `subs`."
   ]
  },
  {
   "cell_type": "code",
   "execution_count": 18,
   "metadata": {},
   "outputs": [],
   "source": [
    "def series_reduce(expr, x, p):\n",
    "    \"\"\"\n",
    "    Remove all powers of x in expr with power greater than p.\n",
    "\n",
    "    You may assume that there are no powers of x greater than 10.\n",
    "\n",
    "    Bonus: which functions are represented by the series expansions below (you\n",
    "    can use expr.series(x, 0, 10) to check if you are right)?\n",
    "\n",
    "    >>> x, y = symbols('x y')\n",
    "    >>> series_reduce(1 - x**2/2 + x**4/24 - x**6/720 + x**8/40320, x, 5)\n",
    "    x**4/24 - x**2/2 + 1\n",
    "    >>> series_reduce(1 + x + x**2 + x**3 + x**4 + x**5 + x**6 + x**7 + x**8 + x**9 + x**10, x, 0)\n",
    "    1\n",
    "    >>> series_reduce(x*y + x**3*y**3/3 + 2*x**5*y**5/15 + 17*x**7*y**7/315 + 62*x**9*y**9/2835, x, 5)\n",
    "    2*x**5*y**5/15 + x**3*y**3/3 + x*y\n",
    "    \"\"\"\n",
    "    return expr.subs([(x**i, 0) for i in range(11) if  i > p])"
   ]
  },
  {
   "cell_type": "code",
   "execution_count": 19,
   "metadata": {},
   "outputs": [
    {
     "data": {
      "text/latex": [
       "$\\displaystyle \\frac{x^{4}}{24} - \\frac{x^{2}}{2} + 1$"
      ],
      "text/plain": [
       "x**4/24 - x**2/2 + 1"
      ]
     },
     "execution_count": 19,
     "metadata": {},
     "output_type": "execute_result"
    }
   ],
   "source": [
    "series_reduce(1 - x**2/2 + x**4/24 - x**6/720 + x**8/40320, x, 5)"
   ]
  },
  {
   "cell_type": "code",
   "execution_count": 20,
   "metadata": {},
   "outputs": [
    {
     "data": {
      "text/latex": [
       "$\\displaystyle 1$"
      ],
      "text/plain": [
       "1"
      ]
     },
     "execution_count": 20,
     "metadata": {},
     "output_type": "execute_result"
    }
   ],
   "source": [
    "series_reduce(1 + x + x**2 + x**3 + x**4 + x**5 + x**6 + x**7 + x**8 + x**9 + x**10, x, 0)"
   ]
  },
  {
   "cell_type": "code",
   "execution_count": 21,
   "metadata": {},
   "outputs": [
    {
     "data": {
      "text/latex": [
       "$\\displaystyle \\frac{2 x^{5} y^{5}}{15} + \\frac{x^{3} y^{3}}{3} + x y$"
      ],
      "text/plain": [
       "2*x**5*y**5/15 + x**3*y**3/3 + x*y"
      ]
     },
     "execution_count": 21,
     "metadata": {},
     "output_type": "execute_result"
    }
   ],
   "source": [
    "series_reduce(x*y + x**3*y**3/3 + 2*x**5*y**5/15 + 17*x**7*y**7/315 + 62*x**9*y**9/2835, x, 5)"
   ]
  },
  {
   "cell_type": "code",
   "execution_count": null,
   "metadata": {},
   "outputs": [],
   "source": []
  }
 ],
 "metadata": {
  "kernelspec": {
   "display_name": "Python 3",
   "language": "python",
   "name": "python3"
  },
  "language_info": {
   "codemirror_mode": {
    "name": "ipython",
    "version": 3
   },
   "file_extension": ".py",
   "mimetype": "text/x-python",
   "name": "python",
   "nbconvert_exporter": "python",
   "pygments_lexer": "ipython3",
   "version": "3.8.5"
  }
 },
 "nbformat": 4,
 "nbformat_minor": 1
}
