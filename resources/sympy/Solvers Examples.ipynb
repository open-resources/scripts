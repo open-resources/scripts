{
 "cells": [
  {
   "cell_type": "markdown",
   "metadata": {},
   "source": [
    "# Solvers Examples\n",
    "Documentation: https://docs.sympy.org/latest/modules/solvers/solvers.html"
   ]
  },
  {
   "cell_type": "code",
   "execution_count": 8,
   "metadata": {},
   "outputs": [],
   "source": [
    "import sys\n",
    "import os\n",
    "from sympy import *\n",
    "def notransform(line): return line\n",
    "from IPython.core import inputsplitter\n",
    "inputsplitter.transform_classic_prompt = notransform\n",
    "init_printing()"
   ]
  },
  {
   "cell_type": "markdown",
   "metadata": {},
   "source": [
    "For each exercise, fill in the function according to its docstring. Execute the cell to see if you did it right. "
   ]
  },
  {
   "cell_type": "code",
   "execution_count": 9,
   "metadata": {},
   "outputs": [],
   "source": [
    "a, b, c, d, x, y, z, t = symbols('a b c d x y z t')\n",
    "f, g, h = symbols('f g h', cls=Function)"
   ]
  },
  {
   "cell_type": "markdown",
   "metadata": {},
   "source": [
    "## Algebraic Equations"
   ]
  },
  {
   "cell_type": "markdown",
   "metadata": {},
   "source": [
    "Write a function that computes the [quadratic equation](http://en.wikipedia.org/wiki/Quadratic_equation)."
   ]
  },
  {
   "cell_type": "code",
   "execution_count": 10,
   "metadata": {},
   "outputs": [
    {
     "data": {
      "image/png": "[encoded data removed]",
      "text/latex": [
       "$\\displaystyle \\left[ \\frac{- b + \\sqrt{- 4 a c + b^{2}}}{2 a}, \\  - \\frac{b + \\sqrt{- 4 a c + b^{2}}}{2 a}\\right]$"
      ],
      "text/plain": [
       "⎡        _____________   ⎛       _____________⎞ ⎤\n",
       "⎢       ╱           2    ⎜      ╱           2 ⎟ ⎥\n",
       "⎢-b + ╲╱  -4⋅a⋅c + b    -⎝b + ╲╱  -4⋅a⋅c + b  ⎠ ⎥\n",
       "⎢─────────────────────, ────────────────────────⎥\n",
       "⎣         2⋅a                     2⋅a           ⎦"
      ]
     },
     "execution_count": 10,
     "metadata": {},
     "output_type": "execute_result"
    }
   ],
   "source": [
    "def quadratic():\n",
    "    return solve(a*x**2 + b*x + c, x)\n",
    "quadratic()"
   ]
  },
  {
   "cell_type": "code",
   "execution_count": 36,
   "metadata": {},
   "outputs": [
    {
     "data": {
      "image/png": "[encoded data removed]",
      "text/latex": [
       "$\\displaystyle \\left[ \\frac{- b + \\sqrt{- 4 a c + b^{2}}}{2 a}, \\  - \\frac{b + \\sqrt{- 4 a c + b^{2}}}{2 a}\\right]$"
      ],
      "text/plain": [
       "⎡        _____________   ⎛       _____________⎞ ⎤\n",
       "⎢       ╱           2    ⎜      ╱           2 ⎟ ⎥\n",
       "⎢-b + ╲╱  -4⋅a⋅c + b    -⎝b + ╲╱  -4⋅a⋅c + b  ⎠ ⎥\n",
       "⎢─────────────────────, ────────────────────────⎥\n",
       "⎣         2⋅a                     2⋅a           ⎦"
      ]
     },
     "execution_count": 36,
     "metadata": {},
     "output_type": "execute_result"
    }
   ],
   "source": [
    "solve(a*x**2 + b*x + c, x)"
   ]
  },
  {
   "cell_type": "markdown",
   "metadata": {},
   "source": [
    "Write a function that computes the general solution to the cubic $x^3 + ax^2 + bx + c$."
   ]
  },
  {
   "cell_type": "code",
   "execution_count": 11,
   "metadata": {},
   "outputs": [
    {
     "data": {
      "image/png": "[encoded data removed]",
      "text/latex": [
       "$\\displaystyle \\left[ - \\frac{a}{3} - \\frac{a^{2} - 3 b}{3 \\sqrt[3]{a^{3} - \\frac{9 a b}{2} + \\frac{27 c}{2} + \\frac{\\sqrt{- 4 \\left(a^{2} - 3 b\\right)^{3} + \\left(2 a^{3} - 9 a b + 27 c\\right)^{2}}}{2}}} - \\frac{\\sqrt[3]{a^{3} - \\frac{9 a b}{2} + \\frac{27 c}{2} + \\frac{\\sqrt{- 4 \\left(a^{2} - 3 b\\right)^{3} + \\left(2 a^{3} - 9 a b + 27 c\\right)^{2}}}{2}}}{3}, \\  - \\frac{a}{3} - \\frac{a^{2} - 3 b}{3 \\left(- \\frac{1}{2} - \\frac{\\sqrt{3} i}{2}\\right) \\sqrt[3]{a^{3} - \\frac{9 a b}{2} + \\frac{27 c}{2} + \\frac{\\sqrt{- 4 \\left(a^{2} - 3 b\\right)^{3} + \\left(2 a^{3} - 9 a b + 27 c\\right)^{2}}}{2}}} - \\frac{\\left(- \\frac{1}{2} - \\frac{\\sqrt{3} i}{2}\\right) \\sqrt[3]{a^{3} - \\frac{9 a b}{2} + \\frac{27 c}{2} + \\frac{\\sqrt{- 4 \\left(a^{2} - 3 b\\right)^{3} + \\left(2 a^{3} - 9 a b + 27 c\\right)^{2}}}{2}}}{3}, \\  - \\frac{a}{3} - \\frac{a^{2} - 3 b}{3 \\left(- \\frac{1}{2} + \\frac{\\sqrt{3} i}{2}\\right) \\sqrt[3]{a^{3} - \\frac{9 a b}{2} + \\frac{27 c}{2} + \\frac{\\sqrt{- 4 \\left(a^{2} - 3 b\\right)^{3} + \\left(2 a^{3} - 9 a b + 27 c\\right)^{2}}}{2}}} - \\frac{\\left(- \\frac{1}{2} + \\frac{\\sqrt{3} i}{2}\\right) \\sqrt[3]{a^{3} - \\frac{9 a b}{2} + \\frac{27 c}{2} + \\frac{\\sqrt{- 4 \\left(a^{2} - 3 b\\right)^{3} + \\left(2 a^{3} - 9 a b + 27 c\\right)^{2}}}{2}}}{3}\\right]$"
      ],
      "text/plain": [
       "⎡                                                                             \n",
       "⎢                                                                             \n",
       "⎢                                                                             \n",
       "⎢                                                                             \n",
       "⎢                                                                             \n",
       "⎢                                          2                                  \n",
       "⎢  a                                      a  - 3⋅b                            \n",
       "⎢- ─ - ───────────────────────────────────────────────────────────────────────\n",
       "⎢  3            ______________________________________________________________\n",
       "⎢              ╱                         _____________________________________\n",
       "⎢             ╱                         ╱               3                     \n",
       "⎢            ╱                         ╱      ⎛ 2      ⎞    ⎛   3             \n",
       "⎢           ╱     3   9⋅a⋅b   27⋅c   ╲╱   - 4⋅⎝a  - 3⋅b⎠  + ⎝2⋅a  - 9⋅a⋅b + 27\n",
       "⎢      3⋅3 ╱     a  - ───── + ──── + ─────────────────────────────────────────\n",
       "⎣        ╲╱             2      2                           2                  \n",
       "\n",
       "                ______________________________________________________________\n",
       "               ╱                         _____________________________________\n",
       "              ╱                         ╱               3                     \n",
       "             ╱                         ╱      ⎛ 2      ⎞    ⎛   3             \n",
       "            ╱     3   9⋅a⋅b   27⋅c   ╲╱   - 4⋅⎝a  - 3⋅b⎠  + ⎝2⋅a  - 9⋅a⋅b + 27\n",
       "         3 ╱     a  - ───── + ──── + ─────────────────────────────────────────\n",
       "         ╲╱             2      2                           2                  \n",
       "────── - ─────────────────────────────────────────────────────────────────────\n",
       "______                                        3                               \n",
       "_____                                                                         \n",
       "   2                                                                          \n",
       "  ⎞                                                                           \n",
       "⋅c⎠                                                                           \n",
       "─────                                                                         \n",
       "                                                                              \n",
       "\n",
       "______                                                                        \n",
       "_____                                                                         \n",
       "   2                                                                          \n",
       "  ⎞                                                                           \n",
       "⋅c⎠                                                                           \n",
       "─────                                                   2                     \n",
       "          a                                            a  - 3⋅b               \n",
       "──────, - ─ - ────────────────────────────────────────────────────────────────\n",
       "          3                         __________________________________________\n",
       "                                   ╱                         _________________\n",
       "                                  ╱                         ╱               3 \n",
       "                                 ╱                         ╱      ⎛ 2      ⎞  \n",
       "                ⎛  1   √3⋅ⅈ⎞    ╱     3   9⋅a⋅b   27⋅c   ╲╱   - 4⋅⎝a  - 3⋅b⎠  \n",
       "              3⋅⎜- ─ - ────⎟⋅3 ╱     a  - ───── + ──── + ─────────────────────\n",
       "                ⎝  2    2  ⎠ ╲╱             2      2                          \n",
       "\n",
       "                                                 _____________________________\n",
       "                                                ╱                         ____\n",
       "                                               ╱                         ╱    \n",
       "                                              ╱                         ╱     \n",
       "                             ⎛  1   √3⋅ⅈ⎞    ╱     3   9⋅a⋅b   27⋅c   ╲╱   - 4\n",
       "                             ⎜- ─ - ────⎟⋅3 ╱     a  - ───── + ──── + ────────\n",
       "                             ⎝  2    2  ⎠ ╲╱             2      2             \n",
       "────────────────────────── - ─────────────────────────────────────────────────\n",
       "__________________________                                              3     \n",
       "_________________________                                                     \n",
       "                       2                                                      \n",
       "  ⎛   3               ⎞                                                       \n",
       "+ ⎝2⋅a  - 9⋅a⋅b + 27⋅c⎠                                                       \n",
       "─────────────────────────                                                     \n",
       " 2                                                                            \n",
       "\n",
       "_______________________________________                                       \n",
       "______________________________________                                        \n",
       "           3                        2                                         \n",
       " ⎛ 2      ⎞    ⎛   3               ⎞                                          \n",
       "⋅⎝a  - 3⋅b⎠  + ⎝2⋅a  - 9⋅a⋅b + 27⋅c⎠                                          \n",
       "──────────────────────────────────────                                        \n",
       "              2                            a                                  \n",
       "───────────────────────────────────────, - ─ - ───────────────────────────────\n",
       "                                           3                         _________\n",
       "                                                                    ╱         \n",
       "                                                                   ╱          \n",
       "                                                                  ╱           \n",
       "                                                 ⎛  1   √3⋅ⅈ⎞    ╱     3   9⋅a\n",
       "                                               3⋅⎜- ─ + ────⎟⋅3 ╱     a  - ───\n",
       "                                                 ⎝  2    2  ⎠ ╲╱             2\n",
       "\n",
       "                                                                              \n",
       "                                                                              \n",
       "                                                                              \n",
       "                                                                              \n",
       "                                                              ⎛  1   √3⋅ⅈ⎞    \n",
       "           2                                                  ⎜- ─ + ────⎟⋅3 ╱\n",
       "          a  - 3⋅b                                            ⎝  2    2  ⎠ ╲╱ \n",
       "─────────────────────────────────────────────────────────── - ────────────────\n",
       "___________________________________________________________                   \n",
       "                __________________________________________                    \n",
       "               ╱               3                        2                     \n",
       "              ╱      ⎛ 2      ⎞    ⎛   3               ⎞                      \n",
       "⋅b   27⋅c   ╲╱   - 4⋅⎝a  - 3⋅b⎠  + ⎝2⋅a  - 9⋅a⋅b + 27⋅c⎠                      \n",
       "── + ──── + ──────────────────────────────────────────────                    \n",
       "      2                           2                                           \n",
       "\n",
       "    ____________________________________________________________________⎤\n",
       "   ╱                         __________________________________________ ⎥\n",
       "  ╱                         ╱               3                        2  ⎥\n",
       " ╱                         ╱      ⎛ 2      ⎞    ⎛   3               ⎞   ⎥\n",
       "╱     3   9⋅a⋅b   27⋅c   ╲╱   - 4⋅⎝a  - 3⋅b⎠  + ⎝2⋅a  - 9⋅a⋅b + 27⋅c⎠   ⎥\n",
       "     a  - ───── + ──── + ────────────────────────────────────────────── ⎥\n",
       "            2      2                           2                        ⎥\n",
       "────────────────────────────────────────────────────────────────────────⎥\n",
       "                           3                                            ⎥\n",
       "                                                                        ⎥\n",
       "                                                                        ⎥\n",
       "                                                                        ⎥\n",
       "                                                                        ⎥\n",
       "                                                                        ⎥\n",
       "                                                                        ⎦"
      ]
     },
     "execution_count": 11,
     "metadata": {},
     "output_type": "execute_result"
    }
   ],
   "source": [
    "def cubic():\n",
    "    return solve(x**3 + a*x**2 + b*x + c, x)\n",
    "cubic()"
   ]
  },
  {
   "cell_type": "markdown",
   "metadata": {},
   "source": [
    "## Differential Equations"
   ]
  },
  {
   "cell_type": "markdown",
   "metadata": {},
   "source": [
    "A population that grows without bound is modeled by the differential equation\n",
    "\n",
    "$$f'(t)=af(t)$$\n",
    "\n",
    "Solve this differential equation using SymPy."
   ]
  },
  {
   "cell_type": "code",
   "execution_count": 18,
   "metadata": {},
   "outputs": [
    {
     "data": {
      "image/png": "[encoded data removed]",
      "text/latex": [
       "$\\displaystyle - a f{\\left(t \\right)} + \\frac{d}{d t} f{\\left(t \\right)}$"
      ],
      "text/plain": [
       "          d       \n",
       "-a⋅f(t) + ──(f(t))\n",
       "          dt      "
      ]
     },
     "execution_count": 18,
     "metadata": {},
     "output_type": "execute_result"
    }
   ],
   "source": [
    "f(t).diff(t) - a*f(t)"
   ]
  },
  {
   "cell_type": "code",
   "execution_count": 19,
   "metadata": {},
   "outputs": [
    {
     "data": {
      "image/png": "[encoded data removed]",
      "text/latex": [
       "$\\displaystyle f{\\left(t \\right)} = C_{1} e^{a t}$"
      ],
      "text/plain": [
       "           a⋅t\n",
       "f(t) = C₁⋅ℯ   "
      ]
     },
     "execution_count": 19,
     "metadata": {},
     "output_type": "execute_result"
    }
   ],
   "source": [
    "dsolve(f(t).diff(t) - a*f(t), f(t))"
   ]
  },
  {
   "cell_type": "markdown",
   "metadata": {},
   "source": [
    "If the population growth is bounded, it is modeled by \n",
    "\n",
    "$$f'(t) = f(t)(1 - f(t))$$"
   ]
  },
  {
   "cell_type": "code",
   "execution_count": 22,
   "metadata": {},
   "outputs": [],
   "source": [
    "F = f(t).diff(t) - f(t)*(1 - f(t))"
   ]
  },
  {
   "cell_type": "code",
   "execution_count": 23,
   "metadata": {},
   "outputs": [
    {
     "data": {
      "image/png": "[encoded data removed]",
      "text/latex": [
       "$\\displaystyle f{\\left(t \\right)} = \\frac{1}{C_{1} e^{- t} + 1}$"
      ],
      "text/plain": [
       "           1     \n",
       "f(t) = ──────────\n",
       "           -t    \n",
       "       C₁⋅ℯ   + 1"
      ]
     },
     "execution_count": 23,
     "metadata": {},
     "output_type": "execute_result"
    }
   ],
   "source": [
    "dsolve(F, f(t))"
   ]
  },
  {
   "cell_type": "code",
   "execution_count": 24,
   "metadata": {},
   "outputs": [
    {
     "data": {
      "image/png": "[encoded data removed]",
      "text/latex": [
       "$\\displaystyle f{\\left(t \\right)} = \\frac{1}{C_{1} e^{- t} + 1}$"
      ],
      "text/plain": [
       "           1     \n",
       "f(t) = ──────────\n",
       "           -t    \n",
       "       C₁⋅ℯ   + 1"
      ]
     },
     "execution_count": 24,
     "metadata": {},
     "output_type": "execute_result"
    }
   ],
   "source": [
    "dsolve(f(t).diff(t) - f(t)*(1 - f(t)), f(t))"
   ]
  },
  {
   "cell_type": "markdown",
   "metadata": {},
   "source": [
    "# Physics Equations Examples\n",
    "In physics, we may have a function which depends on a number of variables. As question makers, we may want to be able to vary which variables we give the student, and which we ask for: \n",
    "Version 1: A feather is dropped on the moon from a height of 1.40 meters. The acceleration of gravity on the moon is 1.67 m/s2. Determine the time for the feather to fall to the surface of the moon.\n",
    "Version 2: A feather is dropped on the moon from a height of 1.40 meters. The acceleration of gravity on the moon is 1.67 m/s2. Determine the time for the feather to fall to the surface of the moon.\n",
    "Version 3: A feather is dropped on the moon from a height of 1.40 meters. The acceleration of gravity on the moon is 1.67 m/s2. Determine the time for the feather to fall to the surface of the moon.\n"
   ]
  },
  {
   "cell_type": "code",
   "execution_count": 52,
   "metadata": {},
   "outputs": [],
   "source": [
    "d,v,a,t = symbols('d v a t')"
   ]
  },
  {
   "cell_type": "markdown",
   "metadata": {},
   "source": [
    "Version 1 Solution: "
   ]
  },
  {
   "cell_type": "code",
   "execution_count": 53,
   "metadata": {},
   "outputs": [],
   "source": [
    "time = solve(v*t + 0.5*a*t**2-d,t)\n"
   ]
  },
  {
   "cell_type": "code",
   "execution_count": 54,
   "metadata": {},
   "outputs": [
    {
     "data": {
      "image/png": "[encoded data removed]",
      "text/latex": [
       "$\\displaystyle \\left[ \\frac{- v + 1.4142135623731 \\sqrt{a d + 0.5 v^{2}}}{a}, \\  - \\frac{v + 1.4142135623731 \\sqrt{a d + 0.5 v^{2}}}{a}\\right]$"
      ],
      "text/plain": [
       "⎡                        ______________   ⎛                       ____________\n",
       "⎢                       ╱            2    ⎜                      ╱            \n",
       "⎢-v + 1.4142135623731⋅╲╱  a⋅d + 0.5⋅v    -⎝v + 1.4142135623731⋅╲╱  a⋅d + 0.5⋅v\n",
       "⎢──────────────────────────────────────, ─────────────────────────────────────\n",
       "⎣                  a                                         a                \n",
       "\n",
       "__⎞ ⎤\n",
       "2 ⎟ ⎥\n",
       "  ⎠ ⎥\n",
       "────⎥\n",
       "    ⎦"
      ]
     },
     "execution_count": 54,
     "metadata": {},
     "output_type": "execute_result"
    }
   ],
   "source": [
    "time"
   ]
  },
  {
   "cell_type": "code",
   "execution_count": 59,
   "metadata": {},
   "outputs": [],
   "source": [
    "values = {v:0,a:1.67,d:1.4}\n",
    "t0 = time[0]\n",
    "t1 = time[1]"
   ]
  },
  {
   "cell_type": "code",
   "execution_count": 61,
   "metadata": {},
   "outputs": [
    {
     "data": {
      "image/png": "[encoded data removed]",
      "text/latex": [
       "$\\displaystyle 1.29485393252939$"
      ],
      "text/plain": [
       "1.29485393252939"
      ]
     },
     "execution_count": 61,
     "metadata": {},
     "output_type": "execute_result"
    }
   ],
   "source": [
    "t0.subs(values)"
   ]
  },
  {
   "cell_type": "code",
   "execution_count": 62,
   "metadata": {},
   "outputs": [
    {
     "data": {
      "image/png": "[encoded data removed]",
      "text/latex": [
       "$\\displaystyle -1.29485393252939$"
      ],
      "text/plain": [
       "-1.29485393252939"
      ]
     },
     "execution_count": 62,
     "metadata": {},
     "output_type": "execute_result"
    }
   ],
   "source": [
    "t1.subs(values)"
   ]
  },
  {
   "cell_type": "code",
   "execution_count": null,
   "metadata": {},
   "outputs": [],
   "source": []
  }
 ],
 "metadata": {
  "kernelspec": {
   "display_name": "Python 3",
   "language": "python",
   "name": "python3"
  },
  "language_info": {
   "codemirror_mode": {
    "name": "ipython",
    "version": 3
   },
   "file_extension": ".py",
   "mimetype": "text/x-python",
   "name": "python",
   "nbconvert_exporter": "python",
   "pygments_lexer": "ipython3",
   "version": "3.8.5"
  }
 },
 "nbformat": 4,
 "nbformat_minor": 1
}
