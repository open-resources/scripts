{
 "cells": [
  {
   "cell_type": "markdown",
   "metadata": {},
   "source": [
    "# Read and Write YAML files in Python"
   ]
  },
  {
   "cell_type": "code",
   "execution_count": 1,
   "metadata": {},
   "outputs": [],
   "source": [
    "import yaml\n",
    "from pathlib import Path\n",
    "import sys"
   ]
  },
  {
   "cell_type": "markdown",
   "metadata": {},
   "source": [
    "## Read existing YAML file"
   ]
  },
  {
   "cell_type": "code",
   "execution_count": 2,
   "metadata": {},
   "outputs": [],
   "source": [
    "with open('test.yml', 'r') as file:\n",
    "    data = yaml.safe_load(file)"
   ]
  },
  {
   "cell_type": "code",
   "execution_count": 3,
   "metadata": {},
   "outputs": [
    {
     "data": {
      "text/plain": [
       "{'title': 'Question Title',\n",
       " 'type': 'mcq',\n",
       " 'tags': ['kinematics', 'test'],\n",
       " 'outcomes': ['LO.kinematics.2305', 'LO.kinematics.2304'],\n",
       " 'assets': ['chunk.md', 'ball.gif'],\n",
       " 'server': 'def generate(data):\\n  import random\\n\\n  # define bounds of the variables\\n  v = random.randint(2,7)\\n  t = random.randint(5,10)\\n\\n  # store the variables in the dictionary \"params\"\\n  data[\"params\"][\"a\"] = v\\n  data[\"params\"][\"b\"] = t\\n\\n  # define possible answers\\n  data[\"params\"][\"ans\"] = v*t\\n  data[\"params\"][\"ans1\"] = v+t\\n  data[\"params\"][\"ans2\"] = v/t\\n  data[\"params\"][\"ans3\"] = v-t\\n'}"
      ]
     },
     "execution_count": 3,
     "metadata": {},
     "output_type": "execute_result"
    }
   ],
   "source": [
    "data"
   ]
  },
  {
   "cell_type": "markdown",
   "metadata": {},
   "source": [
    "## Write server portion of YAML file to python file"
   ]
  },
  {
   "cell_type": "code",
   "execution_count": 4,
   "metadata": {},
   "outputs": [
    {
     "data": {
      "text/plain": [
       "381"
      ]
     },
     "execution_count": 4,
     "metadata": {},
     "output_type": "execute_result"
    }
   ],
   "source": [
    "Path(\"server.py\").write_text(data['server'])"
   ]
  },
  {
   "cell_type": "markdown",
   "metadata": {},
   "source": [
    "## Write python dictionary to yaml"
   ]
  },
  {
   "cell_type": "code",
   "execution_count": 5,
   "metadata": {},
   "outputs": [
    {
     "data": {
      "text/plain": [
       "557"
      ]
     },
     "execution_count": 5,
     "metadata": {},
     "output_type": "execute_result"
    }
   ],
   "source": [
    "# This solution is copied from this SO answer: https://stackoverflow.com/a/45004775/2217577 \n",
    "\n",
    "yaml.SafeDumper.org_represent_str = yaml.SafeDumper.represent_str\n",
    "\n",
    "def repr_str(dumper, data):\n",
    "    if '\\n' in data:\n",
    "        return dumper.represent_scalar(u'tag:yaml.org,2002:str', data, style='|')\n",
    "    return dumper.org_represent_str(data)\n",
    "\n",
    "yaml.add_representer(str, repr_str, Dumper=yaml.SafeDumper)\n",
    "\n",
    "Path(\"python_to_yml.yml\").write_text(yaml.safe_dump(data,sort_keys=False))"
   ]
  },
  {
   "cell_type": "markdown",
   "metadata": {},
   "source": [
    "## Check to make sure the exported YML file is exactly identical to the supplied file"
   ]
  },
  {
   "cell_type": "code",
   "execution_count": 6,
   "metadata": {},
   "outputs": [],
   "source": [
    "!diff test.yml python_to_yml.yml"
   ]
  },
  {
   "cell_type": "markdown",
   "metadata": {},
   "source": [
    "## Done!\n",
    "\n",
    "If the above diff is empty, you're done!"
   ]
  }
 ],
 "metadata": {
  "kernelspec": {
   "display_name": "Python 3",
   "language": "python",
   "name": "python3"
  },
  "language_info": {
   "codemirror_mode": {
    "name": "ipython",
    "version": 3
   },
   "file_extension": ".py",
   "mimetype": "text/x-python",
   "name": "python",
   "nbconvert_exporter": "python",
   "pygments_lexer": "ipython3",
   "version": "3.8.3"
  }
 },
 "nbformat": 4,
 "nbformat_minor": 4
}
