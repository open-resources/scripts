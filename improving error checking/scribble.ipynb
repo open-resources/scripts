{
 "cells": [
  {
   "cell_type": "code",
   "execution_count": 79,
   "source": [
    "import problem_bank_scripts as pbs\n",
    "import pandas as pd\n",
    "import pathlib"
   ],
   "outputs": [],
   "metadata": {}
  },
  {
   "cell_type": "code",
   "execution_count": 145,
   "source": [
    "md_path = pathlib.Path('practice.md')\n",
    "masterlist = pd.read_csv('Masterlist.csv')\n",
    "masterlist.head()"
   ],
   "outputs": [
    {
     "output_type": "execute_result",
     "data": {
      "text/plain": [
       "  Topic       Subtopic Subsubtopic  \\\n",
       "0  Math  Topic Outcome         NaN   \n",
       "1  Math  Topic Outcome         NaN   \n",
       "2  Math         Graphs         NaN   \n",
       "3  Math         Graphs         NaN   \n",
       "4  Math         Graphs         NaN   \n",
       "\n",
       "                                    Learning Outcome     Code  \n",
       "0                     Paste un-numbered outcome here  1.1.1.0  \n",
       "1                     Paste un-numbered outcome here  1.1.1.1  \n",
       "2  Calculate the total displacement given the pos...  1.2.1.0  \n",
       "3         Determine the total distance traveled.{85}  1.2.1.1  \n",
       "4  Calculate the average velocity given the displ...  1.2.1.2  "
      ],
      "text/html": [
       "<div>\n",
       "<style scoped>\n",
       "    .dataframe tbody tr th:only-of-type {\n",
       "        vertical-align: middle;\n",
       "    }\n",
       "\n",
       "    .dataframe tbody tr th {\n",
       "        vertical-align: top;\n",
       "    }\n",
       "\n",
       "    .dataframe thead th {\n",
       "        text-align: right;\n",
       "    }\n",
       "</style>\n",
       "<table border=\"1\" class=\"dataframe\">\n",
       "  <thead>\n",
       "    <tr style=\"text-align: right;\">\n",
       "      <th></th>\n",
       "      <th>Topic</th>\n",
       "      <th>Subtopic</th>\n",
       "      <th>Subsubtopic</th>\n",
       "      <th>Learning Outcome</th>\n",
       "      <th>Code</th>\n",
       "    </tr>\n",
       "  </thead>\n",
       "  <tbody>\n",
       "    <tr>\n",
       "      <th>0</th>\n",
       "      <td>Math</td>\n",
       "      <td>Topic Outcome</td>\n",
       "      <td>NaN</td>\n",
       "      <td>Paste un-numbered outcome here</td>\n",
       "      <td>1.1.1.0</td>\n",
       "    </tr>\n",
       "    <tr>\n",
       "      <th>1</th>\n",
       "      <td>Math</td>\n",
       "      <td>Topic Outcome</td>\n",
       "      <td>NaN</td>\n",
       "      <td>Paste un-numbered outcome here</td>\n",
       "      <td>1.1.1.1</td>\n",
       "    </tr>\n",
       "    <tr>\n",
       "      <th>2</th>\n",
       "      <td>Math</td>\n",
       "      <td>Graphs</td>\n",
       "      <td>NaN</td>\n",
       "      <td>Calculate the total displacement given the pos...</td>\n",
       "      <td>1.2.1.0</td>\n",
       "    </tr>\n",
       "    <tr>\n",
       "      <th>3</th>\n",
       "      <td>Math</td>\n",
       "      <td>Graphs</td>\n",
       "      <td>NaN</td>\n",
       "      <td>Determine the total distance traveled.{85}</td>\n",
       "      <td>1.2.1.1</td>\n",
       "    </tr>\n",
       "    <tr>\n",
       "      <th>4</th>\n",
       "      <td>Math</td>\n",
       "      <td>Graphs</td>\n",
       "      <td>NaN</td>\n",
       "      <td>Calculate the average velocity given the displ...</td>\n",
       "      <td>1.2.1.2</td>\n",
       "    </tr>\n",
       "  </tbody>\n",
       "</table>\n",
       "</div>"
      ]
     },
     "metadata": {},
     "execution_count": 145
    }
   ],
   "metadata": {}
  },
  {
   "cell_type": "code",
   "execution_count": 115,
   "source": [
    "parsed_yaml = pbs.read_md_problem(md_path)"
   ],
   "outputs": [],
   "metadata": {}
  },
  {
   "cell_type": "code",
   "execution_count": 116,
   "source": [
    "topics = masterlist['Topic'].unique()"
   ],
   "outputs": [],
   "metadata": {}
  },
  {
   "cell_type": "code",
   "execution_count": 117,
   "source": [
    "learning_outcomes = masterlist['Code'].unique()"
   ],
   "outputs": [],
   "metadata": {}
  },
  {
   "cell_type": "code",
   "execution_count": 118,
   "source": [
    "topics"
   ],
   "outputs": [
    {
     "output_type": "execute_result",
     "data": {
      "text/plain": [
       "array(['Math', 'Physics in General', 'Vectors', 'Kinematics(1D)',\n",
       "       'Kinematics(2D and 3D)', 'Force', 'Momentum and Impulse', 'Energy',\n",
       "       'Work', 'Rotational Motion', 'Rotational Dynamics', 'Gravitation',\n",
       "       'Fluids', 'Elasticity', 'Oscillations', 'Waves', 'Thermodynamics',\n",
       "       'Electrostatics', 'Magnetism', 'Electromagnetic Waves', 'Circuits'],\n",
       "      dtype=object)"
      ]
     },
     "metadata": {},
     "execution_count": 118
    }
   ],
   "metadata": {}
  },
  {
   "cell_type": "code",
   "execution_count": 119,
   "source": [
    "parsed_yaml"
   ],
   "outputs": [
    {
     "output_type": "execute_result",
     "data": {
      "text/plain": [
       "{'header': {'title': 'Displacement of a Vehicle',\n",
       "  'topic': 'Kinematics(1D)',\n",
       "  'author': 'Jake Bobowski',\n",
       "  'source': '2012 Midterm 1 Q1 Section 002',\n",
       "  'template_version': 1.1,\n",
       "  'attribution': 'standard',\n",
       "  'outcomes': ['4.1.1.0'],\n",
       "  'difficulty': ['undefined'],\n",
       "  'randomization': ['undefined'],\n",
       "  'taxonomy': ['undefined'],\n",
       "  'tags': ['PW'],\n",
       "  'assets': None,\n",
       "  'server': {'imports': 'import random as rd\\nimport pandas as pd\\nimport math\\nimport problem_bank_helpers as pbh\\nimport pathlib as pth\\nimport yaml\\n',\n",
       "   'generate': '# function for calculating the values based on the direction\\n# the direction pairs north-south and east-west are stored in a list as [NS,EW]\\n# c is the number of blocks moved in the direction passed to the function\\n# north and east are considered positive (cartesian plane)\\ndef calcDir(direction, c, dirlist):\\n    if direction == \\'north\\':\\n        dirlist[0] = dirlist[0] + c\\n    elif direction == \\'south\\':\\n        dirlist[0] = dirlist[0] - c\\n    elif direction == \\'east\\':\\n        dirlist[1] = dirlist[1] + c\\n    else: # west\\n        dirlist[1] = dirlist[1] - c\\n\\ndata2 = pbh.create_data2()\\n\\n# define or load names/items/objects\\nvehicles = pd.read_csv(\"data/vehicles.csv\")[\"Vehicles\"].tolist()\\n\\n# store phrases etc\\ndata2[\"params\"][\"vars\"][\"vehicle\"] = rd.choice(vehicles)\\ndata2[\"params\"][\"vars\"][\"title\"] = \"Displacement of a Vehicle\"\\ndata2[\"params\"][\"vars\"][\"units\"] = \"blocks\"\\n\\n# define bounds of the variables\\nc1 = rd.randint(2,100)\\nc2 = rd.randint(2,100)\\nc3 = rd.randint(2,100)\\n\\n# generate directions\\n# some restrictions need to be applied:\\n# two consecutive directions cannot be generated (it would not make sense)\\ndirections = [\\'north\\', \\'south\\', \\'east\\', \\'west\\']\\n\\ndir1 = rd.choice(directions)\\n\\ndirections2 = directions.copy()\\ndirections2.remove(dir1)\\ndir2 = rd.choice(directions2)\\n\\ndirections3 = directions.copy()\\ndirections3.remove(dir2)\\ndir3 = rd.choice(directions3)\\n\\n# store the variables in the dictionary \"params\"\\ndata2[\"params\"][\"c1\"] = c1\\ndata2[\"params\"][\"c2\"] = c2\\ndata2[\"params\"][\"c3\"] = c3\\ndata2[\"params\"][\"dir1\"] = dir1\\ndata2[\"params\"][\"dir2\"] = dir2\\ndata2[\"params\"][\"dir3\"] = dir3\\n\\n\\n# consider the pairs: (north-south) and (east-west) stored in a list as [NS, EW]\\n# both values are initialised to 0\\n# call the function to calculate values in the x-y direction\\ndirlist = [0,0]\\n\\ncalcDir(dir1, c1, dirlist)\\ncalcDir(dir2, c2, dirlist)\\ncalcDir(dir3, c3, dirlist)\\n\\n# caculate the magnitude\\nmag = math.sqrt(dirlist[0]**2 + dirlist[1]**2)\\n\\n# define correct answers\\ndata2[\"correct_answers\"][\"part1_ans\"] = mag\\n\\n# Update the data object with a new dict\\ndata.update(data2)\\n',\n",
       "   'prepare': 'pass\\n',\n",
       "   'parse': 'pass\\n',\n",
       "   'grade': 'pass\\n'},\n",
       "  'part1': {'type': 'number-input',\n",
       "   'pl-customizations': {'weight': 1,\n",
       "    'allow-blank': True,\n",
       "    'label': '$\\\\Delta r = $',\n",
       "    'suffix': 'blocks',\n",
       "    'comparison': 'sigfig',\n",
       "    'digits': 2}}},\n",
       " 'body_parts': {'title': '# {{ params.vars.title }}\\n',\n",
       "  'pl-submission-panel': '## pl-submission-panel\\n',\n",
       "  'pl-answer-panel': '## pl-answer-panel\\n',\n",
       "  'Rubric': '## Rubric\\n\\nThis should be hidden from students until after the deadline.\\n',\n",
       "  'Solution': '## Solution\\n\\nThis should never be revealed to students.\\n',\n",
       "  'Comments': '## Comments\\n\\nThese are random comments associated with this question.\\n',\n",
       "  'preamble': 'A {{ params.vars.vehicle }} moves {{ params.c1}} blocks due {{ params.dir1}}, {{ params.c2 }} blocks due {{ params.dir2}}, and another {{ params.c3 }} blocks due {{ params.dir3}}.\\n'},\n",
       " 'num_parts': 1,\n",
       " 'body_parts_split': {'part1': {'title': 'Question Text',\n",
       "   'answer': {'title': 'Answer Section\\n',\n",
       "    'content': 'Please enter in a numeric value in {{ params.vars.units }}.\\n'},\n",
       "   'content': \"Assume all blocks are of equal size. What is the magnitude of the {{ params.vars.vehicle }}'s displacement, start to finish?\\n\"},\n",
       "  'pl-submission-panel': '',\n",
       "  'pl-answer-panel': ''}}"
      ]
     },
     "metadata": {},
     "execution_count": 119
    }
   ],
   "metadata": {}
  },
  {
   "cell_type": "code",
   "execution_count": 120,
   "source": [
    "topic = parsed_yaml['header']['topic']\n",
    "topic"
   ],
   "outputs": [
    {
     "output_type": "execute_result",
     "data": {
      "text/plain": [
       "'Kinematics(1D)'"
      ]
     },
     "metadata": {},
     "execution_count": 120
    }
   ],
   "metadata": {}
  },
  {
   "cell_type": "code",
   "execution_count": 121,
   "source": [
    "template_version = parsed_yaml['header']['template_version']\n",
    "template_version"
   ],
   "outputs": [
    {
     "output_type": "execute_result",
     "data": {
      "text/plain": [
       "1.1"
      ]
     },
     "metadata": {},
     "execution_count": 121
    }
   ],
   "metadata": {}
  },
  {
   "cell_type": "code",
   "execution_count": 122,
   "source": [
    "outcomes = parsed_yaml['header']['outcomes']\n",
    "outcomes"
   ],
   "outputs": [
    {
     "output_type": "execute_result",
     "data": {
      "text/plain": [
       "['4.1.1.0']"
      ]
     },
     "metadata": {},
     "execution_count": 122
    }
   ],
   "metadata": {}
  },
  {
   "cell_type": "code",
   "execution_count": 123,
   "source": [
    "imports = parsed_yaml['header']['server']['imports']\n",
    "imports"
   ],
   "outputs": [
    {
     "output_type": "execute_result",
     "data": {
      "text/plain": [
       "'import random as rd\\nimport pandas as pd\\nimport math\\nimport problem_bank_helpers as pbh\\nimport pathlib as pth\\nimport yaml\\n'"
      ]
     },
     "metadata": {},
     "execution_count": 123
    }
   ],
   "metadata": {}
  },
  {
   "cell_type": "code",
   "execution_count": 124,
   "source": [
    "code = parsed_yaml['header']['server']['generate']\n",
    "code"
   ],
   "outputs": [
    {
     "output_type": "execute_result",
     "data": {
      "text/plain": [
       "'# function for calculating the values based on the direction\\n# the direction pairs north-south and east-west are stored in a list as [NS,EW]\\n# c is the number of blocks moved in the direction passed to the function\\n# north and east are considered positive (cartesian plane)\\ndef calcDir(direction, c, dirlist):\\n    if direction == \\'north\\':\\n        dirlist[0] = dirlist[0] + c\\n    elif direction == \\'south\\':\\n        dirlist[0] = dirlist[0] - c\\n    elif direction == \\'east\\':\\n        dirlist[1] = dirlist[1] + c\\n    else: # west\\n        dirlist[1] = dirlist[1] - c\\n\\ndata2 = pbh.create_data2()\\n\\n# define or load names/items/objects\\nvehicles = pd.read_csv(\"data/vehicles.csv\")[\"Vehicles\"].tolist()\\n\\n# store phrases etc\\ndata2[\"params\"][\"vars\"][\"vehicle\"] = rd.choice(vehicles)\\ndata2[\"params\"][\"vars\"][\"title\"] = \"Displacement of a Vehicle\"\\ndata2[\"params\"][\"vars\"][\"units\"] = \"blocks\"\\n\\n# define bounds of the variables\\nc1 = rd.randint(2,100)\\nc2 = rd.randint(2,100)\\nc3 = rd.randint(2,100)\\n\\n# generate directions\\n# some restrictions need to be applied:\\n# two consecutive directions cannot be generated (it would not make sense)\\ndirections = [\\'north\\', \\'south\\', \\'east\\', \\'west\\']\\n\\ndir1 = rd.choice(directions)\\n\\ndirections2 = directions.copy()\\ndirections2.remove(dir1)\\ndir2 = rd.choice(directions2)\\n\\ndirections3 = directions.copy()\\ndirections3.remove(dir2)\\ndir3 = rd.choice(directions3)\\n\\n# store the variables in the dictionary \"params\"\\ndata2[\"params\"][\"c1\"] = c1\\ndata2[\"params\"][\"c2\"] = c2\\ndata2[\"params\"][\"c3\"] = c3\\ndata2[\"params\"][\"dir1\"] = dir1\\ndata2[\"params\"][\"dir2\"] = dir2\\ndata2[\"params\"][\"dir3\"] = dir3\\n\\n\\n# consider the pairs: (north-south) and (east-west) stored in a list as [NS, EW]\\n# both values are initialised to 0\\n# call the function to calculate values in the x-y direction\\ndirlist = [0,0]\\n\\ncalcDir(dir1, c1, dirlist)\\ncalcDir(dir2, c2, dirlist)\\ncalcDir(dir3, c3, dirlist)\\n\\n# caculate the magnitude\\nmag = math.sqrt(dirlist[0]**2 + dirlist[1]**2)\\n\\n# define correct answers\\ndata2[\"correct_answers\"][\"part1_ans\"] = mag\\n\\n# Update the data object with a new dict\\ndata.update(data2)\\n'"
      ]
     },
     "metadata": {},
     "execution_count": 124
    }
   ],
   "metadata": {}
  },
  {
   "cell_type": "code",
   "execution_count": 125,
   "source": [
    "code_arr = code.split('\\n')\n",
    "code_arr"
   ],
   "outputs": [
    {
     "output_type": "execute_result",
     "data": {
      "text/plain": [
       "['# function for calculating the values based on the direction',\n",
       " '# the direction pairs north-south and east-west are stored in a list as [NS,EW]',\n",
       " '# c is the number of blocks moved in the direction passed to the function',\n",
       " '# north and east are considered positive (cartesian plane)',\n",
       " 'def calcDir(direction, c, dirlist):',\n",
       " \"    if direction == 'north':\",\n",
       " '        dirlist[0] = dirlist[0] + c',\n",
       " \"    elif direction == 'south':\",\n",
       " '        dirlist[0] = dirlist[0] - c',\n",
       " \"    elif direction == 'east':\",\n",
       " '        dirlist[1] = dirlist[1] + c',\n",
       " '    else: # west',\n",
       " '        dirlist[1] = dirlist[1] - c',\n",
       " '',\n",
       " 'data2 = pbh.create_data2()',\n",
       " '',\n",
       " '# define or load names/items/objects',\n",
       " 'vehicles = pd.read_csv(\"data/vehicles.csv\")[\"Vehicles\"].tolist()',\n",
       " '',\n",
       " '# store phrases etc',\n",
       " 'data2[\"params\"][\"vars\"][\"vehicle\"] = rd.choice(vehicles)',\n",
       " 'data2[\"params\"][\"vars\"][\"title\"] = \"Displacement of a Vehicle\"',\n",
       " 'data2[\"params\"][\"vars\"][\"units\"] = \"blocks\"',\n",
       " '',\n",
       " '# define bounds of the variables',\n",
       " 'c1 = rd.randint(2,100)',\n",
       " 'c2 = rd.randint(2,100)',\n",
       " 'c3 = rd.randint(2,100)',\n",
       " '',\n",
       " '# generate directions',\n",
       " '# some restrictions need to be applied:',\n",
       " '# two consecutive directions cannot be generated (it would not make sense)',\n",
       " \"directions = ['north', 'south', 'east', 'west']\",\n",
       " '',\n",
       " 'dir1 = rd.choice(directions)',\n",
       " '',\n",
       " 'directions2 = directions.copy()',\n",
       " 'directions2.remove(dir1)',\n",
       " 'dir2 = rd.choice(directions2)',\n",
       " '',\n",
       " 'directions3 = directions.copy()',\n",
       " 'directions3.remove(dir2)',\n",
       " 'dir3 = rd.choice(directions3)',\n",
       " '',\n",
       " '# store the variables in the dictionary \"params\"',\n",
       " 'data2[\"params\"][\"c1\"] = c1',\n",
       " 'data2[\"params\"][\"c2\"] = c2',\n",
       " 'data2[\"params\"][\"c3\"] = c3',\n",
       " 'data2[\"params\"][\"dir1\"] = dir1',\n",
       " 'data2[\"params\"][\"dir2\"] = dir2',\n",
       " 'data2[\"params\"][\"dir3\"] = dir3',\n",
       " '',\n",
       " '',\n",
       " '# consider the pairs: (north-south) and (east-west) stored in a list as [NS, EW]',\n",
       " '# both values are initialised to 0',\n",
       " '# call the function to calculate values in the x-y direction',\n",
       " 'dirlist = [0,0]',\n",
       " '',\n",
       " 'calcDir(dir1, c1, dirlist)',\n",
       " 'calcDir(dir2, c2, dirlist)',\n",
       " 'calcDir(dir3, c3, dirlist)',\n",
       " '',\n",
       " '# caculate the magnitude',\n",
       " 'mag = math.sqrt(dirlist[0]**2 + dirlist[1]**2)',\n",
       " '',\n",
       " '# define correct answers',\n",
       " 'data2[\"correct_answers\"][\"part1_ans\"] = mag',\n",
       " '',\n",
       " '# Update the data object with a new dict',\n",
       " 'data.update(data2)',\n",
       " '']"
      ]
     },
     "metadata": {},
     "execution_count": 125
    }
   ],
   "metadata": {}
  },
  {
   "cell_type": "code",
   "execution_count": 126,
   "source": [
    "imports_arr = imports.split('\\n')\n",
    "imports_arr"
   ],
   "outputs": [
    {
     "output_type": "execute_result",
     "data": {
      "text/plain": [
       "['import random as rd',\n",
       " 'import pandas as pd',\n",
       " 'import math',\n",
       " 'import problem_bank_helpers as pbh',\n",
       " 'import pathlib as pth',\n",
       " 'import yaml',\n",
       " '']"
      ]
     },
     "metadata": {},
     "execution_count": 126
    }
   ],
   "metadata": {}
  },
  {
   "cell_type": "code",
   "execution_count": 127,
   "source": [
    "imps = []\n",
    "for line in imports_arr:\n",
    "    if(line == ''):\n",
    "        continue\n",
    "    alias_check = line.find(' as')\n",
    "    if(alias_check != -1):\n",
    "        imps.append(line[alias_check+4:])\n",
    "    else:\n",
    "        imps.append(line[6:])"
   ],
   "outputs": [],
   "metadata": {}
  },
  {
   "cell_type": "code",
   "execution_count": 128,
   "source": [
    "imps"
   ],
   "outputs": [
    {
     "output_type": "execute_result",
     "data": {
      "text/plain": [
       "['rd', 'pd', ' math', 'pbh', 'pth', ' yaml']"
      ]
     },
     "metadata": {},
     "execution_count": 128
    }
   ],
   "metadata": {}
  },
  {
   "cell_type": "code",
   "execution_count": 129,
   "source": [
    "for line in code_arr:\n",
    "    if('#' in line): \n",
    "        continue\n",
    "    for imp in imps:\n",
    "        if ((imp+'.') in line):\n",
    "            imps.remove(imp)\n",
    "imps"
   ],
   "outputs": [
    {
     "output_type": "execute_result",
     "data": {
      "text/plain": [
       "['pth', ' yaml']"
      ]
     },
     "metadata": {},
     "execution_count": 129
    }
   ],
   "metadata": {}
  },
  {
   "cell_type": "code",
   "execution_count": 192,
   "source": [
    "def checkUnusedImport(imports, code):\n",
    "    imps = []\n",
    "    for line in imports:\n",
    "        if(line == ''):\n",
    "            continue\n",
    "        alias_check = line.find(' as')\n",
    "        if(alias_check != -1):\n",
    "            imps.append(line[alias_check+4:])\n",
    "        else:\n",
    "            imps.append(line[6:])\n",
    "        \n",
    "    for line in code:\n",
    "        if('#' in line): \n",
    "            continue\n",
    "        for imp in imps:\n",
    "            if ((imp+'.') in line):\n",
    "                imps.remove(imp)\n",
    "    if (len(imps) != 0):\n",
    "        return False\n",
    "    return True"
   ],
   "outputs": [],
   "metadata": {}
  },
  {
   "cell_type": "code",
   "execution_count": 193,
   "source": [
    "def checkTopic(topic):\n",
    "    topics = masterlist['Topic'].unique()\n",
    "    return topic in topics"
   ],
   "outputs": [],
   "metadata": {}
  },
  {
   "cell_type": "code",
   "execution_count": 194,
   "source": [
    "def checkLearningOutcome(outcome):\n",
    "    learning_outcomes = masterlist['Code'].unique()\n",
    "    return outcome in learning_outcomes"
   ],
   "outputs": [],
   "metadata": {}
  },
  {
   "cell_type": "code",
   "execution_count": 195,
   "source": [
    "def checkTemplateVersion(version):\n",
    "    template_version = 1.1\n",
    "    return template_version == version"
   ],
   "outputs": [],
   "metadata": {}
  },
  {
   "cell_type": "code",
   "execution_count": 199,
   "source": [
    "def syntaxCheck(md_path):\n",
    "    \n",
    "    masterlist = pd.read_csv('Masterlist.csv')\n",
    "    parsed_yaml = pbs.read_md_problem(md_path)\n",
    "    imports = parsed_yaml['header']['server']['imports'].split('\\n')\n",
    "    code = parsed_yaml['header']['server']['generate'].split('\\n')\n",
    "    topic = parsed_yaml['header']['topic']\n",
    "    learning_outcomes = parsed_yaml['header']['outcomes']\n",
    "    template_version = parsed_yaml['header']['template_version']\n",
    "    \n",
    "    if(checkTopic(topic) and checkLearningOutcome(learning_outcomes) and checkTemplateVersion(template_version) and checkUnusedImport(imports, code)):\n",
    "        return True\n",
    "    return False\n"
   ],
   "outputs": [],
   "metadata": {}
  },
  {
   "cell_type": "code",
   "execution_count": 200,
   "source": [
    "syntaxCheck(pathlib.Path('practice.md'))"
   ],
   "outputs": [
    {
     "output_type": "execute_result",
     "data": {
      "text/plain": [
       "True"
      ]
     },
     "metadata": {},
     "execution_count": 200
    }
   ],
   "metadata": {}
  },
  {
   "cell_type": "code",
   "execution_count": 201,
   "source": [
    "syntaxCheck(pathlib.Path('practice2.md'))"
   ],
   "outputs": [
    {
     "output_type": "execute_result",
     "data": {
      "text/plain": [
       "False"
      ]
     },
     "metadata": {},
     "execution_count": 201
    }
   ],
   "metadata": {}
  },
  {
   "cell_type": "code",
   "execution_count": null,
   "source": [],
   "outputs": [],
   "metadata": {}
  },
  {
   "cell_type": "code",
   "execution_count": null,
   "source": [],
   "outputs": [],
   "metadata": {}
  }
 ],
 "metadata": {
  "kernelspec": {
   "display_name": "Python 3",
   "language": "python",
   "name": "python3"
  },
  "language_info": {
   "codemirror_mode": {
    "name": "ipython",
    "version": 3
   },
   "file_extension": ".py",
   "mimetype": "text/x-python",
   "name": "python",
   "nbconvert_exporter": "python",
   "pygments_lexer": "ipython3",
   "version": "3.9.5"
  }
 },
 "nbformat": 4,
 "nbformat_minor": 5
}